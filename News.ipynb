{
  "nbformat": 4,
  "nbformat_minor": 0,
  "metadata": {
    "colab": {
      "name": "News.ipynb",
      "private_outputs": true,
      "provenance": [],
      "collapsed_sections": [],
      "include_colab_link": true
    },
    "kernelspec": {
      "name": "python3",
      "display_name": "Python 3"
    }
  },
  "cells": [
    {
      "cell_type": "markdown",
      "metadata": {
        "id": "view-in-github",
        "colab_type": "text"
      },
      "source": [
        "<a href=\"https://colab.research.google.com/github/kevinOriginal/news-recommender/blob/main/News.ipynb\" target=\"_parent\"><img src=\"https://colab.research.google.com/assets/colab-badge.svg\" alt=\"Open In Colab\"/></a>"
      ]
    },
    {
      "cell_type": "markdown",
      "metadata": {
        "id": "U7xwaRe7DnYH"
      },
      "source": [
        "# Big Data Term Project\n",
        "- 2020 - 2 CAU Big Data Term Project\n",
        "- News Recommendation System"
      ]
    },
    {
      "cell_type": "markdown",
      "metadata": {
        "id": "2nSmqPLvDjuT"
      },
      "source": [
        "import library"
      ]
    },
    {
      "cell_type": "code",
      "metadata": {
        "id": "9sYT3Qwj_xap"
      },
      "source": [
        "from glob import glob\n",
        "import math\n",
        "import pandas as pd\n",
        "import pyarrow.parquet as pq\n",
        "import numpy as np\n",
        "import matplotlib.pyplot as plt "
      ],
      "execution_count": null,
      "outputs": []
    },
    {
      "cell_type": "markdown",
      "metadata": {
        "id": "ZmEcwTpYELPc"
      },
      "source": [
        "## 1. Get Data"
      ]
    },
    {
      "cell_type": "markdown",
      "metadata": {
        "id": "1lfyA6MdDdgR"
      },
      "source": [
        "Get Crowling Data"
      ]
    },
    {
      "cell_type": "code",
      "metadata": {
        "id": "ApZzCdLV-dm6"
      },
      "source": [
        "from google.colab import drive\n",
        "drive.mount('/content/drive')"
      ],
      "execution_count": null,
      "outputs": []
    },
    {
      "cell_type": "code",
      "metadata": {
        "id": "65lBaoSj-8pt"
      },
      "source": [
        "path = '/content/drive/MyDrive/BigData/newsdata/'\n",
        "files = sorted(glob('./**/*.parquet' ,recursive=True))"
      ],
      "execution_count": null,
      "outputs": []
    },
    {
      "cell_type": "code",
      "metadata": {
        "id": "INX9BhX0-s7I"
      },
      "source": [
        "print(len(files))"
      ],
      "execution_count": null,
      "outputs": []
    },
    {
      "cell_type": "markdown",
      "metadata": {
        "id": "LWBYp_UOEJQW"
      },
      "source": [
        "## 2. Data Processing"
      ]
    },
    {
      "cell_type": "markdown",
      "metadata": {
        "id": "alC9zQ9oeL-Y"
      },
      "source": [
        "- parquet 데이터를 pandas로 읽어와 필요한 feature만 가져온다.\n",
        "- maskedId 의 **** 를 제거하고 idNo와 붙인다."
      ]
    },
    {
      "cell_type": "code",
      "metadata": {
        "id": "zBuGqaNHcDcO"
      },
      "source": [
        "data = []\n",
        "for i in range (0, len(files)):\n",
        "  df = pd.read_parquet(files[i])\n",
        "  data_select = df.loc[:, ['idNo','maskedUserId','templateId','objectId','sympathyCount', 'antipathyCount']]\n",
        "\n",
        "  # maskedId 뒤에 **** 제거\n",
        "  id_split = data_select['maskedUserId'].str.split(\"*\")\n",
        "  process_id = id_split.str[0]\n",
        "  data_select['maskedUserId'] = process_id\n",
        "\n",
        "  data.append(data_select)\n",
        "  print(i+1, \" data is processing...\")"
      ],
      "execution_count": null,
      "outputs": []
    },
    {
      "cell_type": "markdown",
      "metadata": {
        "id": "r3cvCu51BP8N"
      },
      "source": [
        "- 각 날짜의 데이터 이어 붙이기"
      ]
    },
    {
      "cell_type": "code",
      "metadata": {
        "id": "EIOyDc8LA6bt"
      },
      "source": [
        "result = pd.concat([data[0],data[1],data[2],data[3],data[4],data[5],data[6],\n",
        "                    data[7],data[8],data[9],data[10],data[11],data[12],data[13]], ignore_index=True)"
      ],
      "execution_count": null,
      "outputs": []
    },
    {
      "cell_type": "markdown",
      "metadata": {
        "id": "FYP9mRI-XqnG"
      },
      "source": [
        "- 결측값 있는 행 제거하기"
      ]
    },
    {
      "cell_type": "code",
      "metadata": {
        "id": "CYvb6RUpBU9Z"
      },
      "source": [
        "# 결측값 데이터 조회 --> idNo에 169621개\n",
        "result.isnull().sum()"
      ],
      "execution_count": null,
      "outputs": []
    },
    {
      "cell_type": "code",
      "metadata": {
        "id": "3NGfjJ_LY4Rs"
      },
      "source": [
        "# 결측값 존재시 drop\n",
        "notnull_result = result.dropna()  # NULL 값 제거\n",
        "notnull_result = notnull_result[notnull_result.idNo != ''] # 공백 데이터 제거"
      ],
      "execution_count": null,
      "outputs": []
    },
    {
      "cell_type": "code",
      "metadata": {
        "id": "0sARSObkZV40"
      },
      "source": [
        "# 결측값이 제거된 것을 확인\n",
        "notnull_result.isnull().sum()"
      ],
      "execution_count": null,
      "outputs": []
    },
    {
      "cell_type": "code",
      "metadata": {
        "id": "GGeaQ5K4Zoot"
      },
      "source": [
        "# userId 생성 (maskedUserId + idNo)\n",
        "notnull_result[\"userId\"] = notnull_result['maskedUserId'].map(str) + notnull_result['idNo']\n",
        "notnull_result = notnull_result.reset_index(drop=True)"
      ],
      "execution_count": null,
      "outputs": []
    },
    {
      "cell_type": "code",
      "metadata": {
        "id": "-Bt57iSs-ERM"
      },
      "source": [
        "# Sum of 좋아요 + 싫어요, 좋아요/Sum, 싫어요/Sum\n",
        "notnull_result['like+hate'] = notnull_result['sympathyCount'] + notnull_result['antipathyCount']\n",
        "notnull_result['likeRatio'] = notnull_result['sympathyCount'] / notnull_result['like+hate']\n",
        "notnull_result['hateRatio'] = notnull_result['antipathyCount'] / notnull_result['like+hate']"
      ],
      "execution_count": null,
      "outputs": []
    },
    {
      "cell_type": "code",
      "metadata": {
        "id": "msP68Y4sby8o"
      },
      "source": [
        "notnull_result.head() # 마지막 열에 추가된 것을 확인"
      ],
      "execution_count": null,
      "outputs": []
    },
    {
      "cell_type": "markdown",
      "metadata": {
        "id": "fShPG4TXX8NI"
      },
      "source": [
        "- 좋아요/싫어요 ratio 가 0인 경우가 대다수 & null값도 많음,,"
      ]
    },
    {
      "cell_type": "code",
      "metadata": {
        "id": "8EQDGd8gYDix"
      },
      "source": [
        "notnull_result.isnull().sum() # null값 643918개"
      ],
      "execution_count": null,
      "outputs": []
    },
    {
      "cell_type": "code",
      "metadata": {
        "id": "mMpW2u19YJ_E"
      },
      "source": [
        "sum(notnull_result['likeRatio'] == 0) # 0값 = 119825"
      ],
      "execution_count": null,
      "outputs": []
    },
    {
      "cell_type": "code",
      "metadata": {
        "id": "BXruMWAnf71u"
      },
      "source": [
        "notnull_result.to_parquet(path + '/notnull_result.parquet')"
      ],
      "execution_count": null,
      "outputs": []
    },
    {
      "cell_type": "markdown",
      "metadata": {
        "id": "_73Z2__yV39m"
      },
      "source": [
        "## 3. 댓글 분포 visualization\n",
        "- 가로 축: user의 댓글 수 (최소 1개 ~ 최대 238개)\n",
        "- 세로 축: user수 (예: 2주 동안 댓글을 7개 단 user 수) "
      ]
    },
    {
      "cell_type": "code",
      "metadata": {
        "id": "zj7bzHgmmvQT"
      },
      "source": [
        "news_df = notnull_result.loc[:, ['userId','objectId']]\n",
        "news_df = news_df.sort_values(by = ['userId'])\n",
        "# userid로 묶어서 총 댓글 갯수 확인\n",
        "news_df = news_df.groupby('userId').count()\n",
        "news_df = news_df.sort_values(by = ['objectId'])\n",
        "news_df['userId'] = news_df.index\n",
        "news_group = news_df.set_index('objectId')\n",
        "news_group = news_group.groupby('objectId').count()\n",
        "\n",
        "\n",
        "plt.rcParams['figure.figsize'] = [25, 10]\n",
        "bar = news_group.plot.bar(grid = False)\n",
        "plt.xlabel('Reply news count')\n",
        "plt.ylabel('User count')\n",
        "plt.show()\n",
        "plt.savefig('reply count')"
      ],
      "execution_count": null,
      "outputs": []
    },
    {
      "cell_type": "code",
      "metadata": {
        "id": "9etM8jxx5v_N"
      },
      "source": [
        "news_group"
      ],
      "execution_count": null,
      "outputs": []
    },
    {
      "cell_type": "code",
      "metadata": {
        "id": "PLhL3HDegKO2"
      },
      "source": [
        "# 댓글 100개 이상 단 유저 수\n",
        "news_group[(news_group.index >= 10)].sum()"
      ],
      "execution_count": null,
      "outputs": []
    },
    {
      "cell_type": "markdown",
      "metadata": {
        "id": "RYq7Wt6gWD1w"
      },
      "source": [
        "##3. Vector 만들기"
      ]
    },
    {
      "cell_type": "code",
      "metadata": {
        "id": "_ohqBu555bqC"
      },
      "source": [
        "notnull_result"
      ],
      "execution_count": null,
      "outputs": []
    },
    {
      "cell_type": "code",
      "metadata": {
        "id": "o9YUpGP0w0Lc"
      },
      "source": [
        "# 결측값이 제거된 DataFrame에서 userid와 objectId 가져오기\n",
        "user_news = notnull_result.loc[:, ['objectId','userId']]\n",
        "user_news = user_news.sort_values(by = ['userId'])\n",
        "user_news = user_news.reset_index(drop=True)\n",
        "user_news"
      ],
      "execution_count": null,
      "outputs": []
    },
    {
      "cell_type": "code",
      "metadata": {
        "id": "EZhvRReH60ct"
      },
      "source": [
        "# 같은 기사에 여러 개의 댓글을 다는 경우\r\n",
        "user_news[user_news.duplicated([\"objectId\",\"userId\"], keep=False)]"
      ],
      "execution_count": null,
      "outputs": []
    },
    {
      "cell_type": "code",
      "metadata": {
        "id": "fPnqfQrPP4xs"
      },
      "source": [
        "# 한 사람이 같은 뉴스 기사에 여러 개의 댓글을 다는 경우 제거\n",
        "user_news = user_news.drop_duplicates([\"objectId\",\"userId\"], keep = \"first\")\n",
        "user_news = user_news.set_index('userId')"
      ],
      "execution_count": null,
      "outputs": []
    },
    {
      "cell_type": "code",
      "metadata": {
        "id": "Ju_SM81mQzCd"
      },
      "source": [
        "user_news"
      ],
      "execution_count": null,
      "outputs": []
    },
    {
      "cell_type": "markdown",
      "metadata": {
        "id": "7IL5ZIUWhXrY"
      },
      "source": [
        "* one-hot encoding"
      ]
    },
    {
      "cell_type": "code",
      "metadata": {
        "id": "OZYB_RlGQIZn"
      },
      "source": [
        "user_vector = pd.get_dummies(user_news['objectId'])\r\n",
        "user_vector"
      ],
      "execution_count": null,
      "outputs": []
    },
    {
      "cell_type": "code",
      "metadata": {
        "id": "ajIMFJVHRU97"
      },
      "source": [
        "user_vector = user_vector.groupby(level=0).sum()\n",
        "\n",
        "# parquet & csv로 변환\n",
        "user_vector.to_parquet(path + '/user_vector.parquet')\n",
        "user_vector.to_csv(path + '/user_vector_index.csv', header=True, index= True)\n",
        "user_vector.to_csv(path + '/user_vector.csv', header=False, index= False)"
      ],
      "execution_count": null,
      "outputs": []
    },
    {
      "cell_type": "markdown",
      "metadata": {
        "id": "hSlu_NoPTQqo"
      },
      "source": [
        "## Normalization"
      ]
    },
    {
      "cell_type": "code",
      "metadata": {
        "id": "iJAuyDyNTDTx"
      },
      "source": [
        "# 코랩 경로에 user_vector.parquet 넣기\r\n",
        "vector = pd.read_parquet('/content/user_vector.parquet')\r\n",
        "norm_vector = vector[vector.sum(axis = 1) >= 10] # 10보다 크면 TRUE, TRUE 값만 가지고 오기\r\n",
        "norm_vector.to_parquet('/content/norm_vector.parquet')"
      ],
      "execution_count": null,
      "outputs": []
    }
  ]
}