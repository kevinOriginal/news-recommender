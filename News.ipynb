{
  "nbformat": 4,
  "nbformat_minor": 0,
  "metadata": {
    "colab": {
      "name": "News.ipynb",
      "private_outputs": true,
      "provenance": [],
      "mount_file_id": "15SzFK4Y6tQRoKOLtkzbQTCV4xRlKs_8i",
      "authorship_tag": "ABX9TyOq7bMbxin5+4cMZXo+4js8",
      "include_colab_link": true
    },
    "kernelspec": {
      "name": "python3",
      "display_name": "Python 3"
    }
  },
  "cells": [
    {
      "cell_type": "markdown",
      "metadata": {
        "id": "view-in-github",
        "colab_type": "text"
      },
      "source": [
        "<a href=\"https://colab.research.google.com/github/kevinOriginal/news-recommender/blob/main/News.ipynb\" target=\"_parent\"><img src=\"https://colab.research.google.com/assets/colab-badge.svg\" alt=\"Open In Colab\"/></a>"
      ]
    },
    {
      "cell_type": "markdown",
      "metadata": {
        "id": "U7xwaRe7DnYH"
      },
      "source": [
        "# Big Data Term Project\n",
        "- 2020 - 2 CAU Big Data Term Project\n",
        "- News Recommendation System"
      ]
    },
    {
      "cell_type": "markdown",
      "metadata": {
        "id": "2nSmqPLvDjuT"
      },
      "source": [
        "import library"
      ]
    },
    {
      "cell_type": "code",
      "metadata": {
        "id": "9sYT3Qwj_xap"
      },
      "source": [
        "from glob import glob\n",
        "import pandas as pd"
      ],
      "execution_count": null,
      "outputs": []
    },
    {
      "cell_type": "markdown",
      "metadata": {
        "id": "ZmEcwTpYELPc"
      },
      "source": [
        "## 1. Get Data"
      ]
    },
    {
      "cell_type": "markdown",
      "metadata": {
        "id": "1lfyA6MdDdgR"
      },
      "source": [
        "Get Crowling Data"
      ]
    },
    {
      "cell_type": "code",
      "metadata": {
        "id": "65lBaoSj-8pt"
      },
      "source": [
        "path = '/content/drive/MyDrive/newsdata/'\n",
        "files = sorted(glob('./**/*.parquet' ,recursive=True))"
      ],
      "execution_count": null,
      "outputs": []
    },
    {
      "cell_type": "markdown",
      "metadata": {
        "id": "vOdjMjvoC-GE"
      },
      "source": [
        "Convert .parquet to .csv"
      ]
    },
    {
      "cell_type": "code",
      "metadata": {
        "id": "WIDLmpBHBtpa"
      },
      "source": [
        "date = 20200401\n",
        "\n",
        "for i in range (0, len(files)):\n",
        "  df = files[i]\n",
        "  pd.read_parquet(df).to_csv(str(date +i) + '.csv')\n",
        "  print(date +i, \" is converted...\")"
      ],
      "execution_count": null,
      "outputs": []
    },
    {
      "cell_type": "markdown",
      "metadata": {
        "id": "LWBYp_UOEJQW"
      },
      "source": [
        "## 2. Data Processing"
      ]
    },
    {
      "cell_type": "code",
      "metadata": {
        "id": "pp3knEQkEIl0"
      },
      "source": [
        "data = pd.read_csv(\"20200401.csv\")\n",
        "data.head(20)"
      ],
      "execution_count": null,
      "outputs": []
    }
  ]
}