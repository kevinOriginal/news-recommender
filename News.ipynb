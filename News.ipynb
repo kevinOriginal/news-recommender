{
  "nbformat": 4,
  "nbformat_minor": 0,
  "metadata": {
    "colab": {
      "name": "News.ipynb",
      "private_outputs": true,
      "provenance": [],
      "include_colab_link": true
    },
    "kernelspec": {
      "name": "python3",
      "display_name": "Python 3"
    }
  },
  "cells": [
    {
      "cell_type": "markdown",
      "metadata": {
        "id": "view-in-github",
        "colab_type": "text"
      },
      "source": [
        "<a href=\"https://colab.research.google.com/github/kevinOriginal/news-recommender/blob/main/News.ipynb\" target=\"_parent\"><img src=\"https://colab.research.google.com/assets/colab-badge.svg\" alt=\"Open In Colab\"/></a>"
      ]
    },
    {
      "cell_type": "markdown",
      "metadata": {
        "id": "U7xwaRe7DnYH"
      },
      "source": [
        "# Big Data Term Project\n",
        "- 2020 - 2 CAU Big Data Term Project\n",
        "- News Recommendation System"
      ]
    },
    {
      "cell_type": "markdown",
      "metadata": {
        "id": "2nSmqPLvDjuT"
      },
      "source": [
        "import library"
      ]
    },
    {
      "cell_type": "code",
      "metadata": {
        "id": "9sYT3Qwj_xap"
      },
      "source": [
        "from glob import glob\n",
        "import math\n",
        "import pandas as pd\n",
        "import pyarrow.parquet as pq\n",
        "import numpy as np\n",
        "import matplotlib.pyplot as plt "
      ],
      "execution_count": null,
      "outputs": []
    },
    {
      "cell_type": "markdown",
      "metadata": {
        "id": "ZmEcwTpYELPc"
      },
      "source": [
        "## 1. Get Data"
      ]
    },
    {
      "cell_type": "markdown",
      "metadata": {
        "id": "1lfyA6MdDdgR"
      },
      "source": [
        "Get Crowling Data"
      ]
    },
    {
      "cell_type": "code",
      "metadata": {
        "id": "ApZzCdLV-dm6"
      },
      "source": [
        "from google.colab import drive\n",
        "drive.mount('/content/drive')"
      ],
      "execution_count": null,
      "outputs": []
    },
    {
      "cell_type": "code",
      "metadata": {
        "id": "65lBaoSj-8pt"
      },
      "source": [
        "path = '/content/drive/MyDrive/newsdata/'\n",
        "files = sorted(glob('./**/*.parquet' ,recursive=True))"
      ],
      "execution_count": null,
      "outputs": []
    },
    {
      "cell_type": "code",
      "metadata": {
        "id": "INX9BhX0-s7I"
      },
      "source": [
        "print(files)"
      ],
      "execution_count": null,
      "outputs": []
    },
    {
      "cell_type": "markdown",
      "metadata": {
        "id": "vOdjMjvoC-GE"
      },
      "source": [
        "Convert .parquet to .csv"
      ]
    },
    {
      "cell_type": "code",
      "metadata": {
        "id": "WIDLmpBHBtpa"
      },
      "source": [
        "date = 20200401\n",
        "# 이거는 혹시나 .csv 만들 때 쓰려고 한거라서 안쓰는 코드\n",
        "for i in range (0, len(files)):\n",
        "  df = files[i]\n",
        "  pd.read_parquet(df).to_csv(str(date +i) + '.csv')\n",
        "  print(date +i, \" is converted...\")"
      ],
      "execution_count": null,
      "outputs": []
    },
    {
      "cell_type": "markdown",
      "metadata": {
        "id": "LWBYp_UOEJQW"
      },
      "source": [
        "## 2. Data Processing"
      ]
    },
    {
      "cell_type": "markdown",
      "metadata": {
        "id": "alC9zQ9oeL-Y"
      },
      "source": [
        "- parquet 데이터를 pandas로 읽어와 필요한 feature만 가져온다.\n",
        "- maskedId 의 **** 를 제거하고 idNo와 붙인다."
      ]
    },
    {
      "cell_type": "code",
      "metadata": {
        "id": "zBuGqaNHcDcO"
      },
      "source": [
        "data = []\n",
        "for i in range (0, len(files)):\n",
        "  df = pd.read_parquet(files[i])\n",
        "  data_select = df.loc[:, ['idNo','maskedUserId','templateId','objectId','sympathyCount', 'antipathyCount']]\n",
        "\n",
        "  # maskedId 뒤에 **** 제거\n",
        "  id_split = data_select['maskedUserId'].str.split(\"*\")\n",
        "  process_id = id_split.str[0]\n",
        "  data_select['maskedUserId'] = process_id\n",
        "\n",
        "  data.append(data_select)\n",
        "  print(i+1, \" data is processing...\")"
      ],
      "execution_count": null,
      "outputs": []
    },
    {
      "cell_type": "markdown",
      "metadata": {
        "id": "r3cvCu51BP8N"
      },
      "source": [
        "각 날짜의 데이터 이어 붙이기"
      ]
    },
    {
      "cell_type": "code",
      "metadata": {
        "id": "EIOyDc8LA6bt"
      },
      "source": [
        "result = pd.concat([data[0],data[1],data[2],data[3],data[4],data[5],data[6],\n",
        "                    data[7],data[8],data[9],data[10],data[11],data[12],data[13]], ignore_index=True)"
      ],
      "execution_count": null,
      "outputs": []
    },
    {
      "cell_type": "code",
      "metadata": {
        "id": "CYvb6RUpBU9Z"
      },
      "source": [
        "# 결측값 데이터 조회 --> idNo에 169621개\n",
        "result.isnull().sum()"
      ],
      "execution_count": null,
      "outputs": []
    },
    {
      "cell_type": "code",
      "metadata": {
        "id": "3NGfjJ_LY4Rs"
      },
      "source": [
        "# 결측값 존재시 drop\n",
        "notnull_result = result.dropna()  # NULL 값 제거\n",
        "notnull_result = notnull_result[notnull_result.idNo != ''] # 공백 데이터 제거"
      ],
      "execution_count": null,
      "outputs": []
    },
    {
      "cell_type": "code",
      "metadata": {
        "id": "0sARSObkZV40"
      },
      "source": [
        "# 결측값이 제거된 것을 확인\n",
        "notnull_result.isnull().sum()"
      ],
      "execution_count": null,
      "outputs": []
    },
    {
      "cell_type": "code",
      "metadata": {
        "id": "GGeaQ5K4Zoot"
      },
      "source": [
        "# userId 생성 (maskedUserId + idNo)\n",
        "notnull_result[\"userId\"] = notnull_result['maskedUserId'].map(str) + notnull_result['idNo']\n",
        "notnull_result = notnull_result.reset_index(drop=True)"
      ],
      "execution_count": null,
      "outputs": []
    },
    {
      "cell_type": "code",
      "metadata": {
        "id": "-Bt57iSs-ERM"
      },
      "source": [
        "# Sum of 좋아요 + 싫어요, 좋아요/Sum, 싫어요/Sum\n",
        "notnull_result['like+hate'] = notnull_result['sympathyCount'] + notnull_result['antipathyCount']\n",
        "notnull_result['likeRatio'] = notnull_result['sympathyCount'] / notnull_result['like+hate']\n",
        "notnull_result['hateRatio'] = notnull_result['antipathyCount'] / notnull_result['like+hate']"
      ],
      "execution_count": null,
      "outputs": []
    },
    {
      "cell_type": "code",
      "metadata": {
        "id": "msP68Y4sby8o"
      },
      "source": [
        "notnull_result.head() # 마지막 열에 추가된 것을 확인"
      ],
      "execution_count": null,
      "outputs": []
    },
    {
      "cell_type": "markdown",
      "metadata": {
        "id": "RYq7Wt6gWD1w"
      },
      "source": [
        "##3. Vector 만들기"
      ]
    },
    {
      "cell_type": "code",
      "metadata": {
        "id": "pRIyoPhV_lFs"
      },
      "source": [
        "# 결측값이 제거된 DataFrame에서 objectId 가져오기\n",
        "news = notnull_result.loc[:, ['objectId']]\n",
        "news = news.drop_duplicates(['objectId']) # 중복된 news id 제거\n",
        "news = news.sort_values(by = ['objectId'])\n",
        "news = news.reset_index(drop=True)\n",
        "news.head()"
      ],
      "execution_count": null,
      "outputs": []
    },
    {
      "cell_type": "code",
      "metadata": {
        "id": "JWbuYrbuAJtz"
      },
      "source": [
        "# 결측값이 제거된 DataFrame에서 userId 가져오기\n",
        "user = notnull_result.loc[:, ['userId']]\n",
        "user = user.drop_duplicates(['userId']) # 중복된 user id 제거\n",
        "user = user.sort_values(by = ['userId'])\n",
        "user = user.reset_index(drop=True)\n",
        "user.head()"
      ],
      "execution_count": null,
      "outputs": []
    },
    {
      "cell_type": "code",
      "metadata": {
        "id": "o9YUpGP0w0Lc"
      },
      "source": [
        "# 결측값이 제거된 DataFrame에서 userid와 objectId 가져오기\n",
        "user_news = notnull_result.loc[:, ['userId','objectId']]\n",
        "user_news = user_news.sort_values(by = ['userId'])\n",
        "user_news = user_news.reset_index(drop=True)\n",
        "user_news.head()"
      ],
      "execution_count": null,
      "outputs": []
    },
    {
      "cell_type": "code",
      "metadata": {
        "id": "gPkDyk4DWyV1"
      },
      "source": [
        "notnull_result.isnull().sum()"
      ],
      "execution_count": null,
      "outputs": []
    },
    {
      "cell_type": "code",
      "metadata": {
        "id": "Tmden3bXW0Sc"
      },
      "source": [
        "notnull_result.notnull().sum()"
      ],
      "execution_count": null,
      "outputs": []
    },
    {
      "cell_type": "code",
      "metadata": {
        "id": "7Q94GqipVGXW"
      },
      "source": [
        "# 결측값이 제거된 DataFrame에서 userid와 objectId 가져오기\n",
        "data = notnull_result.loc[:, ['userId','objectId','likeRatio','hateRatio']]\n",
        "data = data.sort_values(by = ['userId'])\n",
        "data = data.reset_index(drop=True)\n",
        "data.head()"
      ],
      "execution_count": null,
      "outputs": []
    },
    {
      "cell_type": "markdown",
      "metadata": {
        "id": "_73Z2__yV39m"
      },
      "source": [
        "뉴스 데이터 visualization"
      ]
    },
    {
      "cell_type": "code",
      "metadata": {
        "id": "zj7bzHgmmvQT"
      },
      "source": [
        "news_df = notnull_result.loc[:, ['userId','objectId']]\n",
        "news_df = news_df.sort_values(by = ['userId'])\n",
        "# userid로 묶어서 총 댓글 갯수 확인\n",
        "news_df = news_df.groupby('userId').count()\n",
        "news_df = news_df.sort_values(by = ['objectId'])\n",
        "news_df['userId'] = news_df.index\n",
        "news_group = news_df.set_index('objectId')\n",
        "news_group = news_group.groupby('objectId').count()\n",
        "\n",
        "\n",
        "plt.rcParams['figure.figsize'] = [25, 10]\n",
        "bar = news_group.plot.bar(grid = False)\n",
        "plt.xlabel('Reply news count')\n",
        "plt.ylabel('User count')\n",
        "plt.show()\n",
        "plt.savefig('reply count')"
      ],
      "execution_count": null,
      "outputs": []
    }
  ]
}