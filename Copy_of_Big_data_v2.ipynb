{
  "nbformat": 4,
  "nbformat_minor": 0,
  "metadata": {
    "accelerator": "GPU",
    "colab": {
      "name": "Copy of Big_data_v2.ipynb",
      "provenance": [],
      "collapsed_sections": [],
      "include_colab_link": true
    },
    "kernelspec": {
      "display_name": "Python 3",
      "language": "python",
      "name": "python3"
    },
    "language_info": {
      "codemirror_mode": {
        "name": "ipython",
        "version": 3
      },
      "file_extension": ".py",
      "mimetype": "text/x-python",
      "name": "python",
      "nbconvert_exporter": "python",
      "pygments_lexer": "ipython3",
      "version": "3.8.2"
    }
  },
  "cells": [
    {
      "cell_type": "markdown",
      "metadata": {
        "id": "view-in-github",
        "colab_type": "text"
      },
      "source": [
        "<a href=\"https://colab.research.google.com/github/kevinOriginal/news-recommender/blob/main/Copy_of_Big_data_v2.ipynb\" target=\"_parent\"><img src=\"https://colab.research.google.com/assets/colab-badge.svg\" alt=\"Open In Colab\"/></a>"
      ]
    },
    {
      "cell_type": "code",
      "metadata": {
        "id": "O4qzK5QO4P98"
      },
      "source": [
        "from glob import glob\n",
        "import pandas as pd\n",
        "import pyarrow.parquet as pq"
      ],
      "execution_count": null,
      "outputs": []
    },
    {
      "cell_type": "code",
      "metadata": {
        "id": "A3IjicQX4b4_"
      },
      "source": [
        "import os, sys\n",
        "import pandas as pd \n",
        "from sklearn.feature_extraction.text import TfidfVectorizer\n",
        "from sklearn.metrics.pairwise import linear_kernel\n",
        "import torch\n",
        "import torch.nn as nn\n",
        "import numpy as np"
      ],
      "execution_count": null,
      "outputs": []
    },
    {
      "cell_type": "code",
      "metadata": {
        "id": "Vv28jn-rd5m0",
        "colab": {
          "base_uri": "https://localhost:8080/"
        },
        "outputId": "5ddda9c5-9eb2-437d-f487-8720376ac848"
      },
      "source": [
        "# 구글 드라이브 사용 시 주석 해제\n",
        "\n",
        "from google.colab import drive\n",
        "drive.mount('/content/mnt',force_remount=True)\n",
        "\n",
        "\n"
      ],
      "execution_count": null,
      "outputs": [
        {
          "output_type": "stream",
          "text": [
            "Mounted at /content/mnt\n"
          ],
          "name": "stdout"
        }
      ]
    },
    {
      "cell_type": "code",
      "metadata": {
        "id": "CpveKgtkUlWH"
      },
      "source": [
        "# Path에, 구글드라이브 내의 데이터 경로 설정\r\n",
        "path = '/content/mnt/MyDrive/colab_data/big_data/user_vector.parquet'\r\n"
      ],
      "execution_count": null,
      "outputs": []
    },
    {
      "cell_type": "code",
      "metadata": {
        "colab": {
          "base_uri": "https://localhost:8080/",
          "height": 53
        },
        "id": "FrL56V6PUZs9",
        "outputId": "ebf7b3cc-f363-4b10-ba19-39f43574f24e"
      },
      "source": [
        "# GPU 할당 설정\n",
        "GPU_NUM = 0 # 원하는 GPU 번호 입력\n",
        "device = torch.device(f'cuda:{GPU_NUM}' if torch.cuda.is_available() else 'cpu')\n",
        "'''\n",
        "torch.cuda.set_device(device) # change allocation of current GPU\n",
        "print ('Current cuda device ', torch.cuda.current_device()) # check\n",
        "\n",
        "# Additional Infos\n",
        "if device.type == 'cuda':\n",
        "    print(torch.cuda.get_device_name(GPU_NUM))\n",
        "    print('Memory Usage:')\n",
        "    print('Allocated:', round(torch.cuda.memory_allocated(GPU_NUM)/1024**3,1), 'GB')\n",
        "    print('Cached:   ', round(torch.cuda.memory_cached(GPU_NUM)/1024**3,1), 'GB')\n",
        "'''\n"
      ],
      "execution_count": null,
      "outputs": [
        {
          "output_type": "execute_result",
          "data": {
            "application/vnd.google.colaboratory.intrinsic+json": {
              "type": "string"
            },
            "text/plain": [
              "\"\\ntorch.cuda.set_device(device) # change allocation of current GPU\\nprint ('Current cuda device ', torch.cuda.current_device()) # check\\n\\n# Additional Infos\\nif device.type == 'cuda':\\n    print(torch.cuda.get_device_name(GPU_NUM))\\n    print('Memory Usage:')\\n    print('Allocated:', round(torch.cuda.memory_allocated(GPU_NUM)/1024**3,1), 'GB')\\n    print('Cached:   ', round(torch.cuda.memory_cached(GPU_NUM)/1024**3,1), 'GB')\\n\""
            ]
          },
          "metadata": {
            "tags": []
          },
          "execution_count": 8
        }
      ]
    },
    {
      "cell_type": "code",
      "metadata": {
        "id": "UIr6cTlW49Y9"
      },
      "source": [
        "# Read user_vector.parquet\n",
        "'''\n",
        "# 로컬 컴퓨터 실행시, 데이터 경로 설정\n",
        "path = \"./data/user_vector.parquet\"\n",
        "'''\n",
        "df = pd.read_parquet(path) "
      ],
      "execution_count": null,
      "outputs": []
    },
    {
      "cell_type": "code",
      "metadata": {
        "id": "3nLf_d8TgJlV",
        "colab": {
          "base_uri": "https://localhost:8080/"
        },
        "outputId": "e818cd08-554a-4ec2-e7bb-07e1b05380bd"
      },
      "source": [
        "#device = torch.device('cpu')\n",
        "# Convert to torch 데이터를 텐서로 불러옴. cpu에 올리는 이유는 램 부족 때문\n",
        "data = torch.DoubleTensor(df.values).to('cpu')\n",
        "print(\"전체 데이터 : \", data.shape)"
      ],
      "execution_count": null,
      "outputs": [
        {
          "output_type": "stream",
          "text": [
            "전체 데이터 :  torch.Size([356295, 1422])\n"
          ],
          "name": "stdout"
        }
      ]
    },
    {
      "cell_type": "code",
      "metadata": {
        "id": "AZYJ94gBUZs-"
      },
      "source": [
        "# 메인 유저 설정 (추천 받는 사용자)\n",
        "\n",
        "main_user = data[7].to(device)"
      ],
      "execution_count": null,
      "outputs": []
    },
    {
      "cell_type": "code",
      "metadata": {
        "id": "UkpjzMwzUZs-"
      },
      "source": [
        "# 비슷한 사용자를 몇 명 뽑을 것인지.\n",
        "\n",
        "num_k = 500"
      ],
      "execution_count": null,
      "outputs": []
    },
    {
      "cell_type": "code",
      "metadata": {
        "id": "IuyI1gMIUZs-"
      },
      "source": [
        "# Cosine Similarity \n",
        "cos = nn.CosineSimilarity(dim= -1, eps=1e-6)\n",
        "\n",
        "# 높은 Cos값, 인덱스 저장할 리스트\n",
        "stored_index = []\n",
        "stored_values = []\n",
        "\n",
        "# VRAM 부족으로, 10만개씩 끊어서 계산\n",
        "# 10만개 당 cos_similarity 높은 num_k개씩 뽑아서 저장\n",
        "for i in range(0, int(data.shape[0]/100000)+1) : \n",
        "    torch.cuda.empty_cache()\n",
        "    val = cos(main_user,data[100000 * i : 100000 *i + 100000].to(device))\n",
        "    values, index = torch.topk(val,num_k)\n",
        "    index = index + 100000*i\n",
        "    stored_index.append(index)\n",
        "    stored_values.append(values)\n",
        "    torch.cuda.empty_cache()\n",
        "\n",
        "### 최종적으로 num_k개 유저 추리기\n",
        "#\n",
        "# 텐서로 변환\n",
        "stored_index = torch.cat(stored_index,0)\n",
        "stored_values = torch.cat(stored_values,0)\n",
        "#print(stored_index,stored_values)\n",
        "\n",
        "# 상위 5개 추리기\n",
        "similar_values, index_of_stored_index = torch.topk(stored_values,num_k)\n",
        "\n",
        "# 인덱스 변환\n",
        "similar_index = []\n",
        "for i in index_of_stored_index :\n",
        "    #print(i)\n",
        "    similar_index.append(stored_index[i])\n",
        "### 최종적으로 num_k개 유저 추리기 끝"
      ],
      "execution_count": null,
      "outputs": []
    },
    {
      "cell_type": "code",
      "metadata": {
        "id": "4qqPhwaEeamE"
      },
      "source": [
        ""
      ],
      "execution_count": null,
      "outputs": []
    },
    {
      "cell_type": "code",
      "metadata": {
        "colab": {
          "base_uri": "https://localhost:8080/"
        },
        "id": "X3jkkwjEAmqS",
        "outputId": "4a8e25e4-ae38-431d-c4b9-8bcd0c920118"
      },
      "source": [
        "# num_k개 추린 유저들의 벡터를 similar_users에 저장\n",
        "similar_users = []\n",
        "for i in range(0,num_k) :\n",
        "  user_id = df.index[similar_index[i]]\n",
        "  similar_value = similar_values[i]\n",
        "  similar_users.append(df.loc[user_id])\n",
        "\n",
        "  print(\"Index : {:10d}, ID : {:10s}, Similar Value : {}\".format(similar_index[i],user_id,similar_value))\n",
        "\n",
        "similar_users = torch.DoubleTensor(similar_users)"
      ],
      "execution_count": null,
      "outputs": [
        {
          "output_type": "stream",
          "text": [
            "Index :          7, ID : 00004p2pq , Similar Value : 1.0\n",
            "Index :     177914, ID : knig2u7aR , Similar Value : 0.4743416490252569\n",
            "Index :     326818, ID : watc5I1EQ , Similar Value : 0.4743416490252569\n",
            "Index :     231119, ID : noperCXP  , Similar Value : 0.4743416490252569\n",
            "Index :     244744, ID : piet16WAu , Similar Value : 0.4472135954999579\n",
            "Index :     284671, ID : siny7NeOG , Similar Value : 0.4472135954999579\n",
            "Index :     224252, ID : nam5Vgf2  , Similar Value : 0.4472135954999579\n",
            "Index :      74391, ID : dpem3RPfE , Similar Value : 0.4472135954999579\n",
            "Index :      58180, ID : cwin25l1b , Similar Value : 0.4472135954999579\n",
            "Index :     169183, ID : kimj2BtNU , Similar Value : 0.4472135954999579\n",
            "Index :     274928, ID : sdh99n9cB , Similar Value : 0.4472135954999579\n",
            "Index :     335035, ID : wonuvKQU  , Similar Value : 0.4472135954999579\n",
            "Index :     192317, ID : leg55Xo30 , Similar Value : 0.4472135954999579\n",
            "Index :     190350, ID : leec1P3vv , Similar Value : 0.4472135954999579\n",
            "Index :     110669, ID : hckiFUNr  , Similar Value : 0.4472135954999579\n",
            "Index :     222501, ID : mypr7vnQ9 , Similar Value : 0.4472135954999579\n",
            "Index :     297739, ID : ssb5Y48   , Similar Value : 0.4472135954999579\n",
            "Index :     225375, ID : napr1yNlZ , Similar Value : 0.4472135954999579\n",
            "Index :     292754, ID : sola6W19j , Similar Value : 0.4472135954999579\n",
            "Index :     319361, ID : tthu1FrXm , Similar Value : 0.4472135954999579\n",
            "Index :     294383, ID : sooicdiop , Similar Value : 0.4472135954999579\n",
            "Index :     285963, ID : sjmd1mJ4k , Similar Value : 0.4472135954999579\n",
            "Index :     156323, ID : jws41AtGG , Similar Value : 0.3872983346207417\n",
            "Index :     336449, ID : wp_p4teWQ , Similar Value : 0.3651483716701107\n",
            "Index :     293073, ID : somaogqy  , Similar Value : 0.3651483716701107\n",
            "Index :     289387, ID : skyu1DOVl , Similar Value : 0.3651483716701107\n",
            "Index :     310585, ID : thdt8ltXb , Similar Value : 0.3651483716701107\n",
            "Index :     342268, ID : yes41rwGY , Similar Value : 0.3651483716701107\n",
            "Index :     312567, ID : tistYIpg  , Similar Value : 0.3651483716701107\n",
            "Index :     312648, ID : tiz0JDOo  , Similar Value : 0.3651483716701107\n",
            "Index :     354119, ID : zio43IVOP , Similar Value : 0.3651483716701107\n",
            "Index :     285226, ID : sj281tj1K , Similar Value : 0.3651483716701107\n",
            "Index :     170834, ID : kimyjkUi  , Similar Value : 0.3651483716701107\n",
            "Index :       1197, ID : 0707CyN0  , Similar Value : 0.3651483716701107\n",
            "Index :       3502, ID : 1gun1xYYg , Similar Value : 0.3651483716701107\n",
            "Index :     159304, ID : kamaW4ny  , Similar Value : 0.3651483716701107\n",
            "Index :     187445, ID : l07k2f0mA , Similar Value : 0.3651483716701107\n",
            "Index :     189081, ID : lchaslNT  , Similar Value : 0.3651483716701107\n",
            "Index :     151849, ID : jsna3T4t2 , Similar Value : 0.3651483716701107\n",
            "Index :     118527, ID : honf2nmEi , Similar Value : 0.3651483716701107\n",
            "Index :      90689, ID : forzvpBW  , Similar Value : 0.3651483716701107\n",
            "Index :      75388, ID : drumnAgg  , Similar Value : 0.3651483716701107\n",
            "Index :      92455, ID : fylz4hxh7 , Similar Value : 0.3651483716701107\n",
            "Index :      91207, ID : free1jznQ , Similar Value : 0.3651483716701107\n",
            "Index :      98428, ID : gm203x4Ws , Similar Value : 0.3651483716701107\n",
            "Index :     246151, ID : pjjh9zqHk , Similar Value : 0.3651483716701107\n",
            "Index :     202765, ID : luck1JYHd , Similar Value : 0.3651483716701107\n",
            "Index :     212702, ID : ming54TiZ , Similar Value : 0.3651483716701107\n",
            "Index :     245226, ID : pingTxOC  , Similar Value : 0.3651483716701107\n",
            "Index :     182779, ID : kstk3gpf  , Similar Value : 0.3651483716701107\n",
            "Index :     151950, ID : jspo167Fl , Similar Value : 0.3651483716701107\n",
            "Index :     199713, ID : love1PlzO , Similar Value : 0.35856858280031806\n",
            "Index :     233620, ID : offi7Mc8Z , Similar Value : 0.35856858280031806\n",
            "Index :      62211, ID : dbs11cB6u , Similar Value : 0.33541019662496846\n",
            "Index :      63389, ID : ddr711ZqJ , Similar Value : 0.33541019662496846\n",
            "Index :     223975, ID : najkPtyP  , Similar Value : 0.32659863237109044\n",
            "Index :      35123, ID : boke2Y0b6 , Similar Value : 0.31622776601683794\n",
            "Index :      35056, ID : bohy3o0sl , Similar Value : 0.31622776601683794\n",
            "Index :      35271, ID : bomb1sBEm , Similar Value : 0.31622776601683794\n",
            "Index :      35179, ID : boksDj2n  , Similar Value : 0.31622776601683794\n",
            "Index :      37459, ID : bskc2mc6U , Similar Value : 0.31622776601683794\n",
            "Index :      37462, ID : bski17NWj , Similar Value : 0.31622776601683794\n",
            "Index :      37557, ID : bsrbafR2b , Similar Value : 0.31622776601683794\n",
            "Index :      37869, ID : budd2VlTF , Similar Value : 0.31622776601683794\n",
            "Index :      25929, ID : bada8rKF4 , Similar Value : 0.31622776601683794\n",
            "Index :      25903, ID : bada38nmI , Similar Value : 0.31622776601683794\n",
            "Index :      26001, ID : badl1klyo , Similar Value : 0.31622776601683794\n",
            "Index :      25943, ID : badaVtdH  , Similar Value : 0.31622776601683794\n",
            "Index :      23038, ID : ashl2zEXT , Similar Value : 0.31622776601683794\n",
            "Index :      23155, ID : asjbYzhy  , Similar Value : 0.31622776601683794\n",
            "Index :      23666, ID : asyzzZXx  , Similar Value : 0.31622776601683794\n",
            "Index :      23691, ID : at193cWc7 , Similar Value : 0.31622776601683794\n",
            "Index :      38211, ID : bumj2ISJ9 , Similar Value : 0.31622776601683794\n",
            "Index :      38106, ID : bull2720Y , Similar Value : 0.31622776601683794\n",
            "Index :      38079, ID : bulg2s69P , Similar Value : 0.31622776601683794\n",
            "Index :      37938, ID : buge16xg0 , Similar Value : 0.31622776601683794\n",
            "Index :      36909, ID : brid3gRiZ , Similar Value : 0.31622776601683794\n",
            "Index :      37431, ID : bsju1zvKR , Similar Value : 0.31622776601683794\n",
            "Index :      36012, ID : bora31RUt , Similar Value : 0.31622776601683794\n",
            "Index :      36837, ID : bren6zlJp , Similar Value : 0.31622776601683794\n",
            "Index :      48155, ID : chosiGF5  , Similar Value : 0.31622776601683794\n",
            "Index :      48114, ID : chos3auul , Similar Value : 0.31622776601683794\n",
            "Index :      48372, ID : chri1bzkG , Similar Value : 0.31622776601683794\n",
            "Index :      48348, ID : chre9pGwl , Similar Value : 0.31622776601683794\n",
            "Index :      46221, ID : chlrawKJx , Similar Value : 0.31622776601683794\n",
            "Index :      46279, ID : chltc4Mqa , Similar Value : 0.31622776601683794\n",
            "Index :      46587, ID : cho_1iIuH , Similar Value : 0.31622776601683794\n",
            "Index :      46837, ID : choe3swcY , Similar Value : 0.31622776601683794\n",
            "Index :      48842, ID : chul4aR7h , Similar Value : 0.31622776601683794\n",
            "Index :      48705, ID : chu142yys , Similar Value : 0.31622776601683794\n",
            "Index :      48691, ID : chtl2Jlf7 , Similar Value : 0.31622776601683794\n",
            "Index :      48563, ID : chs53HlCS , Similar Value : 0.31622776601683794\n",
            "Index :      38545, ID : butilHvB  , Similar Value : 0.31622776601683794\n",
            "Index :      38643, ID : bvio6KyTa , Similar Value : 0.31622776601683794\n",
            "Index :      38359, ID : burb1Iiip , Similar Value : 0.31622776601683794\n",
            "Index :      38490, ID : busi1RqQV , Similar Value : 0.31622776601683794\n",
            "Index :      46090, ID : chle1pZJD , Similar Value : 0.31622776601683794\n",
            "Index :      45832, ID : chjj44RF6 , Similar Value : 0.31622776601683794\n",
            "Index :      46213, ID : chlr6XGSt , Similar Value : 0.31622776601683794\n",
            "Index :      46146, ID : chlg6gHTE , Similar Value : 0.31622776601683794\n",
            "Index :      51452, ID : ckrh4jSuQ , Similar Value : 0.31622776601683794\n",
            "Index :      51534, ID : cksf1M7WY , Similar Value : 0.31622776601683794\n",
            "Index :      51901, ID : clea1Ql6D , Similar Value : 0.31622776601683794\n",
            "Index :      51906, ID : clea1ayRK , Similar Value : 0.31622776601683794\n",
            "Index :      49561, ID : cijc2ijST , Similar Value : 0.31622776601683794\n",
            "Index :      49296, ID : chwv4ZyEx , Similar Value : 0.31622776601683794\n",
            "Index :      49216, ID : chur2ivoa , Similar Value : 0.31622776601683794\n",
            "Index :      48912, ID : chun1CLf5 , Similar Value : 0.31622776601683794\n",
            "Index :      51256, ID : ckfg1QLuv , Similar Value : 0.31622776601683794\n",
            "Index :      51402, ID : ckn71DurA , Similar Value : 0.31622776601683794\n",
            "Index :      51113, ID : ckdb7U8jP , Similar Value : 0.31622776601683794\n",
            "Index :      51250, ID : ckes1qmeF , Similar Value : 0.31622776601683794\n",
            "Index :      43760, ID : chan1Ueeh , Similar Value : 0.31622776601683794\n",
            "Index :      43596, ID : cham2UuY2 , Similar Value : 0.31622776601683794\n",
            "Index :      44028, ID : chan4hVlN , Similar Value : 0.31622776601683794\n",
            "Index :      43908, ID : chan2rIr6 , Similar Value : 0.31622776601683794\n",
            "Index :      44967, ID : cheo27nGx , Similar Value : 0.31622776601683794\n",
            "Index :      45022, ID : cheo7oxjH , Similar Value : 0.31622776601683794\n",
            "Index :      45644, ID : chin9uMc6 , Similar Value : 0.31622776601683794\n",
            "Index :      45675, ID : chip1HYmi , Similar Value : 0.31622776601683794\n",
            "Index :       9336, ID : 94ju26gxm , Similar Value : 0.31622776601683794\n",
            "Index :       9156, ID : 91911BXxO , Similar Value : 0.31622776601683794\n",
            "Index :      10018, ID : a18214AwY , Similar Value : 0.31622776601683794\n",
            "Index :       9400, ID : 95ss3C3zg , Similar Value : 0.31622776601683794\n",
            "Index :      11389, ID : abys28p3P , Similar Value : 0.31622776601683794\n",
            "Index :      11425, ID : acac3cqgi , Similar Value : 0.31622776601683794\n",
            "Index :      11815, ID : acme2jClS , Similar Value : 0.31622776601683794\n",
            "Index :      12236, ID : adelaBaLc , Similar Value : 0.31622776601683794\n",
            "Index :      30207, ID : best5juPU , Similar Value : 0.31622776601683794\n",
            "Index :      30134, ID : best33eRB , Similar Value : 0.31622776601683794\n",
            "Index :      30545, ID : bgmhQm9h  , Similar Value : 0.31622776601683794\n",
            "Index :      30510, ID : bgha2C0HF , Similar Value : 0.31622776601683794\n",
            "Index :      28455, ID : bbu22sTB4 , Similar Value : 0.31622776601683794\n",
            "Index :      28537, ID : bc303u03u , Similar Value : 0.31622776601683794\n",
            "Index :      28684, ID : bdbd1pNeq , Similar Value : 0.31622776601683794\n",
            "Index :      28692, ID : bdda35llm , Similar Value : 0.31622776601683794\n",
            "Index :      29085, ID : beau6x6D4 , Similar Value : 0.31622776601683794\n",
            "Index :      29016, ID : beau1VyTq , Similar Value : 0.31622776601683794\n",
            "Index :      28976, ID : beat2wbtS , Similar Value : 0.31622776601683794\n",
            "Index :      28805, ID : bea31pLj5 , Similar Value : 0.31622776601683794\n",
            "Index :      28155, ID : bbj07jIBV , Similar Value : 0.31622776601683794\n",
            "Index :      28365, ID : bboy2PtoF , Similar Value : 0.31622776601683794\n",
            "Index :      27877, ID : bban1Umqq , Similar Value : 0.31622776601683794\n",
            "Index :      27923, ID : bbannaL6  , Similar Value : 0.31622776601683794\n",
            "Index :      52402, ID : clubp7Pq  , Similar Value : 0.31622776601683794\n",
            "Index :      52396, ID : clubLYwp  , Similar Value : 0.31622776601683794\n",
            "Index :      52806, ID : cnb03K55v , Similar Value : 0.31622776601683794\n",
            "Index :      52755, ID : cmun2eS8a , Similar Value : 0.31622776601683794\n",
            "Index :      53243, ID : coco2GC3k , Similar Value : 0.31622776601683794\n",
            "Index :      53274, ID : coco3MVyJ , Similar Value : 0.31622776601683794\n",
            "Index :      53521, ID : codyIJl6  , Similar Value : 0.31622776601683794\n",
            "Index :      53695, ID : coke1ojRV , Similar Value : 0.31622776601683794\n",
            "Index :      34403, ID : bmin3iVdl , Similar Value : 0.31622776601683794\n",
            "Index :      34365, ID : bmbw3kfJq , Similar Value : 0.31622776601683794\n",
            "Index :      34624, ID : bnm0190C2 , Similar Value : 0.31622776601683794\n",
            "Index :      34601, ID : bnhi1nox5 , Similar Value : 0.31622776601683794\n",
            "Index :      29397, ID : beha14sZu , Similar Value : 0.31622776601683794\n",
            "Index :      29471, ID : beka9itW  , Similar Value : 0.31622776601683794\n",
            "Index :      29101, ID : beauGG6Z  , Similar Value : 0.31622776601683794\n",
            "Index :      29190, ID : bech6dpGG , Similar Value : 0.31622776601683794\n",
            "Index :      21325, ID : aram2U11L , Similar Value : 0.31622776601683794\n",
            "Index :      20921, ID : appl6jk2I , Similar Value : 0.31622776601683794\n",
            "Index :      21361, ID : aranaolGF , Similar Value : 0.31622776601683794\n",
            "Index :      21357, ID : aran3dUQY , Similar Value : 0.31622776601683794\n",
            "Index :      33720, ID : blue2lG0u , Similar Value : 0.31622776601683794\n",
            "Index :      33753, ID : blue2t82n , Similar Value : 0.31622776601683794\n",
            "Index :      33951, ID : blue5Fu8s , Similar Value : 0.31622776601683794\n",
            "Index :      33994, ID : blue6QkIB , Similar Value : 0.31622776601683794\n",
            "Index :      34269, ID : bluezri9  , Similar Value : 0.31622776601683794\n",
            "Index :      34245, ID : bluetGcf  , Similar Value : 0.31622776601683794\n",
            "Index :      34170, ID : blueasucd , Similar Value : 0.31622776601683794\n",
            "Index :      34039, ID : blue8pnxV , Similar Value : 0.31622776601683794\n",
            "Index :      33695, ID : blue2fVDo , Similar Value : 0.31622776601683794\n",
            "Index :      33700, ID : blue2gtDr , Similar Value : 0.31622776601683794\n",
            "Index :      33488, ID : blue1hBnE , Similar Value : 0.31622776601683794\n",
            "Index :      33686, ID : blue2dAe4 , Similar Value : 0.31622776601683794\n",
            "Index :      19130, ID : anhk4Tf5i , Similar Value : 0.31622776601683794\n",
            "Index :      18922, ID : ange65rFE , Similar Value : 0.31622776601683794\n",
            "Index :      19460, ID : anna5Ja11 , Similar Value : 0.31622776601683794\n",
            "Index :      19226, ID : anipX0sw  , Similar Value : 0.31622776601683794\n",
            "Index :      20593, ID : apat3AYcy , Similar Value : 0.31622776601683794\n",
            "Index :      20784, ID : app9sK1q  , Similar Value : 0.31622776601683794\n",
            "Index :      20838, ID : appl2Bcyy , Similar Value : 0.31622776601683794\n",
            "Index :      20868, ID : appl3NZik , Similar Value : 0.31622776601683794\n",
            "Index :      31731, ID : biol41K0m , Similar Value : 0.31622776601683794\n",
            "Index :      31689, ID : binz1WcGq , Similar Value : 0.31622776601683794\n",
            "Index :      31783, ID : bira2zkqJ , Similar Value : 0.31622776601683794\n",
            "Index :      31755, ID : bios33CQF , Similar Value : 0.31622776601683794\n",
            "Index :      54473, ID : conv1oAiR , Similar Value : 0.31622776601683794\n",
            "Index :      54516, ID : cook13POi , Similar Value : 0.31622776601683794\n",
            "Index :      53737, ID : cokr1qriz , Similar Value : 0.31622776601683794\n",
            "Index :      53797, ID : coldWe12  , Similar Value : 0.31622776601683794\n",
            "Index :      20576, ID : apagLuZs  , Similar Value : 0.31622776601683794\n",
            "Index :      20024, ID : antfMYbT  , Similar Value : 0.31622776601683794\n",
            "Index :      19892, ID : anssoKc7  , Similar Value : 0.31622776601683794\n",
            "Index :      19884, ID : ansrUqxV  , Similar Value : 0.31622776601683794\n",
            "Index :      17828, ID : amoi5TVdS , Similar Value : 0.31622776601683794\n",
            "Index :      17838, ID : amon1a8P3 , Similar Value : 0.31622776601683794\n",
            "Index :      17752, ID : amin1Efop , Similar Value : 0.31622776601683794\n",
            "Index :      17777, ID : amit8euy  , Similar Value : 0.31622776601683794\n",
            "Index :      14662, ID : ajooqrHU  , Similar Value : 0.31622776601683794\n",
            "Index :      14570, ID : aji220GNS , Similar Value : 0.31622776601683794\n",
            "Index :      14540, ID : ajh6Qykq  , Similar Value : 0.31622776601683794\n",
            "Index :      14120, ID : aini3JDov , Similar Value : 0.31622776601683794\n",
            "Index :      13371, ID : ahahzwXV  , Similar Value : 0.31622776601683794\n",
            "Index :      13495, ID : ahha6X4Z  , Similar Value : 0.31622776601683794\n",
            "Index :      13086, ID : agas2iSYI , Similar Value : 0.31622776601683794\n",
            "Index :      13091, ID : agat1rBGK , Similar Value : 0.31622776601683794\n",
            "Index :       5264, ID : 31pz1v4Cs , Similar Value : 0.31622776601683794\n",
            "Index :       5229, ID : 314t2Bnmv , Similar Value : 0.31622776601683794\n",
            "Index :       6251, ID : 4eve3b0h1 , Similar Value : 0.31622776601683794\n",
            "Index :       6097, ID : 46883le1I , Similar Value : 0.31622776601683794\n",
            "Index :       3854, ID : 20062NYTB , Similar Value : 0.31622776601683794\n",
            "Index :       3891, ID : 20101dVqv , Similar Value : 0.31622776601683794\n",
            "Index :       4347, ID : 22so3njzS , Similar Value : 0.31622776601683794\n",
            "Index :       4753, ID : 29763elA3 , Similar Value : 0.31622776601683794\n",
            "Index :       6843, ID : 5jun3I0Hy , Similar Value : 0.31622776601683794\n",
            "Index :       6830, ID : 5go36oZ9S , Similar Value : 0.31622776601683794\n",
            "Index :       6451, ID : 52303IE6S , Similar Value : 0.31622776601683794\n",
            "Index :       6410, ID : 5152tzsq  , Similar Value : 0.31622776601683794\n",
            "Index :      15119, ID : akik2toIC , Similar Value : 0.31622776601683794\n",
            "Index :      15128, ID : akil8zPYm , Similar Value : 0.31622776601683794\n",
            "Index :      14768, ID : ajw7FFL4  , Similar Value : 0.31622776601683794\n",
            "Index :      14951, ID : akde3BSS7 , Similar Value : 0.31622776601683794\n",
            "Index :       1926, ID : 10131MGpD , Similar Value : 0.31622776601683794\n",
            "Index :       1801, ID : 1004N2dS  , Similar Value : 0.31622776601683794\n",
            "Index :       2400, ID : 11rn6bpb5 , Similar Value : 0.31622776601683794\n",
            "Index :       2047, ID : 1052193No , Similar Value : 0.31622776601683794\n",
            "Index :       7550, ID : 7201pkFk  , Similar Value : 0.31622776601683794\n",
            "Index :       7567, ID : 72622zY9c , Similar Value : 0.31622776601683794\n",
            "Index :       7587, ID : 72cw2Vo7s , Similar Value : 0.31622776601683794\n",
            "Index :       7591, ID : 72heYHiQ  , Similar Value : 0.31622776601683794\n",
            "Index :       7723, ID : 74da2NWvs , Similar Value : 0.31622776601683794\n",
            "Index :       7677, ID : 74017vXrY , Similar Value : 0.31622776601683794\n",
            "Index :       7668, ID : 73no45sxa , Similar Value : 0.31622776601683794\n",
            "Index :       7649, ID : 73at2qQX4 , Similar Value : 0.31622776601683794\n",
            "Index :       7281, ID : 68du27QAC , Similar Value : 0.31622776601683794\n",
            "Index :       7523, ID : 719581SdK , Similar Value : 0.31622776601683794\n",
            "Index :       6847, ID : 5kebhUcY  , Similar Value : 0.31622776601683794\n",
            "Index :       6922, ID : 601973sJD , Similar Value : 0.31622776601683794\n",
            "Index :       2920, ID : 14th3Yo29 , Similar Value : 0.31622776601683794\n",
            "Index :       2780, ID : 13221oK9v , Similar Value : 0.31622776601683794\n",
            "Index :       2927, ID : 15082p8e3 , Similar Value : 0.31622776601683794\n",
            "Index :       2926, ID : 1507GdBQ  , Similar Value : 0.31622776601683794\n",
            "Index :        931, ID : 040420Bkg , Similar Value : 0.31622776601683794\n",
            "Index :       1292, ID : 08031shLs , Similar Value : 0.31622776601683794\n",
            "Index :       1366, ID : 084s1lzzk , Similar Value : 0.31622776601683794\n",
            "Index :       1540, ID : 0koa2iNEZ , Similar Value : 0.31622776601683794\n",
            "Index :        487, ID : 01264aHZf , Similar Value : 0.31622776601683794\n",
            "Index :        424, ID : 01192LqO1 , Similar Value : 0.31622776601683794\n",
            "Index :        881, ID : 03295DCbc , Similar Value : 0.31622776601683794\n",
            "Index :        819, ID : 03061sveX , Similar Value : 0.31622776601683794\n",
            "Index :       3050, ID : 172112FKH , Similar Value : 0.31622776601683794\n",
            "Index :       3116, ID : 18521qclF , Similar Value : 0.31622776601683794\n",
            "Index :       3328, ID : 1983qfCf  , Similar Value : 0.31622776601683794\n",
            "Index :       3845, ID : 20052Uowe , Similar Value : 0.31622776601683794\n",
            "Index :      60119, ID : dal13vHgu , Similar Value : 0.31622776601683794\n",
            "Index :      60032, ID : dak43xZbJ , Similar Value : 0.31622776601683794\n",
            "Index :      60678, ID : dani27V1N , Similar Value : 0.31622776601683794\n",
            "Index :      60197, ID : dalgcqPSB , Similar Value : 0.31622776601683794\n",
            "Index :      63035, ID : dddd5xhRX , Similar Value : 0.31622776601683794\n",
            "Index :      63360, ID : ddorxjWX  , Similar Value : 0.31622776601683794\n",
            "Index :      63459, ID : ddug1rrZi , Similar Value : 0.31622776601683794\n",
            "Index :      63748, ID : dece1MCrX , Similar Value : 0.31622776601683794\n",
            "Index :      68935, ID : dldk2Fcv4 , Similar Value : 0.31622776601683794\n",
            "Index :      68656, ID : dlal69q9u , Similar Value : 0.31622776601683794\n",
            "Index :      68608, ID : dlaj2CqL7 , Similar Value : 0.31622776601683794\n",
            "Index :      68486, ID : dla36pWlE , Similar Value : 0.31622776601683794\n",
            "Index :      66801, ID : dirs16v63 , Similar Value : 0.31622776601683794\n",
            "Index :      67444, ID : djroRnVC  , Similar Value : 0.31622776601683794\n",
            "Index :      66078, ID : dick2IXTU , Similar Value : 0.31622776601683794\n",
            "Index :      66296, ID : didtCa8k  , Similar Value : 0.31622776601683794\n",
            "Index :      41950, ID : ccop1YUsT , Similar Value : 0.31622776601683794\n",
            "Index :      41774, ID : ccha3R4zl , Similar Value : 0.31622776601683794\n",
            "Index :      42481, ID : cele1Oenf , Similar Value : 0.31622776601683794\n",
            "Index :      41977, ID : ccs02y8oE , Similar Value : 0.31622776601683794\n",
            "Index :      40742, ID : caroFRtJ  , Similar Value : 0.31622776601683794\n",
            "Index :      40941, ID : casi3SxeB , Similar Value : 0.31622776601683794\n",
            "Index :      41181, ID : catnavmk3 , Similar Value : 0.31622776601683794\n",
            "Index :      41237, ID : cav149SiM , Similar Value : 0.31622776601683794\n",
            "Index :      43443, ID : chahZkMW  , Similar Value : 0.31622776601683794\n",
            "Index :      43172, ID : cha42oJDE , Similar Value : 0.31622776601683794\n",
            "Index :      42996, ID : ch0320IcG , Similar Value : 0.31622776601683794\n",
            "Index :      42777, ID : cewi6boyy , Similar Value : 0.31622776601683794\n",
            "Index :      69367, ID : dlgo38PcH , Similar Value : 0.31622776601683794\n",
            "Index :      69390, ID : dlgu1shnP , Similar Value : 0.31622776601683794\n",
            "Index :      69239, ID : dlff2dkie , Similar Value : 0.31622776601683794\n",
            "Index :      69261, ID : dlfn3E4dk , Similar Value : 0.31622776601683794\n",
            "Index :      40530, ID : cara2rsp4 , Similar Value : 0.31622776601683794\n",
            "Index :      40403, ID : capjnUCO  , Similar Value : 0.31622776601683794\n",
            "Index :      40710, ID : carmhKjb  , Similar Value : 0.31622776601683794\n",
            "Index :      40550, ID : cara6Pm22 , Similar Value : 0.31622776601683794\n",
            "Index :      35449, ID : bong1GU72 , Similar Value : 0.31622776601683794\n",
            "Index :      35515, ID : bong3E4rX , Similar Value : 0.31622776601683794\n",
            "Index :      35728, ID : bons16M0s , Similar Value : 0.31622776601683794\n",
            "Index :      35971, ID : bopm1lgn3 , Similar Value : 0.31622776601683794\n",
            "Index :      34977, ID : boga5GL1p , Similar Value : 0.31622776601683794\n",
            "Index :      34870, ID : bobozJHT  , Similar Value : 0.31622776601683794\n",
            "Index :      34766, ID : bob_4nHtD , Similar Value : 0.31622776601683794\n",
            "Index :      34636, ID : bnm7xEQD  , Similar Value : 0.31622776601683794\n",
            "Index :      35403, ID : bona7P4J6 , Similar Value : 0.31622776601683794\n",
            "Index :      35410, ID : bonac3DBs , Similar Value : 0.31622776601683794\n",
            "Index :      35298, ID : bomcG36A  , Similar Value : 0.31622776601683794\n",
            "Index :      35339, ID : bomm1LjkK , Similar Value : 0.31622776601683794\n",
            "Index :      39100, ID : byul4vSql , Similar Value : 0.31622776601683794\n",
            "Index :      38853, ID : byeg9D14X , Similar Value : 0.31622776601683794\n",
            "Index :      39278, ID : c1432GhhY , Similar Value : 0.31622776601683794\n",
            "Index :      39215, ID : bz10wnAM  , Similar Value : 0.31622776601683794\n",
            "Index :      40134, ID : cand2hZkW , Similar Value : 0.31622776601683794\n",
            "Index :      40156, ID : cand406qc , Similar Value : 0.31622776601683794\n",
            "Index :      40220, ID : cani3TSNz , Similar Value : 0.31622776601683794\n",
            "Index :      40304, ID : cant6icyN , Similar Value : 0.31622776601683794\n",
            "Index :      44564, ID : chba408Wk , Similar Value : 0.31622776601683794\n",
            "Index :      44125, ID : chanDGTr  , Similar Value : 0.31622776601683794\n",
            "Index :      44112, ID : chan99M51 , Similar Value : 0.31622776601683794\n",
            "Index :      44054, ID : chan5NLtn , Similar Value : 0.31622776601683794\n",
            "Index :      47459, ID : choi7CSPZ , Similar Value : 0.31622776601683794\n",
            "Index :      48104, ID : chos2y3Ne , Similar Value : 0.31622776601683794\n",
            "Index :      47156, ID : choi2WG7u , Similar Value : 0.31622776601683794\n",
            "Index :      47391, ID : choi5H2Iy , Similar Value : 0.31622776601683794\n",
            "Index :      17308, ID : alwa1JVZw , Similar Value : 0.31622776601683794\n",
            "Index :      17284, ID : aluc3nwoa , Similar Value : 0.31622776601683794\n",
            "Index :      17277, ID : alttaYDRm , Similar Value : 0.31622776601683794\n",
            "Index :      16986, ID : alst2hXgP , Similar Value : 0.31622776601683794\n",
            "Index :      13519, ID : ahin1x1nh , Similar Value : 0.31622776601683794\n",
            "Index :      13609, ID : ahn81oxgH , Similar Value : 0.31622776601683794\n",
            "Index :      13889, ID : ahy02cqAu , Similar Value : 0.31622776601683794\n",
            "Index :      13940, ID : aibrc6cOA , Similar Value : 0.31622776601683794\n",
            "Index :      15860, ID : alexjj92  , Similar Value : 0.31622776601683794\n",
            "Index :      15741, ID : aldu2Y765 , Similar Value : 0.31622776601683794\n",
            "Index :      15685, ID : aldi5wDBU , Similar Value : 0.31622776601683794\n",
            "Index :      15183, ID : akiy113Al , Similar Value : 0.31622776601683794\n",
            "Index :      16759, ID : alsdJhpM  , Similar Value : 0.31622776601683794\n",
            "Index :      16957, ID : alst17Ad5 , Similar Value : 0.31622776601683794\n",
            "Index :      16570, ID : alph20TSV , Similar Value : 0.31622776601683794\n",
            "Index :      16687, ID : als54Cz98 , Similar Value : 0.31622776601683794\n",
            "Index :      10090, ID : a2598PlK9 , Similar Value : 0.31622776601683794\n",
            "Index :      10082, ID : a246F6eC  , Similar Value : 0.31622776601683794\n",
            "Index :      10198, ID : a447AZyn  , Similar Value : 0.31622776601683794\n",
            "Index :      10148, ID : a3301ZrBD , Similar Value : 0.31622776601683794\n",
            "Index :       8695, ID : 84102RMQd , Similar Value : 0.31622776601683794\n",
            "Index :       8711, ID : 8465bO1xO , Similar Value : 0.31622776601683794\n",
            "Index :       8821, ID : 86rl1eMN8 , Similar Value : 0.31622776601683794\n",
            "Index :       8963, ID : 89061lPq4 , Similar Value : 0.31622776601683794\n",
            "Index :      10794, ID : aaotbjqg  , Similar Value : 0.31622776601683794\n",
            "Index :      10694, ID : aabh3YhQj , Similar Value : 0.31622776601683794\n",
            "Index :      10387, ID : a9127D89l , Similar Value : 0.31622776601683794\n",
            "Index :      10347, ID : a7s2gFhl  , Similar Value : 0.31622776601683794\n",
            "Index :      16233, ID : alle206hA , Similar Value : 0.31622776601683794\n",
            "Index :      16455, ID : alma6EII  , Similar Value : 0.31622776601683794\n",
            "Index :      16000, ID : algu11tMM , Similar Value : 0.31622776601683794\n",
            "Index :      16036, ID : alic1DY7D , Similar Value : 0.31622776601683794\n",
            "Index :      64259, ID : dent8gMFv , Similar Value : 0.31622776601683794\n",
            "Index :      64101, ID : deme1czA5 , Similar Value : 0.31622776601683794\n",
            "Index :      64327, ID : derd3m8IN , Similar Value : 0.31622776601683794\n",
            "Index :      64312, ID : depk5SpMG , Similar Value : 0.31622776601683794\n",
            "Index :      31016, ID : bierZ7Ir  , Similar Value : 0.31622776601683794\n",
            "Index :      31076, ID : bigb3M1XL , Similar Value : 0.31622776601683794\n",
            "Index :      31092, ID : bigbBhKR  , Similar Value : 0.31622776601683794\n",
            "Index :      31137, ID : bigg4JH40 , Similar Value : 0.31622776601683794\n",
            "Index :      30086, ID : best29hU7 , Similar Value : 0.31622776601683794\n",
            "Index :      29963, ID : berr3e3F6 , Similar Value : 0.31622776601683794\n",
            "Index :      29785, ID : bennXRfr  , Similar Value : 0.31622776601683794\n",
            "Index :      29479, ID : beko6frx9 , Similar Value : 0.31622776601683794\n",
            "Index :      30875, ID : biam2YNKR , Similar Value : 0.31622776601683794\n",
            "Index :      30921, ID : bibi415gZ , Similar Value : 0.31622776601683794\n",
            "Index :      30763, ID : bhmi2Zv0k , Similar Value : 0.31622776601683794\n",
            "Index :      30777, ID : bhpa1DPNn , Similar Value : 0.31622776601683794\n",
            "Index :      62615, ID : dbwj1wsvI , Similar Value : 0.31622776601683794\n",
            "Index :      62524, ID : dbsw3OB6R , Similar Value : 0.31622776601683794\n",
            "Index :      62867, ID : ddae3H98u , Similar Value : 0.31622776601683794\n",
            "Index :      62655, ID : dbwl5RY0C , Similar Value : 0.31622776601683794\n",
            "Index :      63819, ID : deenYqer  , Similar Value : 0.31622776601683794\n",
            "Index :      63840, ID : deep28zZV , Similar Value : 0.31622776601683794\n",
            "Index :      63951, ID : deinuDH6  , Similar Value : 0.31622776601683794\n",
            "Index :      63973, ID : deke9gu9R , Similar Value : 0.31622776601683794\n",
            "Index :      53230, ID : coco1zeja , Similar Value : 0.31622776601683794\n",
            "Index :      53175, ID : cock1QfU7 , Similar Value : 0.31622776601683794\n",
            "Index :      52945, ID : cnooAPmX  , Similar Value : 0.31622776601683794\n",
            "Index :      52923, ID : cnki29V68 , Similar Value : 0.31622776601683794\n",
            "Index :      50116, ID : cjdgBwIF  , Similar Value : 0.31622776601683794\n",
            "Index :      50206, ID : cjfkxz8q  , Similar Value : 0.31622776601683794\n",
            "Index :      49783, ID : circ2oeTK , Similar Value : 0.31622776601683794\n",
            "Index :      49868, ID : citr2B5F4 , Similar Value : 0.31622776601683794\n",
            "Index :      57267, ID : cst11croZ , Similar Value : 0.31622776601683794\n",
            "Index :      56983, ID : csj61AYAo , Similar Value : 0.31622776601683794\n",
            "Index :      56982, ID : csj5wHlg  , Similar Value : 0.31622776601683794\n",
            "Index :      56460, ID : crow3gwAM , Similar Value : 0.31622776601683794\n",
            "Index :      70784, ID : dmsd5EzN1 , Similar Value : 0.31622776601683794\n",
            "Index :      70865, ID : dmslcxYQh , Similar Value : 0.31622776601683794\n",
            "Index :      71016, ID : dmsw5OomU , Similar Value : 0.31622776601683794\n",
            "Index :      71048, ID : dmyo6s2PZ , Similar Value : 0.31622776601683794\n",
            "Index :      24367, ID : auto27FUC , Similar Value : 0.31622776601683794\n",
            "Index :      24102, ID : audi96Fsv , Similar Value : 0.31622776601683794\n",
            "Index :      24089, ID : audi1jyfa , Similar Value : 0.31622776601683794\n",
            "Index :      23982, ID : atwabFX3a , Similar Value : 0.31622776601683794\n",
            "Index :      54696, ID : cool1co6h , Similar Value : 0.31622776601683794\n",
            "Index :      54730, ID : cool1tlDL , Similar Value : 0.31622776601683794\n",
            "Index :      54551, ID : cook30Ywg , Similar Value : 0.31622776601683794\n",
            "Index :      54572, ID : cook4whQ7 , Similar Value : 0.31622776601683794\n",
            "Index :      60986, ID : dark1Cflg , Similar Value : 0.31622776601683794\n",
            "Index :      60796, ID : dano2Fc1T , Similar Value : 0.31622776601683794\n",
            "Index :      61862, ID : dbalMPKl  , Similar Value : 0.31622776601683794\n",
            "Index :      61116, ID : dark2zwjd , Similar Value : 0.31622776601683794\n",
            "Index :      59187, ID : d6d72xkwv , Similar Value : 0.31622776601683794\n",
            "Index :      59505, ID : daed2DNcP , Similar Value : 0.31622776601683794\n",
            "Index :      59533, ID : daeg9k7F9 , Similar Value : 0.31622776601683794\n",
            "Index :      59755, ID : daey2U4P9 , Similar Value : 0.31622776601683794\n",
            "Index :      62364, ID : dbsgVJ2M  , Similar Value : 0.31622776601683794\n",
            "Index :      62131, ID : dbql1kQLR , Similar Value : 0.31622776601683794\n",
            "Index :      62116, ID : dbmrEzKy  , Similar Value : 0.31622776601683794\n",
            "Index :      62066, ID : dbgu3MEef , Similar Value : 0.31622776601683794\n",
            "Index :      56252, ID : crie81S9p , Similar Value : 0.31622776601683794\n",
            "Index :      56354, ID : crom2N6FA , Similar Value : 0.31622776601683794\n",
            "Index :      55961, ID : crap3KugO , Similar Value : 0.31622776601683794\n",
            "Index :      56051, ID : craz6xoSp , Similar Value : 0.31622776601683794\n",
            "Index :      57880, ID : cute2xaPm , Similar Value : 0.31622776601683794\n",
            "Index :      57461, ID : cti52wjzp , Similar Value : 0.31622776601683794\n",
            "Index :      57988, ID : cuttGYvg  , Similar Value : 0.31622776601683794\n",
            "Index :      57979, ID : cutt2HbwT , Similar Value : 0.31622776601683794\n",
            "Index :      54869, ID : cool3bu8s , Similar Value : 0.31622776601683794\n",
            "Index :      54888, ID : cool3zd8D , Similar Value : 0.31622776601683794\n",
            "Index :      55163, ID : corb1y2Ti , Similar Value : 0.31622776601683794\n",
            "Index :      55264, ID : cori35Z26 , Similar Value : 0.31622776601683794\n",
            "Index :      55865, ID : cpsr4G19S , Similar Value : 0.31622776601683794\n",
            "Index :      55863, ID : cpsh4qbnL , Similar Value : 0.31622776601683794\n",
            "Index :      55454, ID : cosm4Q8el , Similar Value : 0.31622776601683794\n",
            "Index :      55343, ID : cort1QXUQ , Similar Value : 0.31622776601683794\n",
            "Index :      58430, ID : cybe2CF62 , Similar Value : 0.31622776601683794\n",
            "Index :      58543, ID : cycpD5yY  , Similar Value : 0.31622776601683794\n",
            "Index :      58021, ID : cuucbKh6U , Similar Value : 0.31622776601683794\n",
            "Index :      58129, ID : cwc05oQIF , Similar Value : 0.31622776601683794\n",
            "Index :      71274, ID : dnflyR1R  , Similar Value : 0.31622776601683794\n",
            "Index :      71217, ID : dnff41oQl , Similar Value : 0.31622776601683794\n",
            "Index :      71488, ID : dnjszo7u  , Similar Value : 0.31622776601683794\n",
            "Index :      71311, ID : dngn29AhZ , Similar Value : 0.31622776601683794\n",
            "Index :      58687, ID : cyj33hqI8 , Similar Value : 0.31622776601683794\n",
            "Index :      58732, ID : cyjsCMQy  , Similar Value : 0.31622776601683794\n",
            "Index :      58842, ID : cympHIsC  , Similar Value : 0.31622776601683794\n",
            "Index :      58920, ID : cyra1RBFt , Similar Value : 0.31622776601683794\n",
            "Index :      40089, ID : canc1ErSF , Similar Value : 0.31622776601683794\n",
            "Index :      40008, ID : camp2i4cI , Similar Value : 0.31622776601683794\n",
            "Index :      39576, ID : cadb1kTUH , Similar Value : 0.31622776601683794\n",
            "Index :      39569, ID : cacuEhV8  , Similar Value : 0.31622776601683794\n",
            "Index :      41519, ID : cbw81hWiP , Similar Value : 0.31622776601683794\n",
            "Index :      41685, ID : ccch37Uzc , Similar Value : 0.31622776601683794\n",
            "Index :      41465, ID : cbr4lnND  , Similar Value : 0.31622776601683794\n",
            "Index :      41512, ID : cbu01qjmI , Similar Value : 0.31622776601683794\n",
            "Index :      12764, ID : aeon6J42M , Similar Value : 0.31622776601683794\n",
            "Index :      12633, ID : ae5b2Hbzp , Similar Value : 0.31622776601683794\n",
            "Index :      13039, ID : agaiH7nd  , Similar Value : 0.31622776601683794\n",
            "Index :      12984, ID : ag16Ew1v  , Similar Value : 0.31622776601683794\n",
            "Index :      32824, ID : blac5Rf9F , Similar Value : 0.31622776601683794\n",
            "Index :      32845, ID : blac8t2NU , Similar Value : 0.31622776601683794\n",
            "Index :      33057, ID : bles6xWlg , Similar Value : 0.31622776601683794\n",
            "Index :      33223, ID : bloo2Fh9r , Similar Value : 0.31622776601683794\n",
            "Index :      31371, ID : biko39gfJ , Similar Value : 0.31622776601683794\n",
            "Index :      31359, ID : bikewKPo  , Similar Value : 0.31622776601683794\n",
            "Index :      31193, ID : bigmwCGi  , Similar Value : 0.31622776601683794\n",
            "Index :      31163, ID : bigk4bLHT , Similar Value : 0.31622776601683794\n",
            "Index :      22163, ID : art11y5df , Similar Value : 0.31622776601683794\n",
            "Index :      22659, ID : asc12aa5T , Similar Value : 0.31622776601683794\n",
            "Index :      21423, ID : arch1CmMr , Similar Value : 0.31622776601683794\n",
            "Index :      21472, ID : arch5rwwO , Similar Value : 0.31622776601683794\n",
            "Index :      18279, ID : ancp1qHun , Similar Value : 0.31622776601683794\n",
            "Index :      18137, ID : anai2U73g , Similar Value : 0.31622776601683794\n",
            "Index :      18573, ID : anem2fDSp , Similar Value : 0.31622776601683794\n",
            "Index :      18531, ID : andy8ldFp , Similar Value : 0.31622776601683794\n",
            "Index :      17383, ID : alwl6RveH , Similar Value : 0.31622776601683794\n",
            "Index :      17518, ID : amam5bhvI , Similar Value : 0.31622776601683794\n",
            "Index :      17551, ID : amat32wTB , Similar Value : 0.31622776601683794\n",
            "Index :      17613, ID : amdapaTK  , Similar Value : 0.31622776601683794\n",
            "Index :      18787, ID : ange23fwA , Similar Value : 0.31622776601683794\n",
            "Index :      18753, ID : ange1blEu , Similar Value : 0.31622776601683794\n",
            "Index :      18745, ID : ange1WBUJ , Similar Value : 0.31622776601683794\n",
            "Index :      18716, ID : ange1AerV , Similar Value : 0.31622776601683794\n",
            "Index :      24948, ID : azazcfF7v , Similar Value : 0.31622776601683794\n",
            "Index :      25267, ID : b_mo580NV , Similar Value : 0.31622776601683794\n",
            "Index :      24565, ID : avt51oXl  , Similar Value : 0.31622776601683794\n",
            "Index :      24902, ID : aza23k4oG , Similar Value : 0.31622776601683794\n",
            "Index :      10929, ID : ab612oeWJ , Similar Value : 0.31622776601683794\n",
            "Index :      10797, ID : aaplByWY  , Similar Value : 0.31622776601683794\n",
            "Index :      11369, ID : abth8qvV1 , Similar Value : 0.31622776601683794\n",
            "Index :      11162, ID : abema1tYU , Similar Value : 0.31622776601683794\n",
            "Index :      12353, ID : adk93BwVY , Similar Value : 0.31622776601683794\n",
            "Index :      12363, ID : adks50ehC , Similar Value : 0.31622776601683794\n",
            "Index :      12370, ID : adle5Qc1s , Similar Value : 0.31622776601683794\n",
            "Index :      12447, ID : adooWHt1  , Similar Value : 0.31622776601683794\n",
            "Index :       8104, ID : 7845bUcIX , Similar Value : 0.31622776601683794\n",
            "Index :       8057, ID : 77mo1fXvw , Similar Value : 0.31622776601683794\n",
            "Index :       8389, ID : 7smf13LSJ , Similar Value : 0.31622776601683794\n",
            "Index :       8217, ID : 79ak2h7pO , Similar Value : 0.31622776601683794\n",
            "Index :      32201, ID : bjja3nnr6 , Similar Value : 0.31622776601683794\n",
            "Index :      32626, ID : bks91y8C1 , Similar Value : 0.31622776601683794\n",
            "Index :      31796, ID : bird1lmGR , Similar Value : 0.31622776601683794\n",
            "Index :      31922, ID : bist12Li  , Similar Value : 0.31622776601683794\n",
            "Index :       5149, ID : 305f4FutB , Similar Value : 0.31622776601683794\n",
            "Index :       5178, ID : 30ks1QG3H , Similar Value : 0.31622776601683794\n",
            "Index :       4978, ID : 2nak5bfjO , Similar Value : 0.31622776601683794\n",
            "Index :       5121, ID : 300m1wPcl , Similar Value : 0.31622776601683794\n"
          ],
          "name": "stdout"
        }
      ]
    },
    {
      "cell_type": "code",
      "metadata": {
        "colab": {
          "base_uri": "https://localhost:8080/"
        },
        "id": "USWh7cXiByBh",
        "outputId": "2ad2d6c2-9716-45e9-8d54-8b72e6489c25"
      },
      "source": [
        "# 벡터 체크\n",
        "similar_users.shape"
      ],
      "execution_count": null,
      "outputs": [
        {
          "output_type": "execute_result",
          "data": {
            "text/plain": [
              "torch.Size([500, 1422])"
            ]
          },
          "metadata": {
            "tags": []
          },
          "execution_count": 15
        }
      ]
    },
    {
      "cell_type": "code",
      "metadata": {
        "colab": {
          "base_uri": "https://localhost:8080/"
        },
        "id": "YOWX-xGoCE-4",
        "outputId": "fb992789-6f76-4637-d105-99307801b981"
      },
      "source": [
        "# num_k명의 벡터 평균치 계산\n",
        "similar_users_mean = torch.mean(similar_users,dim=0)\n",
        "\n",
        "# 하나의 평균 벡터가 나옴\n",
        "similar_users_mean.shape"
      ],
      "execution_count": null,
      "outputs": [
        {
          "output_type": "execute_result",
          "data": {
            "text/plain": [
              "torch.Size([1422])"
            ]
          },
          "metadata": {
            "tags": []
          },
          "execution_count": 16
        }
      ]
    },
    {
      "cell_type": "code",
      "metadata": {
        "id": "DSJzsOyXPqyf"
      },
      "source": [
        "# num_k명의 평균 벡터와, 주인공 유저와의 벡터 차잇값을 계산\n",
        "diff_val = similar_users_mean - main_user.cpu()"
      ],
      "execution_count": null,
      "outputs": []
    },
    {
      "cell_type": "code",
      "metadata": {
        "id": "dzzq0ZdmZ06J"
      },
      "source": [
        ""
      ],
      "execution_count": null,
      "outputs": []
    },
    {
      "cell_type": "code",
      "metadata": {
        "id": "6APdcWhmQAyX"
      },
      "source": [
        "# 차이가 가장 많이 나는 값(뉴스) 추출. 차잇값, 인덱스 반환\n",
        "num_recommend_news = 10 # 추천할 뉴스의 갯수\n",
        "recommend_values, recommend_news_index = torch.topk(diff_val,num_recommend_news)"
      ],
      "execution_count": null,
      "outputs": []
    },
    {
      "cell_type": "code",
      "metadata": {
        "colab": {
          "base_uri": "https://localhost:8080/"
        },
        "id": "F2r1Xf_MRn5Z",
        "outputId": "9caa2daa-59ea-4944-b8a8-73b8f4476859"
      },
      "source": [
        "# 추출된 인덱스에 해당하는 뉴스는, \n",
        "# 주인공 사용자는 보지 않았지만 비슷한 사용자들은 본 뉴스들이다.\n",
        "# 혹은, 주인공 사용자만 보고 비슷한 사용자들은 전부 보지 않은 뉴스들이다.\n",
        "\n",
        "print(\"추천도 : {}\".format(recommend_values))\n",
        "print(\"추천 뉴스의 data에서의 Columns 인덱스 : {}\".format(recommend_news_index))"
      ],
      "execution_count": null,
      "outputs": [
        {
          "output_type": "stream",
          "text": [
            "추천도 : tensor([0.0080, 0.0080, 0.0040, 0.0040, 0.0040, 0.0020, 0.0020, 0.0020, 0.0020,\n",
            "        0.0020], dtype=torch.float64)\n",
            "추천 뉴스의 data에서의 Columns 인덱스 : tensor([ 605, 1357,  636,  154,  384,  132,  145,  126,  115,  113])\n"
          ],
          "name": "stdout"
        }
      ]
    },
    {
      "cell_type": "code",
      "metadata": {
        "colab": {
          "base_uri": "https://localhost:8080/"
        },
        "id": "1HCBQ9k6QoWf",
        "outputId": "40d7f831-f9ee-4c3d-9f43-608f5c7ca306"
      },
      "source": [
        "base_address = \"https://news.naver.com/main/read.nhn?mode=LSD&mid=shm&sid1=102&oid={}&aid={}\"\n",
        "# 추천 뉴스 출력\n",
        "for i in range(0, num_recommend_news) :\n",
        "\n",
        "  ids = df.columns[recommend_news_index[i].item()]\n",
        "  oid = ids[4:7]\n",
        "  aid = ids[-10:]\n",
        "  #print(oid,aid)\n",
        "  print (base_address.format(oid,aid),\"     추천도 : {}\".format(recommend_values[i]))"
      ],
      "execution_count": null,
      "outputs": [
        {
          "output_type": "stream",
          "text": [
            "https://news.naver.com/main/read.nhn?mode=LSD&mid=shm&sid1=102&oid=023&aid=0003522820      추천도 : 0.008\n",
            "https://news.naver.com/main/read.nhn?mode=LSD&mid=shm&sid1=102&oid=437&aid=0000235778      추천도 : 0.008\n",
            "https://news.naver.com/main/read.nhn?mode=LSD&mid=shm&sid1=102&oid=023&aid=0003523196      추천도 : 0.004\n",
            "https://news.naver.com/main/read.nhn?mode=LSD&mid=shm&sid1=102&oid=005&aid=0001310779      추천도 : 0.004\n",
            "https://news.naver.com/main/read.nhn?mode=LSD&mid=shm&sid1=102&oid=015&aid=0004322636      추천도 : 0.004\n",
            "https://news.naver.com/main/read.nhn?mode=LSD&mid=shm&sid1=102&oid=005&aid=0001310251      추천도 : 0.002\n",
            "https://news.naver.com/main/read.nhn?mode=LSD&mid=shm&sid1=102&oid=005&aid=0001310498      추천도 : 0.002\n",
            "https://news.naver.com/main/read.nhn?mode=LSD&mid=shm&sid1=102&oid=005&aid=0001309982      추천도 : 0.002\n",
            "https://news.naver.com/main/read.nhn?mode=LSD&mid=shm&sid1=102&oid=005&aid=0001309120      추천도 : 0.002\n",
            "https://news.naver.com/main/read.nhn?mode=LSD&mid=shm&sid1=102&oid=005&aid=0001309070      추천도 : 0.002\n"
          ],
          "name": "stdout"
        }
      ]
    },
    {
      "cell_type": "code",
      "metadata": {
        "colab": {
          "base_uri": "https://localhost:8080/"
        },
        "id": "bqmJ3ABNRmLG",
        "outputId": "fbf1f542-a805-4d5f-a407-5a02641269f3"
      },
      "source": [
        "# 참고. 유저가 본 뉴스 목록들\n",
        "# user_index에 유저 인덱스 값을 넣으면 된다\n",
        "user_index = 9\n",
        "test_user_vector = torch.DoubleTensor(data[user_index])\n",
        "for i in range(0, test_user_vector.shape[0]) :\n",
        "  if test_user_vector[i] > 0 :\n",
        "    ids = df.columns[i]\n",
        "    oid = ids[4:7]\n",
        "    aid = ids[-10:]\n",
        "    #print(oid,aid)\n",
        "    print (base_address.format(oid,aid))\n",
        "    "
      ],
      "execution_count": null,
      "outputs": [
        {
          "output_type": "stream",
          "text": [
            "https://news.naver.com/main/read.nhn?mode=LSD&mid=shm&sid1=102&oid=001&aid=0011540279\n",
            "https://news.naver.com/main/read.nhn?mode=LSD&mid=shm&sid1=102&oid=008&aid=0004393675\n",
            "https://news.naver.com/main/read.nhn?mode=LSD&mid=shm&sid1=102&oid=015&aid=0004322277\n",
            "https://news.naver.com/main/read.nhn?mode=LSD&mid=shm&sid1=102&oid=025&aid=0002992100\n",
            "https://news.naver.com/main/read.nhn?mode=LSD&mid=shm&sid1=102&oid=055&aid=0000806872\n",
            "https://news.naver.com/main/read.nhn?mode=LSD&mid=shm&sid1=102&oid=055&aid=0000807167\n",
            "https://news.naver.com/main/read.nhn?mode=LSD&mid=shm&sid1=102&oid=081&aid=0003081123\n",
            "https://news.naver.com/main/read.nhn?mode=LSD&mid=shm&sid1=102&oid=081&aid=0003081639\n",
            "https://news.naver.com/main/read.nhn?mode=LSD&mid=shm&sid1=102&oid=119&aid=0002395475\n",
            "https://news.naver.com/main/read.nhn?mode=LSD&mid=shm&sid1=102&oid=214&aid=0001030081\n"
          ],
          "name": "stdout"
        }
      ]
    },
    {
      "cell_type": "code",
      "metadata": {
        "id": "nr6tY4y5QlHQ"
      },
      "source": [
        "import plotly as py\r\n",
        "from plotly.offline import init_notebook_mode, iplot\r\n",
        "import plotly.graph_objs as go\r\n",
        "import plotly.io as pio"
      ],
      "execution_count": null,
      "outputs": []
    },
    {
      "cell_type": "code",
      "metadata": {
        "colab": {
          "base_uri": "https://localhost:8080/",
          "height": 517
        },
        "id": "a9xmg9lvVazg",
        "outputId": "98ce69b1-4b69-4e8d-cb10-83f80379cbc3"
      },
      "source": [
        "pio.templates.default = \"plotly_dark\"\r\n",
        "fig = go.Figure()\r\n",
        "fig.add_trace(go.Scatter(x=np.array(range(num_k)),y=similar_values.cpu().numpy(), name='cosine distance'))\r\n",
        "fig.update_layout(\r\n",
        "    autosize=False,\r\n",
        "    width=500,\r\n",
        "    height=500,\r\n",
        "    margin=dict(\r\n",
        "        l=50,\r\n",
        "        r=50,\r\n",
        "        b=100,\r\n",
        "        t=100,\r\n",
        "        pad=4\r\n",
        "    )\r\n",
        ")\r\n",
        "fig.show()"
      ],
      "execution_count": null,
      "outputs": [
        {
          "output_type": "display_data",
          "data": {
            "text/html": [
              "<html>\n",
              "<head><meta charset=\"utf-8\" /></head>\n",
              "<body>\n",
              "    <div>\n",
              "            <script src=\"https://cdnjs.cloudflare.com/ajax/libs/mathjax/2.7.5/MathJax.js?config=TeX-AMS-MML_SVG\"></script><script type=\"text/javascript\">if (window.MathJax) {MathJax.Hub.Config({SVG: {font: \"STIX-Web\"}});}</script>\n",
              "                <script type=\"text/javascript\">window.PlotlyConfig = {MathJaxConfig: 'local'};</script>\n",
              "        <script src=\"https://cdn.plot.ly/plotly-latest.min.js\"></script>    \n",
              "            <div id=\"bcc365e5-b4ff-4c20-8326-d4d15c01162b\" class=\"plotly-graph-div\" style=\"height:500px; width:500px;\"></div>\n",
              "            <script type=\"text/javascript\">\n",
              "                \n",
              "                    window.PLOTLYENV=window.PLOTLYENV || {};\n",
              "                    \n",
              "                if (document.getElementById(\"bcc365e5-b4ff-4c20-8326-d4d15c01162b\")) {\n",
              "                    Plotly.newPlot(\n",
              "                        'bcc365e5-b4ff-4c20-8326-d4d15c01162b',\n",
              "                        [{\"name\": \"cosine distance\", \"type\": \"scatter\", \"x\": [0, 1, 2, 3, 4, 5, 6, 7, 8, 9, 10, 11, 12, 13, 14, 15, 16, 17, 18, 19, 20, 21, 22, 23, 24, 25, 26, 27, 28, 29, 30, 31, 32, 33, 34, 35, 36, 37, 38, 39, 40, 41, 42, 43, 44, 45, 46, 47, 48, 49, 50, 51, 52, 53, 54, 55, 56, 57, 58, 59, 60, 61, 62, 63, 64, 65, 66, 67, 68, 69, 70, 71, 72, 73, 74, 75, 76, 77, 78, 79, 80, 81, 82, 83, 84, 85, 86, 87, 88, 89, 90, 91, 92, 93, 94, 95, 96, 97, 98, 99, 100, 101, 102, 103, 104, 105, 106, 107, 108, 109, 110, 111, 112, 113, 114, 115, 116, 117, 118, 119, 120, 121, 122, 123, 124, 125, 126, 127, 128, 129, 130, 131, 132, 133, 134, 135, 136, 137, 138, 139, 140, 141, 142, 143, 144, 145, 146, 147, 148, 149, 150, 151, 152, 153, 154, 155, 156, 157, 158, 159, 160, 161, 162, 163, 164, 165, 166, 167, 168, 169, 170, 171, 172, 173, 174, 175, 176, 177, 178, 179, 180, 181, 182, 183, 184, 185, 186, 187, 188, 189, 190, 191, 192, 193, 194, 195, 196, 197, 198, 199, 200, 201, 202, 203, 204, 205, 206, 207, 208, 209, 210, 211, 212, 213, 214, 215, 216, 217, 218, 219, 220, 221, 222, 223, 224, 225, 226, 227, 228, 229, 230, 231, 232, 233, 234, 235, 236, 237, 238, 239, 240, 241, 242, 243, 244, 245, 246, 247, 248, 249, 250, 251, 252, 253, 254, 255, 256, 257, 258, 259, 260, 261, 262, 263, 264, 265, 266, 267, 268, 269, 270, 271, 272, 273, 274, 275, 276, 277, 278, 279, 280, 281, 282, 283, 284, 285, 286, 287, 288, 289, 290, 291, 292, 293, 294, 295, 296, 297, 298, 299, 300, 301, 302, 303, 304, 305, 306, 307, 308, 309, 310, 311, 312, 313, 314, 315, 316, 317, 318, 319, 320, 321, 322, 323, 324, 325, 326, 327, 328, 329, 330, 331, 332, 333, 334, 335, 336, 337, 338, 339, 340, 341, 342, 343, 344, 345, 346, 347, 348, 349, 350, 351, 352, 353, 354, 355, 356, 357, 358, 359, 360, 361, 362, 363, 364, 365, 366, 367, 368, 369, 370, 371, 372, 373, 374, 375, 376, 377, 378, 379, 380, 381, 382, 383, 384, 385, 386, 387, 388, 389, 390, 391, 392, 393, 394, 395, 396, 397, 398, 399, 400, 401, 402, 403, 404, 405, 406, 407, 408, 409, 410, 411, 412, 413, 414, 415, 416, 417, 418, 419, 420, 421, 422, 423, 424, 425, 426, 427, 428, 429, 430, 431, 432, 433, 434, 435, 436, 437, 438, 439, 440, 441, 442, 443, 444, 445, 446, 447, 448, 449, 450, 451, 452, 453, 454, 455, 456, 457, 458, 459, 460, 461, 462, 463, 464, 465, 466, 467, 468, 469, 470, 471, 472, 473, 474, 475, 476, 477, 478, 479, 480, 481, 482, 483, 484, 485, 486, 487, 488, 489, 490, 491, 492, 493, 494, 495, 496, 497, 498, 499], \"y\": [1.0, 0.4743416490252569, 0.4743416490252569, 0.4743416490252569, 0.4472135954999579, 0.4472135954999579, 0.4472135954999579, 0.4472135954999579, 0.4472135954999579, 0.4472135954999579, 0.4472135954999579, 0.4472135954999579, 0.4472135954999579, 0.4472135954999579, 0.4472135954999579, 0.4472135954999579, 0.4472135954999579, 0.4472135954999579, 0.4472135954999579, 0.4472135954999579, 0.4472135954999579, 0.4472135954999579, 0.3872983346207417, 0.3651483716701107, 0.3651483716701107, 0.3651483716701107, 0.3651483716701107, 0.3651483716701107, 0.3651483716701107, 0.3651483716701107, 0.3651483716701107, 0.3651483716701107, 0.3651483716701107, 0.3651483716701107, 0.3651483716701107, 0.3651483716701107, 0.3651483716701107, 0.3651483716701107, 0.3651483716701107, 0.3651483716701107, 0.3651483716701107, 0.3651483716701107, 0.3651483716701107, 0.3651483716701107, 0.3651483716701107, 0.3651483716701107, 0.3651483716701107, 0.3651483716701107, 0.3651483716701107, 0.3651483716701107, 0.3651483716701107, 0.35856858280031806, 0.35856858280031806, 0.33541019662496846, 0.33541019662496846, 0.32659863237109044, 0.31622776601683794, 0.31622776601683794, 0.31622776601683794, 0.31622776601683794, 0.31622776601683794, 0.31622776601683794, 0.31622776601683794, 0.31622776601683794, 0.31622776601683794, 0.31622776601683794, 0.31622776601683794, 0.31622776601683794, 0.31622776601683794, 0.31622776601683794, 0.31622776601683794, 0.31622776601683794, 0.31622776601683794, 0.31622776601683794, 0.31622776601683794, 0.31622776601683794, 0.31622776601683794, 0.31622776601683794, 0.31622776601683794, 0.31622776601683794, 0.31622776601683794, 0.31622776601683794, 0.31622776601683794, 0.31622776601683794, 0.31622776601683794, 0.31622776601683794, 0.31622776601683794, 0.31622776601683794, 0.31622776601683794, 0.31622776601683794, 0.31622776601683794, 0.31622776601683794, 0.31622776601683794, 0.31622776601683794, 0.31622776601683794, 0.31622776601683794, 0.31622776601683794, 0.31622776601683794, 0.31622776601683794, 0.31622776601683794, 0.31622776601683794, 0.31622776601683794, 0.31622776601683794, 0.31622776601683794, 0.31622776601683794, 0.31622776601683794, 0.31622776601683794, 0.31622776601683794, 0.31622776601683794, 0.31622776601683794, 0.31622776601683794, 0.31622776601683794, 0.31622776601683794, 0.31622776601683794, 0.31622776601683794, 0.31622776601683794, 0.31622776601683794, 0.31622776601683794, 0.31622776601683794, 0.31622776601683794, 0.31622776601683794, 0.31622776601683794, 0.31622776601683794, 0.31622776601683794, 0.31622776601683794, 0.31622776601683794, 0.31622776601683794, 0.31622776601683794, 0.31622776601683794, 0.31622776601683794, 0.31622776601683794, 0.31622776601683794, 0.31622776601683794, 0.31622776601683794, 0.31622776601683794, 0.31622776601683794, 0.31622776601683794, 0.31622776601683794, 0.31622776601683794, 0.31622776601683794, 0.31622776601683794, 0.31622776601683794, 0.31622776601683794, 0.31622776601683794, 0.31622776601683794, 0.31622776601683794, 0.31622776601683794, 0.31622776601683794, 0.31622776601683794, 0.31622776601683794, 0.31622776601683794, 0.31622776601683794, 0.31622776601683794, 0.31622776601683794, 0.31622776601683794, 0.31622776601683794, 0.31622776601683794, 0.31622776601683794, 0.31622776601683794, 0.31622776601683794, 0.31622776601683794, 0.31622776601683794, 0.31622776601683794, 0.31622776601683794, 0.31622776601683794, 0.31622776601683794, 0.31622776601683794, 0.31622776601683794, 0.31622776601683794, 0.31622776601683794, 0.31622776601683794, 0.31622776601683794, 0.31622776601683794, 0.31622776601683794, 0.31622776601683794, 0.31622776601683794, 0.31622776601683794, 0.31622776601683794, 0.31622776601683794, 0.31622776601683794, 0.31622776601683794, 0.31622776601683794, 0.31622776601683794, 0.31622776601683794, 0.31622776601683794, 0.31622776601683794, 0.31622776601683794, 0.31622776601683794, 0.31622776601683794, 0.31622776601683794, 0.31622776601683794, 0.31622776601683794, 0.31622776601683794, 0.31622776601683794, 0.31622776601683794, 0.31622776601683794, 0.31622776601683794, 0.31622776601683794, 0.31622776601683794, 0.31622776601683794, 0.31622776601683794, 0.31622776601683794, 0.31622776601683794, 0.31622776601683794, 0.31622776601683794, 0.31622776601683794, 0.31622776601683794, 0.31622776601683794, 0.31622776601683794, 0.31622776601683794, 0.31622776601683794, 0.31622776601683794, 0.31622776601683794, 0.31622776601683794, 0.31622776601683794, 0.31622776601683794, 0.31622776601683794, 0.31622776601683794, 0.31622776601683794, 0.31622776601683794, 0.31622776601683794, 0.31622776601683794, 0.31622776601683794, 0.31622776601683794, 0.31622776601683794, 0.31622776601683794, 0.31622776601683794, 0.31622776601683794, 0.31622776601683794, 0.31622776601683794, 0.31622776601683794, 0.31622776601683794, 0.31622776601683794, 0.31622776601683794, 0.31622776601683794, 0.31622776601683794, 0.31622776601683794, 0.31622776601683794, 0.31622776601683794, 0.31622776601683794, 0.31622776601683794, 0.31622776601683794, 0.31622776601683794, 0.31622776601683794, 0.31622776601683794, 0.31622776601683794, 0.31622776601683794, 0.31622776601683794, 0.31622776601683794, 0.31622776601683794, 0.31622776601683794, 0.31622776601683794, 0.31622776601683794, 0.31622776601683794, 0.31622776601683794, 0.31622776601683794, 0.31622776601683794, 0.31622776601683794, 0.31622776601683794, 0.31622776601683794, 0.31622776601683794, 0.31622776601683794, 0.31622776601683794, 0.31622776601683794, 0.31622776601683794, 0.31622776601683794, 0.31622776601683794, 0.31622776601683794, 0.31622776601683794, 0.31622776601683794, 0.31622776601683794, 0.31622776601683794, 0.31622776601683794, 0.31622776601683794, 0.31622776601683794, 0.31622776601683794, 0.31622776601683794, 0.31622776601683794, 0.31622776601683794, 0.31622776601683794, 0.31622776601683794, 0.31622776601683794, 0.31622776601683794, 0.31622776601683794, 0.31622776601683794, 0.31622776601683794, 0.31622776601683794, 0.31622776601683794, 0.31622776601683794, 0.31622776601683794, 0.31622776601683794, 0.31622776601683794, 0.31622776601683794, 0.31622776601683794, 0.31622776601683794, 0.31622776601683794, 0.31622776601683794, 0.31622776601683794, 0.31622776601683794, 0.31622776601683794, 0.31622776601683794, 0.31622776601683794, 0.31622776601683794, 0.31622776601683794, 0.31622776601683794, 0.31622776601683794, 0.31622776601683794, 0.31622776601683794, 0.31622776601683794, 0.31622776601683794, 0.31622776601683794, 0.31622776601683794, 0.31622776601683794, 0.31622776601683794, 0.31622776601683794, 0.31622776601683794, 0.31622776601683794, 0.31622776601683794, 0.31622776601683794, 0.31622776601683794, 0.31622776601683794, 0.31622776601683794, 0.31622776601683794, 0.31622776601683794, 0.31622776601683794, 0.31622776601683794, 0.31622776601683794, 0.31622776601683794, 0.31622776601683794, 0.31622776601683794, 0.31622776601683794, 0.31622776601683794, 0.31622776601683794, 0.31622776601683794, 0.31622776601683794, 0.31622776601683794, 0.31622776601683794, 0.31622776601683794, 0.31622776601683794, 0.31622776601683794, 0.31622776601683794, 0.31622776601683794, 0.31622776601683794, 0.31622776601683794, 0.31622776601683794, 0.31622776601683794, 0.31622776601683794, 0.31622776601683794, 0.31622776601683794, 0.31622776601683794, 0.31622776601683794, 0.31622776601683794, 0.31622776601683794, 0.31622776601683794, 0.31622776601683794, 0.31622776601683794, 0.31622776601683794, 0.31622776601683794, 0.31622776601683794, 0.31622776601683794, 0.31622776601683794, 0.31622776601683794, 0.31622776601683794, 0.31622776601683794, 0.31622776601683794, 0.31622776601683794, 0.31622776601683794, 0.31622776601683794, 0.31622776601683794, 0.31622776601683794, 0.31622776601683794, 0.31622776601683794, 0.31622776601683794, 0.31622776601683794, 0.31622776601683794, 0.31622776601683794, 0.31622776601683794, 0.31622776601683794, 0.31622776601683794, 0.31622776601683794, 0.31622776601683794, 0.31622776601683794, 0.31622776601683794, 0.31622776601683794, 0.31622776601683794, 0.31622776601683794, 0.31622776601683794, 0.31622776601683794, 0.31622776601683794, 0.31622776601683794, 0.31622776601683794, 0.31622776601683794, 0.31622776601683794, 0.31622776601683794, 0.31622776601683794, 0.31622776601683794, 0.31622776601683794, 0.31622776601683794, 0.31622776601683794, 0.31622776601683794, 0.31622776601683794, 0.31622776601683794, 0.31622776601683794, 0.31622776601683794, 0.31622776601683794, 0.31622776601683794, 0.31622776601683794, 0.31622776601683794, 0.31622776601683794, 0.31622776601683794, 0.31622776601683794, 0.31622776601683794, 0.31622776601683794, 0.31622776601683794, 0.31622776601683794, 0.31622776601683794, 0.31622776601683794, 0.31622776601683794, 0.31622776601683794, 0.31622776601683794, 0.31622776601683794, 0.31622776601683794, 0.31622776601683794, 0.31622776601683794, 0.31622776601683794, 0.31622776601683794, 0.31622776601683794, 0.31622776601683794, 0.31622776601683794, 0.31622776601683794, 0.31622776601683794, 0.31622776601683794, 0.31622776601683794, 0.31622776601683794, 0.31622776601683794, 0.31622776601683794, 0.31622776601683794, 0.31622776601683794, 0.31622776601683794, 0.31622776601683794, 0.31622776601683794, 0.31622776601683794, 0.31622776601683794, 0.31622776601683794, 0.31622776601683794, 0.31622776601683794, 0.31622776601683794, 0.31622776601683794, 0.31622776601683794, 0.31622776601683794, 0.31622776601683794, 0.31622776601683794, 0.31622776601683794, 0.31622776601683794, 0.31622776601683794, 0.31622776601683794, 0.31622776601683794, 0.31622776601683794, 0.31622776601683794, 0.31622776601683794, 0.31622776601683794, 0.31622776601683794, 0.31622776601683794, 0.31622776601683794, 0.31622776601683794, 0.31622776601683794, 0.31622776601683794, 0.31622776601683794, 0.31622776601683794, 0.31622776601683794, 0.31622776601683794, 0.31622776601683794, 0.31622776601683794, 0.31622776601683794, 0.31622776601683794, 0.31622776601683794, 0.31622776601683794, 0.31622776601683794, 0.31622776601683794, 0.31622776601683794, 0.31622776601683794, 0.31622776601683794, 0.31622776601683794, 0.31622776601683794, 0.31622776601683794, 0.31622776601683794, 0.31622776601683794, 0.31622776601683794, 0.31622776601683794, 0.31622776601683794, 0.31622776601683794, 0.31622776601683794, 0.31622776601683794, 0.31622776601683794, 0.31622776601683794, 0.31622776601683794, 0.31622776601683794, 0.31622776601683794, 0.31622776601683794, 0.31622776601683794]}],\n",
              "                        {\"autosize\": false, \"height\": 500, \"margin\": {\"b\": 100, \"l\": 50, \"pad\": 4, \"r\": 50, \"t\": 100}, \"template\": {\"data\": {\"bar\": [{\"error_x\": {\"color\": \"#f2f5fa\"}, \"error_y\": {\"color\": \"#f2f5fa\"}, \"marker\": {\"line\": {\"color\": \"rgb(17,17,17)\", \"width\": 0.5}}, \"type\": \"bar\"}], \"barpolar\": [{\"marker\": {\"line\": {\"color\": \"rgb(17,17,17)\", \"width\": 0.5}}, \"type\": \"barpolar\"}], \"carpet\": [{\"aaxis\": {\"endlinecolor\": \"#A2B1C6\", \"gridcolor\": \"#506784\", \"linecolor\": \"#506784\", \"minorgridcolor\": \"#506784\", \"startlinecolor\": \"#A2B1C6\"}, \"baxis\": {\"endlinecolor\": \"#A2B1C6\", \"gridcolor\": \"#506784\", \"linecolor\": \"#506784\", \"minorgridcolor\": \"#506784\", \"startlinecolor\": \"#A2B1C6\"}, \"type\": \"carpet\"}], \"choropleth\": [{\"colorbar\": {\"outlinewidth\": 0, \"ticks\": \"\"}, \"type\": \"choropleth\"}], \"contour\": [{\"colorbar\": {\"outlinewidth\": 0, \"ticks\": \"\"}, \"colorscale\": [[0.0, \"#0d0887\"], [0.1111111111111111, \"#46039f\"], [0.2222222222222222, \"#7201a8\"], [0.3333333333333333, \"#9c179e\"], [0.4444444444444444, \"#bd3786\"], [0.5555555555555556, \"#d8576b\"], [0.6666666666666666, \"#ed7953\"], [0.7777777777777778, \"#fb9f3a\"], [0.8888888888888888, \"#fdca26\"], [1.0, \"#f0f921\"]], \"type\": \"contour\"}], \"contourcarpet\": [{\"colorbar\": {\"outlinewidth\": 0, \"ticks\": \"\"}, \"type\": \"contourcarpet\"}], \"heatmap\": [{\"colorbar\": {\"outlinewidth\": 0, \"ticks\": \"\"}, \"colorscale\": [[0.0, \"#0d0887\"], [0.1111111111111111, \"#46039f\"], [0.2222222222222222, \"#7201a8\"], [0.3333333333333333, \"#9c179e\"], [0.4444444444444444, \"#bd3786\"], [0.5555555555555556, \"#d8576b\"], [0.6666666666666666, \"#ed7953\"], [0.7777777777777778, \"#fb9f3a\"], [0.8888888888888888, \"#fdca26\"], [1.0, \"#f0f921\"]], \"type\": \"heatmap\"}], \"heatmapgl\": [{\"colorbar\": {\"outlinewidth\": 0, \"ticks\": \"\"}, \"colorscale\": [[0.0, \"#0d0887\"], [0.1111111111111111, \"#46039f\"], [0.2222222222222222, \"#7201a8\"], [0.3333333333333333, \"#9c179e\"], [0.4444444444444444, \"#bd3786\"], [0.5555555555555556, \"#d8576b\"], [0.6666666666666666, \"#ed7953\"], [0.7777777777777778, \"#fb9f3a\"], [0.8888888888888888, \"#fdca26\"], [1.0, \"#f0f921\"]], \"type\": \"heatmapgl\"}], \"histogram\": [{\"marker\": {\"colorbar\": {\"outlinewidth\": 0, \"ticks\": \"\"}}, \"type\": \"histogram\"}], \"histogram2d\": [{\"colorbar\": {\"outlinewidth\": 0, \"ticks\": \"\"}, \"colorscale\": [[0.0, \"#0d0887\"], [0.1111111111111111, \"#46039f\"], [0.2222222222222222, \"#7201a8\"], [0.3333333333333333, \"#9c179e\"], [0.4444444444444444, \"#bd3786\"], [0.5555555555555556, \"#d8576b\"], [0.6666666666666666, \"#ed7953\"], [0.7777777777777778, \"#fb9f3a\"], [0.8888888888888888, \"#fdca26\"], [1.0, \"#f0f921\"]], \"type\": \"histogram2d\"}], \"histogram2dcontour\": [{\"colorbar\": {\"outlinewidth\": 0, \"ticks\": \"\"}, \"colorscale\": [[0.0, \"#0d0887\"], [0.1111111111111111, \"#46039f\"], [0.2222222222222222, \"#7201a8\"], [0.3333333333333333, \"#9c179e\"], [0.4444444444444444, \"#bd3786\"], [0.5555555555555556, \"#d8576b\"], [0.6666666666666666, \"#ed7953\"], [0.7777777777777778, \"#fb9f3a\"], [0.8888888888888888, \"#fdca26\"], [1.0, \"#f0f921\"]], \"type\": \"histogram2dcontour\"}], \"mesh3d\": [{\"colorbar\": {\"outlinewidth\": 0, \"ticks\": \"\"}, \"type\": \"mesh3d\"}], \"parcoords\": [{\"line\": {\"colorbar\": {\"outlinewidth\": 0, \"ticks\": \"\"}}, \"type\": \"parcoords\"}], \"pie\": [{\"automargin\": true, \"type\": \"pie\"}], \"scatter\": [{\"marker\": {\"line\": {\"color\": \"#283442\"}}, \"type\": \"scatter\"}], \"scatter3d\": [{\"line\": {\"colorbar\": {\"outlinewidth\": 0, \"ticks\": \"\"}}, \"marker\": {\"colorbar\": {\"outlinewidth\": 0, \"ticks\": \"\"}}, \"type\": \"scatter3d\"}], \"scattercarpet\": [{\"marker\": {\"colorbar\": {\"outlinewidth\": 0, \"ticks\": \"\"}}, \"type\": \"scattercarpet\"}], \"scattergeo\": [{\"marker\": {\"colorbar\": {\"outlinewidth\": 0, \"ticks\": \"\"}}, \"type\": \"scattergeo\"}], \"scattergl\": [{\"marker\": {\"line\": {\"color\": \"#283442\"}}, \"type\": \"scattergl\"}], \"scattermapbox\": [{\"marker\": {\"colorbar\": {\"outlinewidth\": 0, \"ticks\": \"\"}}, \"type\": \"scattermapbox\"}], \"scatterpolar\": [{\"marker\": {\"colorbar\": {\"outlinewidth\": 0, \"ticks\": \"\"}}, \"type\": \"scatterpolar\"}], \"scatterpolargl\": [{\"marker\": {\"colorbar\": {\"outlinewidth\": 0, \"ticks\": \"\"}}, \"type\": \"scatterpolargl\"}], \"scatterternary\": [{\"marker\": {\"colorbar\": {\"outlinewidth\": 0, \"ticks\": \"\"}}, \"type\": \"scatterternary\"}], \"surface\": [{\"colorbar\": {\"outlinewidth\": 0, \"ticks\": \"\"}, \"colorscale\": [[0.0, \"#0d0887\"], [0.1111111111111111, \"#46039f\"], [0.2222222222222222, \"#7201a8\"], [0.3333333333333333, \"#9c179e\"], [0.4444444444444444, \"#bd3786\"], [0.5555555555555556, \"#d8576b\"], [0.6666666666666666, \"#ed7953\"], [0.7777777777777778, \"#fb9f3a\"], [0.8888888888888888, \"#fdca26\"], [1.0, \"#f0f921\"]], \"type\": \"surface\"}], \"table\": [{\"cells\": {\"fill\": {\"color\": \"#506784\"}, \"line\": {\"color\": \"rgb(17,17,17)\"}}, \"header\": {\"fill\": {\"color\": \"#2a3f5f\"}, \"line\": {\"color\": \"rgb(17,17,17)\"}}, \"type\": \"table\"}]}, \"layout\": {\"annotationdefaults\": {\"arrowcolor\": \"#f2f5fa\", \"arrowhead\": 0, \"arrowwidth\": 1}, \"coloraxis\": {\"colorbar\": {\"outlinewidth\": 0, \"ticks\": \"\"}}, \"colorscale\": {\"diverging\": [[0, \"#8e0152\"], [0.1, \"#c51b7d\"], [0.2, \"#de77ae\"], [0.3, \"#f1b6da\"], [0.4, \"#fde0ef\"], [0.5, \"#f7f7f7\"], [0.6, \"#e6f5d0\"], [0.7, \"#b8e186\"], [0.8, \"#7fbc41\"], [0.9, \"#4d9221\"], [1, \"#276419\"]], \"sequential\": [[0.0, \"#0d0887\"], [0.1111111111111111, \"#46039f\"], [0.2222222222222222, \"#7201a8\"], [0.3333333333333333, \"#9c179e\"], [0.4444444444444444, \"#bd3786\"], [0.5555555555555556, \"#d8576b\"], [0.6666666666666666, \"#ed7953\"], [0.7777777777777778, \"#fb9f3a\"], [0.8888888888888888, \"#fdca26\"], [1.0, \"#f0f921\"]], \"sequentialminus\": [[0.0, \"#0d0887\"], [0.1111111111111111, \"#46039f\"], [0.2222222222222222, \"#7201a8\"], [0.3333333333333333, \"#9c179e\"], [0.4444444444444444, \"#bd3786\"], [0.5555555555555556, \"#d8576b\"], [0.6666666666666666, \"#ed7953\"], [0.7777777777777778, \"#fb9f3a\"], [0.8888888888888888, \"#fdca26\"], [1.0, \"#f0f921\"]]}, \"colorway\": [\"#636efa\", \"#EF553B\", \"#00cc96\", \"#ab63fa\", \"#FFA15A\", \"#19d3f3\", \"#FF6692\", \"#B6E880\", \"#FF97FF\", \"#FECB52\"], \"font\": {\"color\": \"#f2f5fa\"}, \"geo\": {\"bgcolor\": \"rgb(17,17,17)\", \"lakecolor\": \"rgb(17,17,17)\", \"landcolor\": \"rgb(17,17,17)\", \"showlakes\": true, \"showland\": true, \"subunitcolor\": \"#506784\"}, \"hoverlabel\": {\"align\": \"left\"}, \"hovermode\": \"closest\", \"mapbox\": {\"style\": \"dark\"}, \"paper_bgcolor\": \"rgb(17,17,17)\", \"plot_bgcolor\": \"rgb(17,17,17)\", \"polar\": {\"angularaxis\": {\"gridcolor\": \"#506784\", \"linecolor\": \"#506784\", \"ticks\": \"\"}, \"bgcolor\": \"rgb(17,17,17)\", \"radialaxis\": {\"gridcolor\": \"#506784\", \"linecolor\": \"#506784\", \"ticks\": \"\"}}, \"scene\": {\"xaxis\": {\"backgroundcolor\": \"rgb(17,17,17)\", \"gridcolor\": \"#506784\", \"gridwidth\": 2, \"linecolor\": \"#506784\", \"showbackground\": true, \"ticks\": \"\", \"zerolinecolor\": \"#C8D4E3\"}, \"yaxis\": {\"backgroundcolor\": \"rgb(17,17,17)\", \"gridcolor\": \"#506784\", \"gridwidth\": 2, \"linecolor\": \"#506784\", \"showbackground\": true, \"ticks\": \"\", \"zerolinecolor\": \"#C8D4E3\"}, \"zaxis\": {\"backgroundcolor\": \"rgb(17,17,17)\", \"gridcolor\": \"#506784\", \"gridwidth\": 2, \"linecolor\": \"#506784\", \"showbackground\": true, \"ticks\": \"\", \"zerolinecolor\": \"#C8D4E3\"}}, \"shapedefaults\": {\"line\": {\"color\": \"#f2f5fa\"}}, \"sliderdefaults\": {\"bgcolor\": \"#C8D4E3\", \"bordercolor\": \"rgb(17,17,17)\", \"borderwidth\": 1, \"tickwidth\": 0}, \"ternary\": {\"aaxis\": {\"gridcolor\": \"#506784\", \"linecolor\": \"#506784\", \"ticks\": \"\"}, \"baxis\": {\"gridcolor\": \"#506784\", \"linecolor\": \"#506784\", \"ticks\": \"\"}, \"bgcolor\": \"rgb(17,17,17)\", \"caxis\": {\"gridcolor\": \"#506784\", \"linecolor\": \"#506784\", \"ticks\": \"\"}}, \"title\": {\"x\": 0.05}, \"updatemenudefaults\": {\"bgcolor\": \"#506784\", \"borderwidth\": 0}, \"xaxis\": {\"automargin\": true, \"gridcolor\": \"#283442\", \"linecolor\": \"#506784\", \"ticks\": \"\", \"title\": {\"standoff\": 15}, \"zerolinecolor\": \"#283442\", \"zerolinewidth\": 2}, \"yaxis\": {\"automargin\": true, \"gridcolor\": \"#283442\", \"linecolor\": \"#506784\", \"ticks\": \"\", \"title\": {\"standoff\": 15}, \"zerolinecolor\": \"#283442\", \"zerolinewidth\": 2}}}, \"width\": 500},\n",
              "                        {\"responsive\": true}\n",
              "                    ).then(function(){\n",
              "                            \n",
              "var gd = document.getElementById('bcc365e5-b4ff-4c20-8326-d4d15c01162b');\n",
              "var x = new MutationObserver(function (mutations, observer) {{\n",
              "        var display = window.getComputedStyle(gd).display;\n",
              "        if (!display || display === 'none') {{\n",
              "            console.log([gd, 'removed!']);\n",
              "            Plotly.purge(gd);\n",
              "            observer.disconnect();\n",
              "        }}\n",
              "}});\n",
              "\n",
              "// Listen for the removal of the full notebook cells\n",
              "var notebookContainer = gd.closest('#notebook-container');\n",
              "if (notebookContainer) {{\n",
              "    x.observe(notebookContainer, {childList: true});\n",
              "}}\n",
              "\n",
              "// Listen for the clearing of the current output cell\n",
              "var outputEl = gd.closest('.output');\n",
              "if (outputEl) {{\n",
              "    x.observe(outputEl, {childList: true});\n",
              "}}\n",
              "\n",
              "                        })\n",
              "                };\n",
              "                \n",
              "            </script>\n",
              "        </div>\n",
              "</body>\n",
              "</html>"
            ]
          },
          "metadata": {
            "tags": []
          }
        }
      ]
    },
    {
      "cell_type": "code",
      "metadata": {
        "colab": {
          "base_uri": "https://localhost:8080/"
        },
        "id": "p7cjBG9ye0JH",
        "outputId": "c1975cae-f007-48e7-db35-4e4b8fc73e75"
      },
      "source": [
        "print(similar_users[1])\r\n",
        "similar_users.shape"
      ],
      "execution_count": null,
      "outputs": [
        {
          "output_type": "stream",
          "text": [
            "tensor([0., 0., 0.,  ..., 0., 0., 0.], dtype=torch.float64)\n"
          ],
          "name": "stdout"
        },
        {
          "output_type": "execute_result",
          "data": {
            "text/plain": [
              "torch.Size([500, 1422])"
            ]
          },
          "metadata": {
            "tags": []
          },
          "execution_count": 46
        }
      ]
    },
    {
      "cell_type": "code",
      "metadata": {
        "id": "ZT-hJI1wXPgc"
      },
      "source": [
        "from sklearn import datasets\r\n",
        "from sklearn.decomposition import PCA\r\n",
        "from sklearn.preprocessing import StandardScaler\r\n",
        "from sklearn.pipeline import make_pipeline"
      ],
      "execution_count": null,
      "outputs": []
    },
    {
      "cell_type": "code",
      "metadata": {
        "colab": {
          "base_uri": "https://localhost:8080/",
          "height": 542
        },
        "id": "cKYbpxYnhtid",
        "outputId": "bde6da28-c667-49aa-a84a-c0b7d0045245"
      },
      "source": [
        "scaler = StandardScaler()\r\n",
        "pca = PCA()\r\n",
        "pipeline = make_pipeline(scaler,pca)\r\n",
        "pipeline.fit(data)\r\n",
        "yff = pca.explained_variance_\r\n",
        "pio.templates.default = \"plotly_dark\"\r\n",
        "fig = go.Figure([go.Bar(x=np.array(range(pca.n_components_)), y=yff)])\r\n",
        "fig.show()\r\n",
        "#y값이 높은 feature일수록 차원을 줄일때 살려야하는 중요한 feature라는 뜻"
      ],
      "execution_count": null,
      "outputs": [
        {
          "output_type": "display_data",
          "data": {
            "text/html": [
              "<html>\n",
              "<head><meta charset=\"utf-8\" /></head>\n",
              "<body>\n",
              "    <div>\n",
              "            <script src=\"https://cdnjs.cloudflare.com/ajax/libs/mathjax/2.7.5/MathJax.js?config=TeX-AMS-MML_SVG\"></script><script type=\"text/javascript\">if (window.MathJax) {MathJax.Hub.Config({SVG: {font: \"STIX-Web\"}});}</script>\n",
              "                <script type=\"text/javascript\">window.PlotlyConfig = {MathJaxConfig: 'local'};</script>\n",
              "        <script src=\"https://cdn.plot.ly/plotly-latest.min.js\"></script>    \n",
              "            <div id=\"0495fbf5-34a3-4652-9c8c-7cbace44ad0e\" class=\"plotly-graph-div\" style=\"height:525px; width:100%;\"></div>\n",
              "            <script type=\"text/javascript\">\n",
              "                \n",
              "                    window.PLOTLYENV=window.PLOTLYENV || {};\n",
              "                    \n",
              "                if (document.getElementById(\"0495fbf5-34a3-4652-9c8c-7cbace44ad0e\")) {\n",
              "                    Plotly.newPlot(\n",
              "                        '0495fbf5-34a3-4652-9c8c-7cbace44ad0e',\n",
              "                        [{\"type\": \"bar\", \"x\": [0, 1, 2, 3, 4, 5, 6, 7, 8, 9, 10, 11, 12, 13, 14, 15, 16, 17, 18, 19, 20, 21, 22, 23, 24, 25, 26, 27, 28, 29, 30, 31, 32, 33, 34, 35, 36, 37, 38, 39, 40, 41, 42, 43, 44, 45, 46, 47, 48, 49, 50, 51, 52, 53, 54, 55, 56, 57, 58, 59, 60, 61, 62, 63, 64, 65, 66, 67, 68, 69, 70, 71, 72, 73, 74, 75, 76, 77, 78, 79, 80, 81, 82, 83, 84, 85, 86, 87, 88, 89, 90, 91, 92, 93, 94, 95, 96, 97, 98, 99, 100, 101, 102, 103, 104, 105, 106, 107, 108, 109, 110, 111, 112, 113, 114, 115, 116, 117, 118, 119, 120, 121, 122, 123, 124, 125, 126, 127, 128, 129, 130, 131, 132, 133, 134, 135, 136, 137, 138, 139, 140, 141, 142, 143, 144, 145, 146, 147, 148, 149, 150, 151, 152, 153, 154, 155, 156, 157, 158, 159, 160, 161, 162, 163, 164, 165, 166, 167, 168, 169, 170, 171, 172, 173, 174, 175, 176, 177, 178, 179, 180, 181, 182, 183, 184, 185, 186, 187, 188, 189, 190, 191, 192, 193, 194, 195, 196, 197, 198, 199, 200, 201, 202, 203, 204, 205, 206, 207, 208, 209, 210, 211, 212, 213, 214, 215, 216, 217, 218, 219, 220, 221, 222, 223, 224, 225, 226, 227, 228, 229, 230, 231, 232, 233, 234, 235, 236, 237, 238, 239, 240, 241, 242, 243, 244, 245, 246, 247, 248, 249, 250, 251, 252, 253, 254, 255, 256, 257, 258, 259, 260, 261, 262, 263, 264, 265, 266, 267, 268, 269, 270, 271, 272, 273, 274, 275, 276, 277, 278, 279, 280, 281, 282, 283, 284, 285, 286, 287, 288, 289, 290, 291, 292, 293, 294, 295, 296, 297, 298, 299, 300, 301, 302, 303, 304, 305, 306, 307, 308, 309, 310, 311, 312, 313, 314, 315, 316, 317, 318, 319, 320, 321, 322, 323, 324, 325, 326, 327, 328, 329, 330, 331, 332, 333, 334, 335, 336, 337, 338, 339, 340, 341, 342, 343, 344, 345, 346, 347, 348, 349, 350, 351, 352, 353, 354, 355, 356, 357, 358, 359, 360, 361, 362, 363, 364, 365, 366, 367, 368, 369, 370, 371, 372, 373, 374, 375, 376, 377, 378, 379, 380, 381, 382, 383, 384, 385, 386, 387, 388, 389, 390, 391, 392, 393, 394, 395, 396, 397, 398, 399, 400, 401, 402, 403, 404, 405, 406, 407, 408, 409, 410, 411, 412, 413, 414, 415, 416, 417, 418, 419, 420, 421, 422, 423, 424, 425, 426, 427, 428, 429, 430, 431, 432, 433, 434, 435, 436, 437, 438, 439, 440, 441, 442, 443, 444, 445, 446, 447, 448, 449, 450, 451, 452, 453, 454, 455, 456, 457, 458, 459, 460, 461, 462, 463, 464, 465, 466, 467, 468, 469, 470, 471, 472, 473, 474, 475, 476, 477, 478, 479, 480, 481, 482, 483, 484, 485, 486, 487, 488, 489, 490, 491, 492, 493, 494, 495, 496, 497, 498, 499], \"y\": [9.76296984670251, 4.816048917230653, 4.075259055274842, 3.6606245495820153, 3.241459821820851, 3.0710253110822303, 2.1681188696692084, 2.089721313468418, 2.04828572591889, 2.031175460686798, 2.0080240641603817, 1.5460075884385296, 1.4755424635306564, 1.4165251511096073, 1.3344268099934065, 1.3134721883667784, 1.279100722853789, 1.2177576850403007, 1.2021683016759233, 1.139156172615357, 1.086161639084524, 1.0127112543032437, 1.0040120320801993, 1.0040120320801982, 1.0040120320801957, 1.0040120320801953, 1.0040120320801942, 1.004012032080194, 1.004012032080194, 1.004012032080194, 1.0040120320801929, 1.0040120320801929, 1.0040120320801926, 1.0040120320801917, 1.0040120320801909, 1.0040120320801902, 1.000276230402975, 0.8938654501351451, 0.8367779696230996, 0.7728958358236273, 0.7597076708102143, 0.7145286397107544, 0.700366189594535, 0.6433572151426974, 0.6208381105077597, 0.5748184323820177, 0.4987915240584042, 0.46452926916305126, 0.30325851715700236, 0.1775481269372493, 0.1388340660382904, 2.919693378855063e-29, 1.8507363409245142e-29, 1.014487184439774e-29, 9.889186618370521e-30, 8.222689275529778e-30, 6.084086966454215e-30, 3.492386242400133e-30, 3.185312074711378e-30, 2.4528285410539133e-30, 1.6547917392542635e-30, 1.4879104685185025e-30, 1.118018156363545e-30, 8.251864791768687e-31, 8.194072409552167e-31, 6.3362814360940604e-31, 5.016553974584449e-31, 4.009098311689644e-31, 2.505643508221295e-31, 2.1014458493785616e-31, 1.683122832892267e-31, 9.886932764855966e-32, 6.009300277027851e-32, 6.009300277027851e-32, 6.009300277027851e-32, 6.009300277027851e-32, 6.009300277027851e-32, 6.009300277027851e-32, 6.009300277027851e-32, 6.009300277027851e-32, 6.009300277027851e-32, 6.009300277027851e-32, 6.009300277027851e-32, 6.009300277027851e-32, 6.009300277027851e-32, 6.009300277027851e-32, 6.009300277027851e-32, 6.009300277027851e-32, 6.009300277027851e-32, 6.009300277027851e-32, 6.009300277027851e-32, 6.009300277027851e-32, 6.009300277027851e-32, 6.009300277027851e-32, 6.009300277027851e-32, 6.009300277027851e-32, 6.009300277027851e-32, 6.009300277027851e-32, 6.009300277027851e-32, 6.009300277027851e-32, 6.009300277027851e-32, 6.009300277027851e-32, 6.009300277027851e-32, 6.009300277027851e-32, 6.009300277027851e-32, 6.009300277027851e-32, 6.009300277027851e-32, 6.009300277027851e-32, 6.009300277027851e-32, 6.009300277027851e-32, 6.009300277027851e-32, 6.009300277027851e-32, 6.009300277027851e-32, 6.009300277027851e-32, 6.009300277027851e-32, 6.009300277027851e-32, 6.009300277027851e-32, 6.009300277027851e-32, 6.009300277027851e-32, 6.009300277027851e-32, 6.009300277027851e-32, 6.009300277027851e-32, 6.009300277027851e-32, 6.009300277027851e-32, 6.009300277027851e-32, 6.009300277027851e-32, 6.009300277027851e-32, 6.009300277027851e-32, 6.009300277027851e-32, 6.009300277027851e-32, 6.009300277027851e-32, 6.009300277027851e-32, 6.009300277027851e-32, 6.009300277027851e-32, 6.009300277027851e-32, 6.009300277027851e-32, 6.009300277027851e-32, 6.009300277027851e-32, 6.009300277027851e-32, 6.009300277027851e-32, 6.009300277027851e-32, 6.009300277027851e-32, 6.009300277027851e-32, 6.009300277027851e-32, 6.009300277027851e-32, 6.009300277027851e-32, 6.009300277027851e-32, 6.009300277027851e-32, 6.009300277027851e-32, 6.009300277027851e-32, 6.009300277027851e-32, 6.009300277027851e-32, 6.009300277027851e-32, 6.009300277027851e-32, 6.009300277027851e-32, 6.009300277027851e-32, 6.009300277027851e-32, 6.009300277027851e-32, 6.009300277027851e-32, 6.009300277027851e-32, 6.009300277027851e-32, 6.009300277027851e-32, 6.009300277027851e-32, 6.009300277027851e-32, 6.009300277027851e-32, 6.009300277027851e-32, 6.009300277027851e-32, 6.009300277027851e-32, 6.009300277027851e-32, 6.009300277027851e-32, 6.009300277027851e-32, 6.009300277027851e-32, 6.009300277027851e-32, 6.009300277027851e-32, 6.009300277027851e-32, 6.009300277027851e-32, 6.009300277027851e-32, 6.009300277027851e-32, 6.009300277027851e-32, 6.009300277027851e-32, 6.009300277027851e-32, 6.009300277027851e-32, 6.009300277027851e-32, 6.009300277027851e-32, 6.009300277027851e-32, 6.009300277027851e-32, 6.009300277027851e-32, 6.009300277027851e-32, 6.009300277027851e-32, 6.009300277027851e-32, 6.009300277027851e-32, 6.009300277027851e-32, 6.009300277027851e-32, 6.009300277027851e-32, 6.009300277027851e-32, 6.009300277027851e-32, 6.009300277027851e-32, 6.009300277027851e-32, 6.009300277027851e-32, 6.009300277027851e-32, 6.009300277027851e-32, 6.009300277027851e-32, 6.009300277027851e-32, 6.009300277027851e-32, 6.009300277027851e-32, 6.009300277027851e-32, 6.009300277027851e-32, 6.009300277027851e-32, 6.009300277027851e-32, 6.009300277027851e-32, 6.009300277027851e-32, 6.009300277027851e-32, 6.009300277027851e-32, 6.009300277027851e-32, 6.009300277027851e-32, 6.009300277027851e-32, 6.009300277027851e-32, 6.009300277027851e-32, 6.009300277027851e-32, 6.009300277027851e-32, 6.009300277027851e-32, 6.009300277027851e-32, 6.009300277027851e-32, 6.009300277027851e-32, 6.009300277027851e-32, 6.009300277027851e-32, 6.009300277027851e-32, 6.009300277027851e-32, 6.009300277027851e-32, 6.009300277027851e-32, 6.009300277027851e-32, 6.009300277027851e-32, 6.009300277027851e-32, 6.009300277027851e-32, 6.009300277027851e-32, 6.009300277027851e-32, 6.009300277027851e-32, 6.009300277027851e-32, 6.009300277027851e-32, 6.009300277027851e-32, 6.009300277027851e-32, 6.009300277027851e-32, 6.009300277027851e-32, 6.009300277027851e-32, 6.009300277027851e-32, 6.009300277027851e-32, 6.009300277027851e-32, 6.009300277027851e-32, 6.009300277027851e-32, 6.009300277027851e-32, 6.009300277027851e-32, 6.009300277027851e-32, 6.009300277027851e-32, 6.009300277027851e-32, 6.009300277027851e-32, 6.009300277027851e-32, 6.009300277027851e-32, 6.009300277027851e-32, 6.009300277027851e-32, 6.009300277027851e-32, 6.009300277027851e-32, 6.009300277027851e-32, 6.009300277027851e-32, 6.009300277027851e-32, 6.009300277027851e-32, 6.009300277027851e-32, 6.009300277027851e-32, 6.009300277027851e-32, 6.009300277027851e-32, 6.009300277027851e-32, 6.009300277027851e-32, 6.009300277027851e-32, 6.009300277027851e-32, 6.009300277027851e-32, 6.009300277027851e-32, 6.009300277027851e-32, 6.009300277027851e-32, 6.009300277027851e-32, 6.009300277027851e-32, 6.009300277027851e-32, 6.009300277027851e-32, 6.009300277027851e-32, 6.009300277027851e-32, 6.009300277027851e-32, 6.009300277027851e-32, 6.009300277027851e-32, 6.009300277027851e-32, 6.009300277027851e-32, 6.009300277027851e-32, 6.009300277027851e-32, 6.009300277027851e-32, 6.009300277027851e-32, 6.009300277027851e-32, 6.009300277027851e-32, 6.009300277027851e-32, 6.009300277027851e-32, 6.009300277027851e-32, 6.009300277027851e-32, 6.009300277027851e-32, 6.009300277027851e-32, 6.009300277027851e-32, 6.009300277027851e-32, 6.009300277027851e-32, 6.009300277027851e-32, 6.009300277027851e-32, 6.009300277027851e-32, 6.009300277027851e-32, 6.009300277027851e-32, 6.009300277027851e-32, 6.009300277027851e-32, 6.009300277027851e-32, 6.009300277027851e-32, 6.009300277027851e-32, 6.009300277027851e-32, 6.009300277027851e-32, 6.009300277027851e-32, 6.009300277027851e-32, 6.009300277027851e-32, 6.009300277027851e-32, 6.009300277027851e-32, 6.009300277027851e-32, 6.009300277027851e-32, 6.009300277027851e-32, 6.009300277027851e-32, 6.009300277027851e-32, 6.009300277027851e-32, 6.009300277027851e-32, 6.009300277027851e-32, 6.009300277027851e-32, 6.009300277027851e-32, 6.009300277027851e-32, 6.009300277027851e-32, 6.009300277027851e-32, 6.009300277027851e-32, 6.009300277027851e-32, 6.009300277027851e-32, 6.009300277027851e-32, 6.009300277027851e-32, 6.009300277027851e-32, 6.009300277027851e-32, 6.009300277027851e-32, 6.009300277027851e-32, 6.009300277027851e-32, 6.009300277027851e-32, 6.009300277027851e-32, 6.009300277027851e-32, 6.009300277027851e-32, 6.009300277027851e-32, 6.009300277027851e-32, 6.009300277027851e-32, 6.009300277027851e-32, 6.009300277027851e-32, 6.009300277027851e-32, 6.009300277027851e-32, 6.009300277027851e-32, 6.009300277027851e-32, 6.009300277027851e-32, 6.009300277027851e-32, 6.009300277027851e-32, 6.009300277027851e-32, 6.009300277027851e-32, 6.009300277027851e-32, 6.009300277027851e-32, 6.009300277027851e-32, 6.009300277027851e-32, 6.009300277027851e-32, 6.009300277027851e-32, 6.009300277027851e-32, 6.009300277027851e-32, 6.009300277027851e-32, 6.009300277027851e-32, 6.009300277027851e-32, 6.009300277027851e-32, 6.009300277027851e-32, 6.009300277027851e-32, 6.009300277027851e-32, 6.009300277027851e-32, 6.009300277027851e-32, 6.009300277027851e-32, 6.009300277027851e-32, 6.009300277027851e-32, 6.009300277027851e-32, 6.009300277027851e-32, 6.009300277027851e-32, 6.009300277027851e-32, 6.009300277027851e-32, 6.009300277027851e-32, 6.009300277027851e-32, 6.009300277027851e-32, 6.009300277027851e-32, 6.009300277027851e-32, 6.009300277027851e-32, 6.009300277027851e-32, 6.009300277027851e-32, 6.009300277027851e-32, 6.009300277027851e-32, 6.009300277027851e-32, 6.009300277027851e-32, 6.009300277027851e-32, 6.009300277027851e-32, 6.009300277027851e-32, 6.009300277027851e-32, 6.009300277027851e-32, 6.009300277027851e-32, 6.009300277027851e-32, 6.009300277027851e-32, 6.009300277027851e-32, 6.009300277027851e-32, 6.009300277027851e-32, 6.009300277027851e-32, 6.009300277027851e-32, 6.009300277027851e-32, 6.009300277027851e-32, 6.009300277027851e-32, 6.009300277027851e-32, 6.009300277027851e-32, 6.009300277027851e-32, 6.009300277027851e-32, 6.009300277027851e-32, 6.009300277027851e-32, 6.009300277027851e-32, 6.009300277027851e-32, 6.009300277027851e-32, 6.009300277027851e-32, 6.009300277027851e-32, 6.009300277027851e-32, 6.009300277027851e-32, 6.009300277027851e-32, 6.009300277027851e-32, 6.009300277027851e-32, 6.009300277027851e-32, 6.009300277027851e-32, 6.009300277027851e-32, 6.009300277027851e-32, 6.009300277027851e-32, 6.009300277027851e-32, 6.009300277027851e-32, 6.009300277027851e-32, 6.009300277027851e-32, 6.009300277027851e-32, 6.009300277027851e-32, 6.009300277027851e-32, 6.009300277027851e-32, 6.009300277027851e-32, 6.009300277027851e-32, 6.009300277027851e-32, 6.009300277027851e-32, 6.009300277027851e-32, 6.009300277027851e-32, 6.009300277027851e-32, 6.009300277027851e-32, 6.009300277027851e-32, 6.009300277027851e-32, 6.009300277027851e-32, 6.009300277027851e-32, 6.009300277027851e-32, 6.009300277027851e-32, 6.009300277027851e-32, 6.009300277027851e-32, 6.009300277027851e-32, 6.009300277027851e-32, 6.009300277027851e-32, 6.009300277027851e-32, 6.009300277027851e-32, 6.009300277027851e-32, 6.009300277027851e-32, 6.009300277027851e-32, 6.009300277027851e-32, 6.009300277027851e-32, 6.009300277027851e-32, 6.009300277027851e-32, 6.009300277027851e-32, 6.009300277027851e-32, 6.009300277027851e-32, 6.009300277027851e-32, 6.009300277027851e-32, 6.009300277027851e-32, 6.009300277027851e-32, 6.009300277027851e-32, 6.009300277027851e-32, 6.009300277027851e-32, 6.009300277027851e-32, 6.009300277027851e-32, 6.009300277027851e-32, 6.009300277027851e-32, 6.009300277027851e-32, 6.009300277027851e-32, 6.009300277027851e-32, 6.009300277027851e-32, 6.009300277027851e-32, 6.009300277027851e-32, 6.009300277027851e-32, 6.009300277027851e-32, 6.009300277027851e-32, 6.009300277027851e-32, 6.009300277027851e-32, 6.009300277027851e-32, 5.158239012137518e-32, 2.5020784318910727e-32, 5.1068269066457115e-34]}],\n",
              "                        {\"template\": {\"data\": {\"bar\": [{\"error_x\": {\"color\": \"#f2f5fa\"}, \"error_y\": {\"color\": \"#f2f5fa\"}, \"marker\": {\"line\": {\"color\": \"rgb(17,17,17)\", \"width\": 0.5}}, \"type\": \"bar\"}], \"barpolar\": [{\"marker\": {\"line\": {\"color\": \"rgb(17,17,17)\", \"width\": 0.5}}, \"type\": \"barpolar\"}], \"carpet\": [{\"aaxis\": {\"endlinecolor\": \"#A2B1C6\", \"gridcolor\": \"#506784\", \"linecolor\": \"#506784\", \"minorgridcolor\": \"#506784\", \"startlinecolor\": \"#A2B1C6\"}, \"baxis\": {\"endlinecolor\": \"#A2B1C6\", \"gridcolor\": \"#506784\", \"linecolor\": \"#506784\", \"minorgridcolor\": \"#506784\", \"startlinecolor\": \"#A2B1C6\"}, \"type\": \"carpet\"}], \"choropleth\": [{\"colorbar\": {\"outlinewidth\": 0, \"ticks\": \"\"}, \"type\": \"choropleth\"}], \"contour\": [{\"colorbar\": {\"outlinewidth\": 0, \"ticks\": \"\"}, \"colorscale\": [[0.0, \"#0d0887\"], [0.1111111111111111, \"#46039f\"], [0.2222222222222222, \"#7201a8\"], [0.3333333333333333, \"#9c179e\"], [0.4444444444444444, \"#bd3786\"], [0.5555555555555556, \"#d8576b\"], [0.6666666666666666, \"#ed7953\"], [0.7777777777777778, \"#fb9f3a\"], [0.8888888888888888, \"#fdca26\"], [1.0, \"#f0f921\"]], \"type\": \"contour\"}], \"contourcarpet\": [{\"colorbar\": {\"outlinewidth\": 0, \"ticks\": \"\"}, \"type\": \"contourcarpet\"}], \"heatmap\": [{\"colorbar\": {\"outlinewidth\": 0, \"ticks\": \"\"}, \"colorscale\": [[0.0, \"#0d0887\"], [0.1111111111111111, \"#46039f\"], [0.2222222222222222, \"#7201a8\"], [0.3333333333333333, \"#9c179e\"], [0.4444444444444444, \"#bd3786\"], [0.5555555555555556, \"#d8576b\"], [0.6666666666666666, \"#ed7953\"], [0.7777777777777778, \"#fb9f3a\"], [0.8888888888888888, \"#fdca26\"], [1.0, \"#f0f921\"]], \"type\": \"heatmap\"}], \"heatmapgl\": [{\"colorbar\": {\"outlinewidth\": 0, \"ticks\": \"\"}, \"colorscale\": [[0.0, \"#0d0887\"], [0.1111111111111111, \"#46039f\"], [0.2222222222222222, \"#7201a8\"], [0.3333333333333333, \"#9c179e\"], [0.4444444444444444, \"#bd3786\"], [0.5555555555555556, \"#d8576b\"], [0.6666666666666666, \"#ed7953\"], [0.7777777777777778, \"#fb9f3a\"], [0.8888888888888888, \"#fdca26\"], [1.0, \"#f0f921\"]], \"type\": \"heatmapgl\"}], \"histogram\": [{\"marker\": {\"colorbar\": {\"outlinewidth\": 0, \"ticks\": \"\"}}, \"type\": \"histogram\"}], \"histogram2d\": [{\"colorbar\": {\"outlinewidth\": 0, \"ticks\": \"\"}, \"colorscale\": [[0.0, \"#0d0887\"], [0.1111111111111111, \"#46039f\"], [0.2222222222222222, \"#7201a8\"], [0.3333333333333333, \"#9c179e\"], [0.4444444444444444, \"#bd3786\"], [0.5555555555555556, \"#d8576b\"], [0.6666666666666666, \"#ed7953\"], [0.7777777777777778, \"#fb9f3a\"], [0.8888888888888888, \"#fdca26\"], [1.0, \"#f0f921\"]], \"type\": \"histogram2d\"}], \"histogram2dcontour\": [{\"colorbar\": {\"outlinewidth\": 0, \"ticks\": \"\"}, \"colorscale\": [[0.0, \"#0d0887\"], [0.1111111111111111, \"#46039f\"], [0.2222222222222222, \"#7201a8\"], [0.3333333333333333, \"#9c179e\"], [0.4444444444444444, \"#bd3786\"], [0.5555555555555556, \"#d8576b\"], [0.6666666666666666, \"#ed7953\"], [0.7777777777777778, \"#fb9f3a\"], [0.8888888888888888, \"#fdca26\"], [1.0, \"#f0f921\"]], \"type\": \"histogram2dcontour\"}], \"mesh3d\": [{\"colorbar\": {\"outlinewidth\": 0, \"ticks\": \"\"}, \"type\": \"mesh3d\"}], \"parcoords\": [{\"line\": {\"colorbar\": {\"outlinewidth\": 0, \"ticks\": \"\"}}, \"type\": \"parcoords\"}], \"pie\": [{\"automargin\": true, \"type\": \"pie\"}], \"scatter\": [{\"marker\": {\"line\": {\"color\": \"#283442\"}}, \"type\": \"scatter\"}], \"scatter3d\": [{\"line\": {\"colorbar\": {\"outlinewidth\": 0, \"ticks\": \"\"}}, \"marker\": {\"colorbar\": {\"outlinewidth\": 0, \"ticks\": \"\"}}, \"type\": \"scatter3d\"}], \"scattercarpet\": [{\"marker\": {\"colorbar\": {\"outlinewidth\": 0, \"ticks\": \"\"}}, \"type\": \"scattercarpet\"}], \"scattergeo\": [{\"marker\": {\"colorbar\": {\"outlinewidth\": 0, \"ticks\": \"\"}}, \"type\": \"scattergeo\"}], \"scattergl\": [{\"marker\": {\"line\": {\"color\": \"#283442\"}}, \"type\": \"scattergl\"}], \"scattermapbox\": [{\"marker\": {\"colorbar\": {\"outlinewidth\": 0, \"ticks\": \"\"}}, \"type\": \"scattermapbox\"}], \"scatterpolar\": [{\"marker\": {\"colorbar\": {\"outlinewidth\": 0, \"ticks\": \"\"}}, \"type\": \"scatterpolar\"}], \"scatterpolargl\": [{\"marker\": {\"colorbar\": {\"outlinewidth\": 0, \"ticks\": \"\"}}, \"type\": \"scatterpolargl\"}], \"scatterternary\": [{\"marker\": {\"colorbar\": {\"outlinewidth\": 0, \"ticks\": \"\"}}, \"type\": \"scatterternary\"}], \"surface\": [{\"colorbar\": {\"outlinewidth\": 0, \"ticks\": \"\"}, \"colorscale\": [[0.0, \"#0d0887\"], [0.1111111111111111, \"#46039f\"], [0.2222222222222222, \"#7201a8\"], [0.3333333333333333, \"#9c179e\"], [0.4444444444444444, \"#bd3786\"], [0.5555555555555556, \"#d8576b\"], [0.6666666666666666, \"#ed7953\"], [0.7777777777777778, \"#fb9f3a\"], [0.8888888888888888, \"#fdca26\"], [1.0, \"#f0f921\"]], \"type\": \"surface\"}], \"table\": [{\"cells\": {\"fill\": {\"color\": \"#506784\"}, \"line\": {\"color\": \"rgb(17,17,17)\"}}, \"header\": {\"fill\": {\"color\": \"#2a3f5f\"}, \"line\": {\"color\": \"rgb(17,17,17)\"}}, \"type\": \"table\"}]}, \"layout\": {\"annotationdefaults\": {\"arrowcolor\": \"#f2f5fa\", \"arrowhead\": 0, \"arrowwidth\": 1}, \"coloraxis\": {\"colorbar\": {\"outlinewidth\": 0, \"ticks\": \"\"}}, \"colorscale\": {\"diverging\": [[0, \"#8e0152\"], [0.1, \"#c51b7d\"], [0.2, \"#de77ae\"], [0.3, \"#f1b6da\"], [0.4, \"#fde0ef\"], [0.5, \"#f7f7f7\"], [0.6, \"#e6f5d0\"], [0.7, \"#b8e186\"], [0.8, \"#7fbc41\"], [0.9, \"#4d9221\"], [1, \"#276419\"]], \"sequential\": [[0.0, \"#0d0887\"], [0.1111111111111111, \"#46039f\"], [0.2222222222222222, \"#7201a8\"], [0.3333333333333333, \"#9c179e\"], [0.4444444444444444, \"#bd3786\"], [0.5555555555555556, \"#d8576b\"], [0.6666666666666666, \"#ed7953\"], [0.7777777777777778, \"#fb9f3a\"], [0.8888888888888888, \"#fdca26\"], [1.0, \"#f0f921\"]], \"sequentialminus\": [[0.0, \"#0d0887\"], [0.1111111111111111, \"#46039f\"], [0.2222222222222222, \"#7201a8\"], [0.3333333333333333, \"#9c179e\"], [0.4444444444444444, \"#bd3786\"], [0.5555555555555556, \"#d8576b\"], [0.6666666666666666, \"#ed7953\"], [0.7777777777777778, \"#fb9f3a\"], [0.8888888888888888, \"#fdca26\"], [1.0, \"#f0f921\"]]}, \"colorway\": [\"#636efa\", \"#EF553B\", \"#00cc96\", \"#ab63fa\", \"#FFA15A\", \"#19d3f3\", \"#FF6692\", \"#B6E880\", \"#FF97FF\", \"#FECB52\"], \"font\": {\"color\": \"#f2f5fa\"}, \"geo\": {\"bgcolor\": \"rgb(17,17,17)\", \"lakecolor\": \"rgb(17,17,17)\", \"landcolor\": \"rgb(17,17,17)\", \"showlakes\": true, \"showland\": true, \"subunitcolor\": \"#506784\"}, \"hoverlabel\": {\"align\": \"left\"}, \"hovermode\": \"closest\", \"mapbox\": {\"style\": \"dark\"}, \"paper_bgcolor\": \"rgb(17,17,17)\", \"plot_bgcolor\": \"rgb(17,17,17)\", \"polar\": {\"angularaxis\": {\"gridcolor\": \"#506784\", \"linecolor\": \"#506784\", \"ticks\": \"\"}, \"bgcolor\": \"rgb(17,17,17)\", \"radialaxis\": {\"gridcolor\": \"#506784\", \"linecolor\": \"#506784\", \"ticks\": \"\"}}, \"scene\": {\"xaxis\": {\"backgroundcolor\": \"rgb(17,17,17)\", \"gridcolor\": \"#506784\", \"gridwidth\": 2, \"linecolor\": \"#506784\", \"showbackground\": true, \"ticks\": \"\", \"zerolinecolor\": \"#C8D4E3\"}, \"yaxis\": {\"backgroundcolor\": \"rgb(17,17,17)\", \"gridcolor\": \"#506784\", \"gridwidth\": 2, \"linecolor\": \"#506784\", \"showbackground\": true, \"ticks\": \"\", \"zerolinecolor\": \"#C8D4E3\"}, \"zaxis\": {\"backgroundcolor\": \"rgb(17,17,17)\", \"gridcolor\": \"#506784\", \"gridwidth\": 2, \"linecolor\": \"#506784\", \"showbackground\": true, \"ticks\": \"\", \"zerolinecolor\": \"#C8D4E3\"}}, \"shapedefaults\": {\"line\": {\"color\": \"#f2f5fa\"}}, \"sliderdefaults\": {\"bgcolor\": \"#C8D4E3\", \"bordercolor\": \"rgb(17,17,17)\", \"borderwidth\": 1, \"tickwidth\": 0}, \"ternary\": {\"aaxis\": {\"gridcolor\": \"#506784\", \"linecolor\": \"#506784\", \"ticks\": \"\"}, \"baxis\": {\"gridcolor\": \"#506784\", \"linecolor\": \"#506784\", \"ticks\": \"\"}, \"bgcolor\": \"rgb(17,17,17)\", \"caxis\": {\"gridcolor\": \"#506784\", \"linecolor\": \"#506784\", \"ticks\": \"\"}}, \"title\": {\"x\": 0.05}, \"updatemenudefaults\": {\"bgcolor\": \"#506784\", \"borderwidth\": 0}, \"xaxis\": {\"automargin\": true, \"gridcolor\": \"#283442\", \"linecolor\": \"#506784\", \"ticks\": \"\", \"title\": {\"standoff\": 15}, \"zerolinecolor\": \"#283442\", \"zerolinewidth\": 2}, \"yaxis\": {\"automargin\": true, \"gridcolor\": \"#283442\", \"linecolor\": \"#506784\", \"ticks\": \"\", \"title\": {\"standoff\": 15}, \"zerolinecolor\": \"#283442\", \"zerolinewidth\": 2}}}},\n",
              "                        {\"responsive\": true}\n",
              "                    ).then(function(){\n",
              "                            \n",
              "var gd = document.getElementById('0495fbf5-34a3-4652-9c8c-7cbace44ad0e');\n",
              "var x = new MutationObserver(function (mutations, observer) {{\n",
              "        var display = window.getComputedStyle(gd).display;\n",
              "        if (!display || display === 'none') {{\n",
              "            console.log([gd, 'removed!']);\n",
              "            Plotly.purge(gd);\n",
              "            observer.disconnect();\n",
              "        }}\n",
              "}});\n",
              "\n",
              "// Listen for the removal of the full notebook cells\n",
              "var notebookContainer = gd.closest('#notebook-container');\n",
              "if (notebookContainer) {{\n",
              "    x.observe(notebookContainer, {childList: true});\n",
              "}}\n",
              "\n",
              "// Listen for the clearing of the current output cell\n",
              "var outputEl = gd.closest('.output');\n",
              "if (outputEl) {{\n",
              "    x.observe(outputEl, {childList: true});\n",
              "}}\n",
              "\n",
              "                        })\n",
              "                };\n",
              "                \n",
              "            </script>\n",
              "        </div>\n",
              "</body>\n",
              "</html>"
            ]
          },
          "metadata": {
            "tags": []
          }
        }
      ]
    },
    {
      "cell_type": "code",
      "metadata": {
        "colab": {
          "base_uri": "https://localhost:8080/",
          "height": 542
        },
        "id": "qjZwFpRumzog",
        "outputId": "0f5d4344-1db4-4d31-bd76-45acf9b137aa"
      },
      "source": [
        "model = PCA(n_components=3)\r\n",
        "pca_features = model.fit_transform(data)\r\n",
        "xf = pca_features[:,0]\r\n",
        "yf = pca_features[:,1]\r\n",
        "zf = pca_features[:,2]\r\n",
        "fig = go.Figure(data=[go.Scatter3d(x=xf, y=yf, z=zf,\r\n",
        "                                   mode='markers', marker_size =5, name='Other User Vector')])\r\n",
        "fig.add_scatter3d(connectgaps=True, x=[xf[0]], y=[yf[0]], z=[zf[0]], mode='markers', marker_size=5, name='Our User A Vector')\r\n",
        "fig.add_scatter3d(connectgaps=True, x=xf[1:6], y=yf[1:6],z=zf[1:6], mode='markers', marker_size=5, name='selected User Vector') #초록점을 표시하는 라인이라서 주석처리 가능\r\n",
        "fig.show()\r\n",
        "#파란 점:표현한 벡터\r\n",
        "#빨간 점:기준user의 벡터\r\n",
        "#초록 점:비슷하다고 판단한 User의 벡터\r\n",
        "#역시 생각처럼 예쁘게 나오지는 않는다(PCA과정에서 데이터가 소실되고 고차원의 데이터를 3차원으로 줄이는 데에는 한계가 있기 때문)\r\n",
        "#하지만 초록점을 일부러 따로 표시하지 않는다면 벡터를 가시적으로 볼 수 있어서 더 좋은것같다. \r\n",
        "#plotly는 반응형 차트이기 때문에 휠이나 드래그로 줌인/줌아웃, 차트모델 돌려보기를 할 수 있습니다 "
      ],
      "execution_count": null,
      "outputs": [
        {
          "output_type": "display_data",
          "data": {
            "text/html": [
              "<html>\n",
              "<head><meta charset=\"utf-8\" /></head>\n",
              "<body>\n",
              "    <div>\n",
              "            <script src=\"https://cdnjs.cloudflare.com/ajax/libs/mathjax/2.7.5/MathJax.js?config=TeX-AMS-MML_SVG\"></script><script type=\"text/javascript\">if (window.MathJax) {MathJax.Hub.Config({SVG: {font: \"STIX-Web\"}});}</script>\n",
              "                <script type=\"text/javascript\">window.PlotlyConfig = {MathJaxConfig: 'local'};</script>\n",
              "        <script src=\"https://cdn.plot.ly/plotly-latest.min.js\"></script>    \n",
              "            <div id=\"e37b714d-4c9b-4c2b-8a5d-afdeda6b470e\" class=\"plotly-graph-div\" style=\"height:525px; width:100%;\"></div>\n",
              "            <script type=\"text/javascript\">\n",
              "                \n",
              "                    window.PLOTLYENV=window.PLOTLYENV || {};\n",
              "                    \n",
              "                if (document.getElementById(\"e37b714d-4c9b-4c2b-8a5d-afdeda6b470e\")) {\n",
              "                    Plotly.newPlot(\n",
              "                        'e37b714d-4c9b-4c2b-8a5d-afdeda6b470e',\n",
              "                        [{\"marker\": {\"size\": 5}, \"mode\": \"markers\", \"name\": \"Other User Vector\", \"type\": \"scatter3d\", \"x\": [0.02262121712684952, 0.8196316490386841, 0.6780108852300529, -0.21412316760230116, 0.6322200985211682, -0.06636647185592325, -0.7465850870267954, 0.802757213646027, -0.6519767200012818, -0.06636647185592325, -0.20713226071410223, 0.7740162317105589, -0.20713226071410223, -0.7465850870267954, -0.20713226071410223, -0.20713226071410223, -0.20713226071410223, -0.07641621380163766, -0.20713226071410223, -0.6047889538374045, -0.5760479719019367, -0.20713226071410223, -0.6631513831840311, -0.02847195638450045, 0.7338872457213256, -0.20759141981272608, 0.7713859453409071, 0.7338872457213267, 0.7713859453408994, -0.20914387853605051, -0.753835738672125, -0.02261468508429087, 0.8028009320205669, 0.1891953855852578, 0.7815332879210519, 0.18919538558525395, -0.03276202766442881, -0.16149783633632767, -0.7538357386721202, 0.7815332879210561, 0.18919538558524723, -0.7538357386721296, -0.02847195638450311, -0.17164517891647804, 0.8252764010554896, -0.5760042535273966, -0.06701100678777519, -0.07715834936792391, -0.06529240915017143, -0.20914387853605337, -0.5816424088220685, 0.8337766096104657, 0.15985357204769246, 0.839666117694154, 0.6325183630806622, -0.15695895893664927, -0.027139297389509744, -0.61377988986608, 0.0016016845459582948, -0.07432706355338695, -0.16893543057890045, 0.7650252956818838, -0.61377988986608, 0.7650252956818838, -0.61377988986608, 0.7650252956818838, -0.16893543057890045, 0.6446204615483822, -0.027139297389509744, -0.0753574078845986, -0.0753574078845986, -0.07432706355338695, -0.61377988986608, 0.7650252956818838, -0.07432706355338695, -0.07432706355338695, -0.16893543057890045, -0.07432706355338695, -0.61377988986608, 0.7650252956818838, -0.07432706355338695, 0.7650252956818838, 0.7650252956818838, -0.61377988986608, -0.0753574078845986, -0.03718903933522426, -0.61377988986608, -0.61377988986608, 0.0016016845459582948, 0.7650252956818838, -0.07432706355338695, 0.7650252956818838, -0.0753574078845986, -0.03718903933522426, -0.61377988986608, -0.61377988986608, -0.16893543057890045, -0.027139297389509744, -0.16893543057890045, -0.0753574078845986, -0.61377988986608, -0.61377988986608, -0.16893543057890045, -0.61377988986608, -0.027139297389509744, 0.7650252956818838, -0.027139297389509744, -0.031388105288627344, 0.7650252956818838, -0.16893543057890045, -0.03718903933522426, 0.7650252956818838, -0.16893543057890045, -0.0753574078845986, -0.16893543057890045, -0.61377988986608, 0.7650252956818838, -0.027139297389509744, -0.61377988986608, -0.61377988986608, 0.7650252956818838, 0.7650252956818838, -0.031388105288627344, -0.0753574078845986, -0.03718903933522426, 0.0016016845459582948, -0.61377988986608, -0.031388105288627344, -0.16893543057890045, -0.16893543057890045, -0.61377988986608, -0.07432706355338695, -0.61377988986608, -0.03718903933522426, -0.61377988986608, -0.03718903933522426, -0.61377988986608, -0.07432706355338695, -0.07432706355338695, 0.7650252956818838, -0.027139297389509744, -0.03718903933522426, -0.027139297389509744, -0.0753574078845986, -0.61377988986608, 0.0016016845459582948, -0.16893543057890045, -0.03718903933522426, 0.7650252956818838, -0.03718903933522426, -0.07432706355338695, -0.16893543057890045, 0.0016016845459582948, -0.027139297389509744, 0.7650252956818838, -0.07432706355338695, -0.16893543057890045, -0.16893543057890045, -0.0753574078845986, -0.61377988986608, -0.2111949522223989, -0.03718903933522426, -0.0753574078845986, 0.7650252956818838, -0.027139297389509744, -0.16893543057890045, 0.7650252956818838, -0.61377988986608, 0.7650252956818838, 0.0016016845459582948, -0.61377988986608, -0.03718903933522426, -0.027139297389509744, -0.03718903933522426, -0.04106162996833128, -0.61377988986608, 0.7650252956818838, -0.61377988986608, -0.61377988986608, 0.7650252956818838, -0.04106162996833128, 0.7650252956818838, -0.61377988986608, 0.7650252956818838, -0.0753574078845986, -0.16893543057890045, -0.16893543057890045, -0.61377988986608, 0.7650252956818838, -0.0753574078845986, 0.0016016845459582948, -0.03718903933522426, 0.7650252956818838, -0.16893543057890045, -0.07432706355338695, -0.031388105288627344, 0.7650252956818838, 0.0016016845459582948, 0.0016016845459582948, -0.07432706355338695, -0.16893543057890045, -0.61377988986608, -0.0753574078845986, 0.0016016845459582948, 0.7650252956818838, -0.61377988986608, -0.027139297389509744, -0.03718903933522426, 0.7650252956818838, -0.16893543057890045, -0.61377988986608, 0.7650252956818838, -0.03718903933522426, -0.03718903933522426, -0.61377988986608, -0.16893543057890045, -0.03718903933522426, -0.16893543057890045, 0.7650252956818838, -0.03718903933522426, -0.16893543057890045, -0.61377988986608, -0.16893543057890045, -0.61377988986608, -0.03718903933522426, 0.7650252956818838, -0.03718903933522426, -0.16893543057890045, -0.61377988986608, -0.16893543057890045, 0.7650252956818838, -0.0753574078845986, -0.07432706355338695, -0.61377988986608, 0.7650252956818838, -0.03718903933522426, 0.7650252956818838, -0.61377988986608, -0.027139297389509744, -0.03718903933522426, 0.7650252956818838, 0.7650252956818838, -0.03718903933522426, 0.7650252956818838, 0.0016016845459582948, 0.8332912834762414, -0.0753574078845986, -0.03718903933522426, 0.7650252956818838, -0.21119495222348939, -0.16893543057890045, -0.07432706355338695, 0.7650252956818838, 0.7650252956818838, -0.61377988986608, -0.0753574078845986, 0.0016016845459582948, -0.16893543057890045, 0.0016016845459582948, 0.7650252956818838, -0.61377988986608, -0.0753574078845986, 0.7650252956818838, -0.027139297389509744, -0.16893543057890045, -0.16893543057890045, 0.7650252956818838, -0.03718903933522426, -0.07432706355338695, -0.61377988986608, -0.027139297389509744, 0.7650252956818838, 0.0016016845459582948, -0.07432706355338695, -0.03718903933522426, -0.027139297389509744, -0.0753574078845986, 0.7650252956818838, -0.027139297389509744, -0.0753574078845986, -0.027139297389509744, 0.7650252956818838, -0.07432706355338695, -0.0753574078845986, -0.61377988986608, -0.16893543057890045, -0.61377988986608, -0.03718903933522426, 0.7650252956818838, -0.61377988986608, -0.61377988986608, -0.0753574078845986, 0.7650252956818838, -0.61377988986608, 0.7650252956818838, 0.7650252956818838, -0.07432706355338695, -0.16893543057890045, -0.031388105288627344, -0.03718903933522426, -0.03718903933522426, -0.16893543057890045, -0.03718903933522426, -0.61377988986608, -0.07432706355338695, 0.7650252956818838, -0.61377988986608, 0.7650252956818838, 0.7650252956818838, 0.7650252956818838, -0.03718903933522426, -0.61377988986608, -0.04106162996833128, -0.027139297389509744, -0.031388105288627344, 0.7650252956818838, -0.03718903933522426, 0.7650252956818838, 0.7650252956818838, -0.07432706355338695, -0.0753574078845986, -0.61377988986608, -0.031388105288627344, -0.03718903933522426, -0.61377988986608, -0.16893543057890045, -0.61377988986608, -0.07432706355338695, -0.16893543057890045, -0.027139297389509744, -0.61377988986608, 0.7650252956818838, -0.0753574078845986, -0.03718903933522426, -0.03718903933522426, -0.61377988986608, 0.7650252956818838, 0.0016016845459582948, -0.031388105288627344, -0.0753574078845986, -0.61377988986608, -0.61377988986608, -0.027139297389509744, 0.7650252956818838, 0.7650252956818838, -0.61377988986608, -0.03718903933522426, -0.61377988986608, -0.0753574078845986, 0.7650252956818838, -0.16893543057890045, 0.0016016845459582948, -0.16893543057890045, 0.0016016845459582948, -0.0753574078845986, -0.61377988986608, -0.027139297389509744, -0.03718903933522426, 0.7650252956818838, 0.7650252956818838, -0.027139297389509744, -0.027139297389509744, 0.0016016845459582948, -0.03718903933522426, -0.16893543057890045, -0.0753574078845986, -0.03718903933522426, -0.027139297389509744, -0.16893543057890045, -0.61377988986608, -0.03718903933522426, -0.61377988986608, 0.7650252956818838, -0.03718903933522426, 0.7650252956818838, 0.7650252956818838, -0.61377988986608, -0.0753574078845986, 0.7650252956818838, -0.027139297389509744, -0.0753574078845986, 0.7650252956818838, 0.7650252956818838, -0.61377988986608, -0.031388105288627344, -0.61377988986608, -0.07432706355338695, -0.07432706355338695, -0.0753574078845986, 0.7650252956818838, -0.027139297389509744, 0.7650252956818838, 0.7650252956818838, -0.03718903933522426, -0.0753574078845986, -0.027139297389509744, -0.61377988986608, 0.0016016845459582948, 0.0016016845459582948, -0.03718903933522426, -0.07432706355338695, 0.7650252956818838, -0.61377988986608, -0.03718903933522426, -0.61377988986608, -0.61377988986608, -0.0753574078845986, -0.031388105288627344, -0.61377988986608, 0.7650252956818838, -0.0753574078845986, -0.027139297389509744, -0.16893543057890045, -0.027139297389509744, -0.027139297389509744, -0.61377988986608, 0.7650252956818838, -0.16893543057890045, -0.027139297389509744, -0.16893543057890045, -0.07432706355338695, 0.7650252956818838, 0.7650252956818838, -0.03718903933522426, -0.61377988986608, -0.027139297389509744, -0.16893543057890045, 0.7650252956818838, 0.0016016845459582948, -0.61377988986608, -0.027139297389509744, -0.16893543057890045, 0.7650252956818838, 0.7650252956818838, -0.07432706355338695, -0.61377988986608, 0.7650252956818838, 0.0016016845459582948, 0.0016016845459582948, -0.03718903933522426, -0.16893543057890045, -0.61377988986608, -0.61377988986608, -0.16893543057890045, -0.03718903933522426, 0.7650252956818838, -0.027139297389509744, 0.7650252956818838, -0.03718903933522426, -0.16893543057890045, -0.61377988986608, -0.61377988986608, -0.16893543057890045, -0.0753574078845986, -0.0753574078845986, 0.7650252956818838, -0.07432706355338695, -0.07432706355338695, -0.16893543057890045, -0.07432706355338695, -0.16893543057890045, -0.07791504117817659, -0.16893543057890045, -0.61377988986608, 0.7650252956818838, -0.16893543057890045, -0.07432706355338695, -0.16893543057890045, -0.61377988986608, -0.61377988986608, -0.61377988986608, -0.61377988986608, -0.07432706355338695, -0.61377988986608, -0.06766818362468396, -0.027139297389509744, -0.0753574078845986, -0.03718903933522426, -0.0753574078845986, -0.027139297389509744, -0.61377988986608, 0.7650252956818838, -0.04106162996833128, -0.07432706355338695, -0.07432706355338695, -0.07432706355338695, -0.027139297389509744, 0.7650252956818838, -0.16893543057890045, -0.61377988986608, -0.61377988986608, -0.0753574078845986, -0.0753574078845986, -0.03718903933522426, -0.027139297389509744, -0.07432706355338695, -0.027139297389509744, -0.07432706355338695, -0.16893543057890045, 0.0016016845459582948], \"y\": [0.19659058463687712, -0.2502871801254648, 0.22109117059248157, 0.929596234164688, 0.25425556316265635, 0.22162637814246122, -0.040546380217286154, -0.33383096054190486, -0.3291491744830304, 0.22162637814246122, 0.8916168744497094, -0.21983408696730058, 0.8916168744497094, -0.040546380217286154, 0.8916168744497094, 0.8916168744497094, 0.8916168744497094, 0.29172136684825595, 0.8916168744497094, -0.5146360303472433, -0.6286329039218473, 0.8916168744497094, -0.4539198704091452, 0.3055479103280042, -0.034735175606401575, 0.8936214542552966, -0.15143036881578664, -0.034735175606398494, -0.151430368815807, 0.9016874931829482, -0.041004342764247, 0.1596932993896936, -0.32860794715332714, -0.977427011553581, -0.2223170651777685, -0.977427011553588, 0.23057999575169907, 0.7141056036115712, -0.04100434276423456, -0.2223170651777492, -0.9774270115536059, -0.0410043427642626, 0.3055479103279994, 0.7849922999735348, -0.3325053636397968, -0.6234098905332699, 0.22412959989623407, 0.29501629625820674, 0.4227502377083302, 0.9016874931829374, -0.6357331758838303, -0.18569255483463754, -0.7141384735916789, -0.2094621342954134, 0.5547194562817095, 0.9969176936462123, 0.14570122181980136, -0.6009751769829812, 0.031704348245196995, 0.33118807768401426, 0.6197908719497581, -0.30617323360303883, -0.6009751769829812, -0.30617323360303883, -0.6009751769829812, -0.30617323360303883, 0.6197908719497581, 0.26006469869825005, 0.14570122181980136, 0.1352872315067229, 0.1352872315067229, 0.33118807768401426, -0.6009751769829812, -0.30617323360303883, 0.33118807768401426, 0.33118807768401426, 0.6197908719497581, 0.33118807768401426, -0.6009751769829812, -0.30617323360303883, 0.33118807768401426, -0.30617323360303883, -0.30617323360303883, -0.6009751769829812, 0.1352872315067229, 0.2157962105255962, -0.6009751769829812, -0.6009751769829812, 0.031704348245196995, -0.30617323360303883, 0.33118807768401426, -0.30617323360303883, 0.1352872315067229, 0.2157962105255962, -0.6009751769829812, -0.6009751769829812, 0.6197908719497581, 0.14570122181980136, 0.6197908719497581, 0.1352872315067229, -0.6009751769829812, -0.6009751769829812, 0.6197908719497581, -0.6009751769829812, 0.14570122181980136, -0.30617323360303883, 0.14570122181980136, 0.07157059653096254, -0.30617323360303883, 0.6197908719497581, 0.2157962105255962, -0.30617323360303883, 0.6197908719497581, 0.1352872315067229, 0.6197908719497581, -0.6009751769829812, -0.30617323360303883, 0.14570122181980136, -0.6009751769829812, -0.6009751769829812, -0.30617323360303883, -0.30617323360303883, 0.07157059653096254, 0.1352872315067229, 0.2157962105255962, 0.031704348245196995, -0.6009751769829812, 0.07157059653096254, 0.6197908719497581, 0.6197908719497581, -0.6009751769829812, 0.33118807768401426, -0.6009751769829812, 0.2157962105255962, -0.6009751769829812, 0.2157962105255962, -0.6009751769829812, 0.33118807768401426, 0.33118807768401426, -0.30617323360303883, 0.14570122181980136, 0.2157962105255962, 0.14570122181980136, 0.1352872315067229, -0.6009751769829812, 0.031704348245196995, 0.6197908719497581, 0.2157962105255962, -0.30617323360303883, 0.2157962105255962, 0.33118807768401426, 0.6197908719497581, 0.031704348245196995, 0.14570122181980136, -0.30617323360303883, 0.33118807768401426, 0.6197908719497581, 0.6197908719497581, 0.1352872315067229, -0.6009751769829812, 0.9119882016301584, 0.2157962105255962, 0.1352872315067229, -0.30617323360303883, 0.14570122181980136, 0.6197908719497581, -0.30617323360303883, -0.6009751769829812, -0.30617323360303883, 0.031704348245196995, -0.6009751769829812, 0.2157962105255962, 0.14570122181980136, 0.2157962105255962, 0.08695911361741214, -0.6009751769829812, -0.30617323360303883, -0.6009751769829812, -0.6009751769829812, -0.30617323360303883, 0.08695911361741214, -0.30617323360303883, -0.6009751769829812, -0.30617323360303883, 0.1352872315067229, 0.6197908719497581, 0.6197908719497581, -0.6009751769829812, -0.30617323360303883, 0.1352872315067229, 0.031704348245196995, 0.2157962105255962, -0.30617323360303883, 0.6197908719497581, 0.33118807768401426, 0.07157059653096254, -0.30617323360303883, 0.031704348245196995, 0.031704348245196995, 0.33118807768401426, 0.6197908719497581, -0.6009751769829812, 0.1352872315067229, 0.031704348245196995, -0.30617323360303883, -0.6009751769829812, 0.14570122181980136, 0.2157962105255962, -0.30617323360303883, 0.6197908719497581, -0.6009751769829812, -0.30617323360303883, 0.2157962105255962, 0.2157962105255962, -0.6009751769829812, 0.6197908719497581, 0.2157962105255962, 0.6197908719497581, -0.30617323360303883, 0.2157962105255962, 0.6197908719497581, -0.6009751769829812, 0.6197908719497581, -0.6009751769829812, 0.2157962105255962, -0.30617323360303883, 0.2157962105255962, 0.6197908719497581, -0.6009751769829812, 0.6197908719497581, -0.30617323360303883, 0.1352872315067229, 0.33118807768401426, -0.6009751769829812, -0.30617323360303883, 0.2157962105255962, -0.30617323360303883, -0.6009751769829812, 0.14570122181980136, 0.2157962105255962, -0.30617323360303883, -0.30617323360303883, 0.2157962105255962, -0.30617323360303883, 0.031704348245196995, -0.33626093945765695, 0.1352872315067229, 0.2157962105255962, -0.30617323360303883, 0.9119882016271416, 0.6197908719497581, 0.33118807768401426, -0.30617323360303883, -0.30617323360303883, -0.6009751769829812, 0.1352872315067229, 0.031704348245196995, 0.6197908719497581, 0.031704348245196995, -0.30617323360303883, -0.6009751769829812, 0.1352872315067229, -0.30617323360303883, 0.14570122181980136, 0.6197908719497581, 0.6197908719497581, -0.30617323360303883, 0.2157962105255962, 0.33118807768401426, -0.6009751769829812, 0.14570122181980136, -0.30617323360303883, 0.031704348245196995, 0.33118807768401426, 0.2157962105255962, 0.14570122181980136, 0.1352872315067229, -0.30617323360303883, 0.14570122181980136, 0.1352872315067229, 0.14570122181980136, -0.30617323360303883, 0.33118807768401426, 0.1352872315067229, -0.6009751769829812, 0.6197908719497581, -0.6009751769829812, 0.2157962105255962, -0.30617323360303883, -0.6009751769829812, -0.6009751769829812, 0.1352872315067229, -0.30617323360303883, -0.6009751769829812, -0.30617323360303883, -0.30617323360303883, 0.33118807768401426, 0.6197908719497581, 0.07157059653096254, 0.2157962105255962, 0.2157962105255962, 0.6197908719497581, 0.2157962105255962, -0.6009751769829812, 0.33118807768401426, -0.30617323360303883, -0.6009751769829812, -0.30617323360303883, -0.30617323360303883, -0.30617323360303883, 0.2157962105255962, -0.6009751769829812, 0.08695911361741214, 0.14570122181980136, 0.07157059653096254, -0.30617323360303883, 0.2157962105255962, -0.30617323360303883, -0.30617323360303883, 0.33118807768401426, 0.1352872315067229, -0.6009751769829812, 0.07157059653096254, 0.2157962105255962, -0.6009751769829812, 0.6197908719497581, -0.6009751769829812, 0.33118807768401426, 0.6197908719497581, 0.14570122181980136, -0.6009751769829812, -0.30617323360303883, 0.1352872315067229, 0.2157962105255962, 0.2157962105255962, -0.6009751769829812, -0.30617323360303883, 0.031704348245196995, 0.07157059653096254, 0.1352872315067229, -0.6009751769829812, -0.6009751769829812, 0.14570122181980136, -0.30617323360303883, -0.30617323360303883, -0.6009751769829812, 0.2157962105255962, -0.6009751769829812, 0.1352872315067229, -0.30617323360303883, 0.6197908719497581, 0.031704348245196995, 0.6197908719497581, 0.031704348245196995, 0.1352872315067229, -0.6009751769829812, 0.14570122181980136, 0.2157962105255962, -0.30617323360303883, -0.30617323360303883, 0.14570122181980136, 0.14570122181980136, 0.031704348245196995, 0.2157962105255962, 0.6197908719497581, 0.1352872315067229, 0.2157962105255962, 0.14570122181980136, 0.6197908719497581, -0.6009751769829812, 0.2157962105255962, -0.6009751769829812, -0.30617323360303883, 0.2157962105255962, -0.30617323360303883, -0.30617323360303883, -0.6009751769829812, 0.1352872315067229, -0.30617323360303883, 0.14570122181980136, 0.1352872315067229, -0.30617323360303883, -0.30617323360303883, -0.6009751769829812, 0.07157059653096254, -0.6009751769829812, 0.33118807768401426, 0.33118807768401426, 0.1352872315067229, -0.30617323360303883, 0.14570122181980136, -0.30617323360303883, -0.30617323360303883, 0.2157962105255962, 0.1352872315067229, 0.14570122181980136, -0.6009751769829812, 0.031704348245196995, 0.031704348245196995, 0.2157962105255962, 0.33118807768401426, -0.30617323360303883, -0.6009751769829812, 0.2157962105255962, -0.6009751769829812, -0.6009751769829812, 0.1352872315067229, 0.07157059653096254, -0.6009751769829812, -0.30617323360303883, 0.1352872315067229, 0.14570122181980136, 0.6197908719497581, 0.14570122181980136, 0.14570122181980136, -0.6009751769829812, -0.30617323360303883, 0.6197908719497581, 0.14570122181980136, 0.6197908719497581, 0.33118807768401426, -0.30617323360303883, -0.30617323360303883, 0.2157962105255962, -0.6009751769829812, 0.14570122181980136, 0.6197908719497581, -0.30617323360303883, 0.031704348245196995, -0.6009751769829812, 0.14570122181980136, 0.6197908719497581, -0.30617323360303883, -0.30617323360303883, 0.33118807768401426, -0.6009751769829812, -0.30617323360303883, 0.031704348245196995, 0.031704348245196995, 0.2157962105255962, 0.6197908719497581, -0.6009751769829812, -0.6009751769829812, 0.6197908719497581, 0.2157962105255962, -0.30617323360303883, 0.14570122181980136, -0.30617323360303883, 0.2157962105255962, 0.6197908719497581, -0.6009751769829812, -0.6009751769829812, 0.6197908719497581, 0.1352872315067229, 0.1352872315067229, -0.30617323360303883, 0.33118807768401426, 0.33118807768401426, 0.6197908719497581, 0.33118807768401426, 0.6197908719497581, 0.29838650697881597, 0.6197908719497581, -0.6009751769829812, -0.30617323360303883, 0.6197908719497581, 0.33118807768401426, 0.6197908719497581, -0.6009751769829812, -0.6009751769829812, -0.6009751769829812, -0.6009751769829812, 0.33118807768401426, -0.6009751769829812, 0.22669001432276975, 0.14570122181980136, 0.1352872315067229, 0.2157962105255962, 0.1352872315067229, 0.14570122181980136, -0.6009751769829812, -0.30617323360303883, 0.08695911361741214, 0.33118807768401426, 0.33118807768401426, 0.33118807768401426, 0.14570122181980136, -0.30617323360303883, 0.6197908719497581, -0.6009751769829812, -0.6009751769829812, 0.1352872315067229, 0.1352872315067229, 0.2157962105255962, 0.14570122181980136, 0.33118807768401426, 0.14570122181980136, 0.33118807768401426, 0.6197908719497581, 0.031704348245196995], \"z\": [0.031297953811721804, -0.20320311265112698, 0.7533238003381101, 0.72603777005326, 0.7606530320053411, -0.7427922698716107, 0.7306479152563681, 0.14522750910775387, 0.37410351738934744, -0.7427922698716107, 0.7173051202527683, -0.17330325850453132, 0.7173051202527683, 0.7306479152563681, 0.7173051202527683, 0.7173051202527683, 0.7173051202527683, -0.8980962571159214, 0.7173051202527683, -0.20330837525350434, 0.11522239235878105, 0.7173051202527683, -0.5188203715364419, -0.9624188645209076, 0.4096642839569926, 0.7368972415741294, -0.3331249091487857, 0.40966428395698967, -0.3331249091487834, 0.7271665677086111, 0.7406927982788792, -0.4919156828214566, 0.13985083713805213, 0.4231905145272625, -0.1756858164009327, 0.42319051452726425, -0.6493547755693164, 0.14181646735069312, 0.7406927982788807, -0.1756858164009478, 0.42319051452726625, 0.7406927982788932, -0.9624188645209044, -0.015622625397157442, 0.14043495193506672, 0.10984572038907922, -0.7530041124089386, -0.910443205156778, -0.22202784222680616, 0.7271665677086112, 0.11680645963211636, -0.37615629589262023, 0.7077928670652549, -0.21206023956015238, 1.0614910833970193, -0.4241354706218591, -0.4483881740225226, 0.14236651362392916, -0.1298574064102373, 0.12902371862032902, 0.4855681164873499, 0.172371630372902, 0.14236651362392916, 0.172371630372902, 0.14236651362392916, 0.172371630372902, 0.4855681164873499, 0.7818593561090352, -0.4483881740225226, -0.3971173809941773, -0.3971173809941773, 0.12902371862032902, 0.14236651362392916, 0.172371630372902, 0.12902371862032902, 0.12902371862032902, 0.4855681164873499, 0.12902371862032902, 0.14236651362392916, 0.172371630372902, 0.12902371862032902, 0.172371630372902, 0.172371630372902, 0.14236651362392916, -0.3971173809941773, -0.6036921612668333, 0.14236651362392916, 0.14236651362392916, -0.1298574064102373, 0.172371630372902, 0.12902371862032902, 0.172371630372902, -0.3971173809941773, -0.6036921612668333, 0.14236651362392916, 0.14236651362392916, 0.4855681164873499, -0.4483881740225226, 0.4855681164873499, -0.3971173809941773, 0.14236651362392916, 0.14236651362392916, 0.4855681164873499, 0.14236651362392916, -0.4483881740225226, 0.172371630372902, -0.4483881740225226, -0.13956969425700685, 0.172371630372902, 0.4855681164873499, -0.6036921612668333, 0.172371630372902, 0.4855681164873499, -0.3971173809941773, 0.4855681164873499, 0.14236651362392916, 0.172371630372902, -0.4483881740225226, 0.14236651362392916, 0.14236651362392916, 0.172371630372902, 0.172371630372902, -0.13956969425700685, -0.3971173809941773, -0.6036921612668333, -0.1298574064102373, 0.14236651362392916, -0.13956969425700685, 0.4855681164873499, 0.4855681164873499, 0.14236651362392916, 0.12902371862032902, 0.14236651362392916, -0.6036921612668333, 0.14236651362392916, -0.6036921612668333, 0.14236651362392916, 0.12902371862032902, 0.12902371862032902, 0.172371630372902, -0.4483881740225226, -0.6036921612668333, -0.4483881740225226, -0.3971173809941773, 0.14236651362392916, -0.1298574064102373, 0.4855681164873499, -0.6036921612668333, 0.172371630372902, -0.6036921612668333, 0.12902371862032902, 0.4855681164873499, -0.1298574064102373, -0.4483881740225226, 0.172371630372902, 0.12902371862032902, 0.4855681164873499, 0.4855681164873499, -0.3971173809941773, 0.14236651362392916, 0.7373029434739748, -0.6036921612668333, -0.3971173809941773, 0.172371630372902, -0.4483881740225226, 0.4855681164873499, 0.172371630372902, 0.14236651362392916, 0.172371630372902, -0.1298574064102373, 0.14236651362392916, -0.6036921612668333, -0.4483881740225226, -0.6036921612668333, -0.1038267746478139, 0.14236651362392916, 0.172371630372902, 0.14236651362392916, 0.14236651362392916, 0.172371630372902, -0.1038267746478139, 0.172371630372902, 0.14236651362392916, 0.172371630372902, -0.3971173809941773, 0.4855681164873499, 0.4855681164873499, 0.14236651362392916, 0.172371630372902, -0.3971173809941773, -0.1298574064102373, -0.6036921612668333, 0.172371630372902, 0.4855681164873499, 0.12902371862032902, -0.13956969425700685, 0.172371630372902, -0.1298574064102373, -0.1298574064102373, 0.12902371862032902, 0.4855681164873499, 0.14236651362392916, -0.3971173809941773, -0.1298574064102373, 0.172371630372902, 0.14236651362392916, -0.4483881740225226, -0.6036921612668333, 0.172371630372902, 0.4855681164873499, 0.14236651362392916, 0.172371630372902, -0.6036921612668333, -0.6036921612668333, 0.14236651362392916, 0.4855681164873499, -0.6036921612668333, 0.4855681164873499, 0.172371630372902, -0.6036921612668333, 0.4855681164873499, 0.14236651362392916, 0.4855681164873499, 0.14236651362392916, -0.6036921612668333, 0.172371630372902, -0.6036921612668333, 0.4855681164873499, 0.14236651362392916, 0.4855681164873499, 0.172371630372902, -0.3971173809941773, 0.12902371862032902, 0.14236651362392916, 0.172371630372902, -0.6036921612668333, 0.172371630372902, 0.14236651362392916, -0.4483881740225226, -0.6036921612668333, 0.172371630372902, 0.172371630372902, -0.6036921612668333, 0.172371630372902, -0.1298574064102373, 0.1423656392718371, -0.3971173809941773, -0.6036921612668333, 0.172371630372902, 0.7373029434738926, 0.4855681164873499, 0.12902371862032902, 0.172371630372902, 0.172371630372902, 0.14236651362392916, -0.3971173809941773, -0.1298574064102373, 0.4855681164873499, -0.1298574064102373, 0.172371630372902, 0.14236651362392916, -0.3971173809941773, 0.172371630372902, -0.4483881740225226, 0.4855681164873499, 0.4855681164873499, 0.172371630372902, -0.6036921612668333, 0.12902371862032902, 0.14236651362392916, -0.4483881740225226, 0.172371630372902, -0.1298574064102373, 0.12902371862032902, -0.6036921612668333, -0.4483881740225226, -0.3971173809941773, 0.172371630372902, -0.4483881740225226, -0.3971173809941773, -0.4483881740225226, 0.172371630372902, 0.12902371862032902, -0.3971173809941773, 0.14236651362392916, 0.4855681164873499, 0.14236651362392916, -0.6036921612668333, 0.172371630372902, 0.14236651362392916, 0.14236651362392916, -0.3971173809941773, 0.172371630372902, 0.14236651362392916, 0.172371630372902, 0.172371630372902, 0.12902371862032902, 0.4855681164873499, -0.13956969425700685, -0.6036921612668333, -0.6036921612668333, 0.4855681164873499, -0.6036921612668333, 0.14236651362392916, 0.12902371862032902, 0.172371630372902, 0.14236651362392916, 0.172371630372902, 0.172371630372902, 0.172371630372902, -0.6036921612668333, 0.14236651362392916, -0.1038267746478139, -0.4483881740225226, -0.13956969425700685, 0.172371630372902, -0.6036921612668333, 0.172371630372902, 0.172371630372902, 0.12902371862032902, -0.3971173809941773, 0.14236651362392916, -0.13956969425700685, -0.6036921612668333, 0.14236651362392916, 0.4855681164873499, 0.14236651362392916, 0.12902371862032902, 0.4855681164873499, -0.4483881740225226, 0.14236651362392916, 0.172371630372902, -0.3971173809941773, -0.6036921612668333, -0.6036921612668333, 0.14236651362392916, 0.172371630372902, -0.1298574064102373, -0.13956969425700685, -0.3971173809941773, 0.14236651362392916, 0.14236651362392916, -0.4483881740225226, 0.172371630372902, 0.172371630372902, 0.14236651362392916, -0.6036921612668333, 0.14236651362392916, -0.3971173809941773, 0.172371630372902, 0.4855681164873499, -0.1298574064102373, 0.4855681164873499, -0.1298574064102373, -0.3971173809941773, 0.14236651362392916, -0.4483881740225226, -0.6036921612668333, 0.172371630372902, 0.172371630372902, -0.4483881740225226, -0.4483881740225226, -0.1298574064102373, -0.6036921612668333, 0.4855681164873499, -0.3971173809941773, -0.6036921612668333, -0.4483881740225226, 0.4855681164873499, 0.14236651362392916, -0.6036921612668333, 0.14236651362392916, 0.172371630372902, -0.6036921612668333, 0.172371630372902, 0.172371630372902, 0.14236651362392916, -0.3971173809941773, 0.172371630372902, -0.4483881740225226, -0.3971173809941773, 0.172371630372902, 0.172371630372902, 0.14236651362392916, -0.13956969425700685, 0.14236651362392916, 0.12902371862032902, 0.12902371862032902, -0.3971173809941773, 0.172371630372902, -0.4483881740225226, 0.172371630372902, 0.172371630372902, -0.6036921612668333, -0.3971173809941773, -0.4483881740225226, 0.14236651362392916, -0.1298574064102373, -0.1298574064102373, -0.6036921612668333, 0.12902371862032902, 0.172371630372902, 0.14236651362392916, -0.6036921612668333, 0.14236651362392916, 0.14236651362392916, -0.3971173809941773, -0.13956969425700685, 0.14236651362392916, 0.172371630372902, -0.3971173809941773, -0.4483881740225226, 0.4855681164873499, -0.4483881740225226, -0.4483881740225226, 0.14236651362392916, 0.172371630372902, 0.4855681164873499, -0.4483881740225226, 0.4855681164873499, 0.12902371862032902, 0.172371630372902, 0.172371630372902, -0.6036921612668333, 0.14236651362392916, -0.4483881740225226, 0.4855681164873499, 0.172371630372902, -0.1298574064102373, 0.14236651362392916, -0.4483881740225226, 0.4855681164873499, 0.172371630372902, 0.172371630372902, 0.12902371862032902, 0.14236651362392916, 0.172371630372902, -0.1298574064102373, -0.1298574064102373, -0.6036921612668333, 0.4855681164873499, 0.14236651362392916, 0.14236651362392916, 0.4855681164873499, -0.6036921612668333, 0.172371630372902, -0.4483881740225226, 0.172371630372902, -0.6036921612668333, 0.4855681164873499, 0.14236651362392916, 0.14236651362392916, 0.4855681164873499, -0.3971173809941773, -0.3971173809941773, 0.172371630372902, 0.12902371862032902, 0.12902371862032902, 0.4855681164873499, 0.12902371862032902, 0.4855681164873499, -0.9231343750342405, 0.4855681164873499, 0.14236651362392916, 0.172371630372902, 0.4855681164873499, 0.12902371862032902, 0.4855681164873499, 0.14236651362392916, 0.14236651362392916, 0.14236651362392916, 0.14236651362392916, 0.12902371862032902, 0.14236651362392916, -0.7635006519555049, -0.4483881740225226, -0.3971173809941773, -0.6036921612668333, -0.3971173809941773, -0.4483881740225226, 0.14236651362392916, 0.172371630372902, -0.1038267746478139, 0.12902371862032902, 0.12902371862032902, 0.12902371862032902, -0.4483881740225226, 0.172371630372902, 0.4855681164873499, 0.14236651362392916, 0.14236651362392916, -0.3971173809941773, -0.3971173809941773, -0.6036921612668333, -0.4483881740225226, 0.12902371862032902, -0.4483881740225226, 0.12902371862032902, 0.4855681164873499, -0.1298574064102373]}, {\"connectgaps\": true, \"marker\": {\"size\": 5}, \"mode\": \"markers\", \"name\": \"Our User A Vector\", \"type\": \"scatter3d\", \"x\": [0.02262121712684952], \"y\": [0.19659058463687712], \"z\": [0.031297953811721804]}, {\"connectgaps\": true, \"marker\": {\"size\": 5}, \"mode\": \"markers\", \"name\": \"selected User Vector\", \"type\": \"scatter3d\", \"x\": [0.8196316490386841, 0.6780108852300529, -0.21412316760230116, 0.6322200985211682, -0.06636647185592325], \"y\": [-0.2502871801254648, 0.22109117059248157, 0.929596234164688, 0.25425556316265635, 0.22162637814246122], \"z\": [-0.20320311265112698, 0.7533238003381101, 0.72603777005326, 0.7606530320053411, -0.7427922698716107]}],\n",
              "                        {\"template\": {\"data\": {\"bar\": [{\"error_x\": {\"color\": \"#f2f5fa\"}, \"error_y\": {\"color\": \"#f2f5fa\"}, \"marker\": {\"line\": {\"color\": \"rgb(17,17,17)\", \"width\": 0.5}}, \"type\": \"bar\"}], \"barpolar\": [{\"marker\": {\"line\": {\"color\": \"rgb(17,17,17)\", \"width\": 0.5}}, \"type\": \"barpolar\"}], \"carpet\": [{\"aaxis\": {\"endlinecolor\": \"#A2B1C6\", \"gridcolor\": \"#506784\", \"linecolor\": \"#506784\", \"minorgridcolor\": \"#506784\", \"startlinecolor\": \"#A2B1C6\"}, \"baxis\": {\"endlinecolor\": \"#A2B1C6\", \"gridcolor\": \"#506784\", \"linecolor\": \"#506784\", \"minorgridcolor\": \"#506784\", \"startlinecolor\": \"#A2B1C6\"}, \"type\": \"carpet\"}], \"choropleth\": [{\"colorbar\": {\"outlinewidth\": 0, \"ticks\": \"\"}, \"type\": \"choropleth\"}], \"contour\": [{\"colorbar\": {\"outlinewidth\": 0, \"ticks\": \"\"}, \"colorscale\": [[0.0, \"#0d0887\"], [0.1111111111111111, \"#46039f\"], [0.2222222222222222, \"#7201a8\"], [0.3333333333333333, \"#9c179e\"], [0.4444444444444444, \"#bd3786\"], [0.5555555555555556, \"#d8576b\"], [0.6666666666666666, \"#ed7953\"], [0.7777777777777778, \"#fb9f3a\"], [0.8888888888888888, \"#fdca26\"], [1.0, \"#f0f921\"]], \"type\": \"contour\"}], \"contourcarpet\": [{\"colorbar\": {\"outlinewidth\": 0, \"ticks\": \"\"}, \"type\": \"contourcarpet\"}], \"heatmap\": [{\"colorbar\": {\"outlinewidth\": 0, \"ticks\": \"\"}, \"colorscale\": [[0.0, \"#0d0887\"], [0.1111111111111111, \"#46039f\"], [0.2222222222222222, \"#7201a8\"], [0.3333333333333333, \"#9c179e\"], [0.4444444444444444, \"#bd3786\"], [0.5555555555555556, \"#d8576b\"], [0.6666666666666666, \"#ed7953\"], [0.7777777777777778, \"#fb9f3a\"], [0.8888888888888888, \"#fdca26\"], [1.0, \"#f0f921\"]], \"type\": \"heatmap\"}], \"heatmapgl\": [{\"colorbar\": {\"outlinewidth\": 0, \"ticks\": \"\"}, \"colorscale\": [[0.0, \"#0d0887\"], [0.1111111111111111, \"#46039f\"], [0.2222222222222222, \"#7201a8\"], [0.3333333333333333, \"#9c179e\"], [0.4444444444444444, \"#bd3786\"], [0.5555555555555556, \"#d8576b\"], [0.6666666666666666, \"#ed7953\"], [0.7777777777777778, \"#fb9f3a\"], [0.8888888888888888, \"#fdca26\"], [1.0, \"#f0f921\"]], \"type\": \"heatmapgl\"}], \"histogram\": [{\"marker\": {\"colorbar\": {\"outlinewidth\": 0, \"ticks\": \"\"}}, \"type\": \"histogram\"}], \"histogram2d\": [{\"colorbar\": {\"outlinewidth\": 0, \"ticks\": \"\"}, \"colorscale\": [[0.0, \"#0d0887\"], [0.1111111111111111, \"#46039f\"], [0.2222222222222222, \"#7201a8\"], [0.3333333333333333, \"#9c179e\"], [0.4444444444444444, \"#bd3786\"], [0.5555555555555556, \"#d8576b\"], [0.6666666666666666, \"#ed7953\"], [0.7777777777777778, \"#fb9f3a\"], [0.8888888888888888, \"#fdca26\"], [1.0, \"#f0f921\"]], \"type\": \"histogram2d\"}], \"histogram2dcontour\": [{\"colorbar\": {\"outlinewidth\": 0, \"ticks\": \"\"}, \"colorscale\": [[0.0, \"#0d0887\"], [0.1111111111111111, \"#46039f\"], [0.2222222222222222, \"#7201a8\"], [0.3333333333333333, \"#9c179e\"], [0.4444444444444444, \"#bd3786\"], [0.5555555555555556, \"#d8576b\"], [0.6666666666666666, \"#ed7953\"], [0.7777777777777778, \"#fb9f3a\"], [0.8888888888888888, \"#fdca26\"], [1.0, \"#f0f921\"]], \"type\": \"histogram2dcontour\"}], \"mesh3d\": [{\"colorbar\": {\"outlinewidth\": 0, \"ticks\": \"\"}, \"type\": \"mesh3d\"}], \"parcoords\": [{\"line\": {\"colorbar\": {\"outlinewidth\": 0, \"ticks\": \"\"}}, \"type\": \"parcoords\"}], \"pie\": [{\"automargin\": true, \"type\": \"pie\"}], \"scatter\": [{\"marker\": {\"line\": {\"color\": \"#283442\"}}, \"type\": \"scatter\"}], \"scatter3d\": [{\"line\": {\"colorbar\": {\"outlinewidth\": 0, \"ticks\": \"\"}}, \"marker\": {\"colorbar\": {\"outlinewidth\": 0, \"ticks\": \"\"}}, \"type\": \"scatter3d\"}], \"scattercarpet\": [{\"marker\": {\"colorbar\": {\"outlinewidth\": 0, \"ticks\": \"\"}}, \"type\": \"scattercarpet\"}], \"scattergeo\": [{\"marker\": {\"colorbar\": {\"outlinewidth\": 0, \"ticks\": \"\"}}, \"type\": \"scattergeo\"}], \"scattergl\": [{\"marker\": {\"line\": {\"color\": \"#283442\"}}, \"type\": \"scattergl\"}], \"scattermapbox\": [{\"marker\": {\"colorbar\": {\"outlinewidth\": 0, \"ticks\": \"\"}}, \"type\": \"scattermapbox\"}], \"scatterpolar\": [{\"marker\": {\"colorbar\": {\"outlinewidth\": 0, \"ticks\": \"\"}}, \"type\": \"scatterpolar\"}], \"scatterpolargl\": [{\"marker\": {\"colorbar\": {\"outlinewidth\": 0, \"ticks\": \"\"}}, \"type\": \"scatterpolargl\"}], \"scatterternary\": [{\"marker\": {\"colorbar\": {\"outlinewidth\": 0, \"ticks\": \"\"}}, \"type\": \"scatterternary\"}], \"surface\": [{\"colorbar\": {\"outlinewidth\": 0, \"ticks\": \"\"}, \"colorscale\": [[0.0, \"#0d0887\"], [0.1111111111111111, \"#46039f\"], [0.2222222222222222, \"#7201a8\"], [0.3333333333333333, \"#9c179e\"], [0.4444444444444444, \"#bd3786\"], [0.5555555555555556, \"#d8576b\"], [0.6666666666666666, \"#ed7953\"], [0.7777777777777778, \"#fb9f3a\"], [0.8888888888888888, \"#fdca26\"], [1.0, \"#f0f921\"]], \"type\": \"surface\"}], \"table\": [{\"cells\": {\"fill\": {\"color\": \"#506784\"}, \"line\": {\"color\": \"rgb(17,17,17)\"}}, \"header\": {\"fill\": {\"color\": \"#2a3f5f\"}, \"line\": {\"color\": \"rgb(17,17,17)\"}}, \"type\": \"table\"}]}, \"layout\": {\"annotationdefaults\": {\"arrowcolor\": \"#f2f5fa\", \"arrowhead\": 0, \"arrowwidth\": 1}, \"coloraxis\": {\"colorbar\": {\"outlinewidth\": 0, \"ticks\": \"\"}}, \"colorscale\": {\"diverging\": [[0, \"#8e0152\"], [0.1, \"#c51b7d\"], [0.2, \"#de77ae\"], [0.3, \"#f1b6da\"], [0.4, \"#fde0ef\"], [0.5, \"#f7f7f7\"], [0.6, \"#e6f5d0\"], [0.7, \"#b8e186\"], [0.8, \"#7fbc41\"], [0.9, \"#4d9221\"], [1, \"#276419\"]], \"sequential\": [[0.0, \"#0d0887\"], [0.1111111111111111, \"#46039f\"], [0.2222222222222222, \"#7201a8\"], [0.3333333333333333, \"#9c179e\"], [0.4444444444444444, \"#bd3786\"], [0.5555555555555556, \"#d8576b\"], [0.6666666666666666, \"#ed7953\"], [0.7777777777777778, \"#fb9f3a\"], [0.8888888888888888, \"#fdca26\"], [1.0, \"#f0f921\"]], \"sequentialminus\": [[0.0, \"#0d0887\"], [0.1111111111111111, \"#46039f\"], [0.2222222222222222, \"#7201a8\"], [0.3333333333333333, \"#9c179e\"], [0.4444444444444444, \"#bd3786\"], [0.5555555555555556, \"#d8576b\"], [0.6666666666666666, \"#ed7953\"], [0.7777777777777778, \"#fb9f3a\"], [0.8888888888888888, \"#fdca26\"], [1.0, \"#f0f921\"]]}, \"colorway\": [\"#636efa\", \"#EF553B\", \"#00cc96\", \"#ab63fa\", \"#FFA15A\", \"#19d3f3\", \"#FF6692\", \"#B6E880\", \"#FF97FF\", \"#FECB52\"], \"font\": {\"color\": \"#f2f5fa\"}, \"geo\": {\"bgcolor\": \"rgb(17,17,17)\", \"lakecolor\": \"rgb(17,17,17)\", \"landcolor\": \"rgb(17,17,17)\", \"showlakes\": true, \"showland\": true, \"subunitcolor\": \"#506784\"}, \"hoverlabel\": {\"align\": \"left\"}, \"hovermode\": \"closest\", \"mapbox\": {\"style\": \"dark\"}, \"paper_bgcolor\": \"rgb(17,17,17)\", \"plot_bgcolor\": \"rgb(17,17,17)\", \"polar\": {\"angularaxis\": {\"gridcolor\": \"#506784\", \"linecolor\": \"#506784\", \"ticks\": \"\"}, \"bgcolor\": \"rgb(17,17,17)\", \"radialaxis\": {\"gridcolor\": \"#506784\", \"linecolor\": \"#506784\", \"ticks\": \"\"}}, \"scene\": {\"xaxis\": {\"backgroundcolor\": \"rgb(17,17,17)\", \"gridcolor\": \"#506784\", \"gridwidth\": 2, \"linecolor\": \"#506784\", \"showbackground\": true, \"ticks\": \"\", \"zerolinecolor\": \"#C8D4E3\"}, \"yaxis\": {\"backgroundcolor\": \"rgb(17,17,17)\", \"gridcolor\": \"#506784\", \"gridwidth\": 2, \"linecolor\": \"#506784\", \"showbackground\": true, \"ticks\": \"\", \"zerolinecolor\": \"#C8D4E3\"}, \"zaxis\": {\"backgroundcolor\": \"rgb(17,17,17)\", \"gridcolor\": \"#506784\", \"gridwidth\": 2, \"linecolor\": \"#506784\", \"showbackground\": true, \"ticks\": \"\", \"zerolinecolor\": \"#C8D4E3\"}}, \"shapedefaults\": {\"line\": {\"color\": \"#f2f5fa\"}}, \"sliderdefaults\": {\"bgcolor\": \"#C8D4E3\", \"bordercolor\": \"rgb(17,17,17)\", \"borderwidth\": 1, \"tickwidth\": 0}, \"ternary\": {\"aaxis\": {\"gridcolor\": \"#506784\", \"linecolor\": \"#506784\", \"ticks\": \"\"}, \"baxis\": {\"gridcolor\": \"#506784\", \"linecolor\": \"#506784\", \"ticks\": \"\"}, \"bgcolor\": \"rgb(17,17,17)\", \"caxis\": {\"gridcolor\": \"#506784\", \"linecolor\": \"#506784\", \"ticks\": \"\"}}, \"title\": {\"x\": 0.05}, \"updatemenudefaults\": {\"bgcolor\": \"#506784\", \"borderwidth\": 0}, \"xaxis\": {\"automargin\": true, \"gridcolor\": \"#283442\", \"linecolor\": \"#506784\", \"ticks\": \"\", \"title\": {\"standoff\": 15}, \"zerolinecolor\": \"#283442\", \"zerolinewidth\": 2}, \"yaxis\": {\"automargin\": true, \"gridcolor\": \"#283442\", \"linecolor\": \"#506784\", \"ticks\": \"\", \"title\": {\"standoff\": 15}, \"zerolinecolor\": \"#283442\", \"zerolinewidth\": 2}}}},\n",
              "                        {\"responsive\": true}\n",
              "                    ).then(function(){\n",
              "                            \n",
              "var gd = document.getElementById('e37b714d-4c9b-4c2b-8a5d-afdeda6b470e');\n",
              "var x = new MutationObserver(function (mutations, observer) {{\n",
              "        var display = window.getComputedStyle(gd).display;\n",
              "        if (!display || display === 'none') {{\n",
              "            console.log([gd, 'removed!']);\n",
              "            Plotly.purge(gd);\n",
              "            observer.disconnect();\n",
              "        }}\n",
              "}});\n",
              "\n",
              "// Listen for the removal of the full notebook cells\n",
              "var notebookContainer = gd.closest('#notebook-container');\n",
              "if (notebookContainer) {{\n",
              "    x.observe(notebookContainer, {childList: true});\n",
              "}}\n",
              "\n",
              "// Listen for the clearing of the current output cell\n",
              "var outputEl = gd.closest('.output');\n",
              "if (outputEl) {{\n",
              "    x.observe(outputEl, {childList: true});\n",
              "}}\n",
              "\n",
              "                        })\n",
              "                };\n",
              "                \n",
              "            </script>\n",
              "        </div>\n",
              "</body>\n",
              "</html>"
            ]
          },
          "metadata": {
            "tags": []
          }
        }
      ]
    }
  ]
}